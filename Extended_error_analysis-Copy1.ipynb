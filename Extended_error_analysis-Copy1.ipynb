{
 "cells": [
  {
   "cell_type": "code",
   "execution_count": 1,
   "metadata": {
    "ExecuteTime": {
     "end_time": "2020-11-09T20:16:06.299404Z",
     "start_time": "2020-11-09T20:16:05.104434Z"
    }
   },
   "outputs": [],
   "source": [
    "import sys\n",
    "sys.path.insert(1, './qpe')\n",
    "\n",
    "import error_analysis_funs as eaf"
   ]
  },
  {
   "cell_type": "code",
   "execution_count": 2,
   "metadata": {},
   "outputs": [
    {
     "name": "stderr",
     "output_type": "stream",
     "text": [
      "/home/teobrien/python_envs/standard_env_301020/lib/python3.8/site-packages/ipykernel/ipkernel.py:287: DeprecationWarning: `should_run_async` will not call `transform_cell` automatically in the future. Please pass the result to `transformed_cell` argument and any exception that happen during thetransform in `preprocessing_exc_tuple` in IPython 7.17 and above.\n",
      "  and should_run_async(code)\n"
     ]
    }
   ],
   "source": [
    "import numpy as np\n",
    "from matplotlib import pyplot as plt"
   ]
  },
  {
   "cell_type": "code",
   "execution_count": 3,
   "metadata": {},
   "outputs": [
    {
     "name": "stderr",
     "output_type": "stream",
     "text": [
      "/home/teobrien/python_envs/standard_env_301020/lib/python3.8/site-packages/ipykernel/ipkernel.py:287: DeprecationWarning: `should_run_async` will not call `transform_cell` automatically in the future. Please pass the result to `transformed_cell` argument and any exception that happen during thetransform in `preprocessing_exc_tuple` in IPython 7.17 and above.\n",
      "  and should_run_async(code)\n"
     ]
    },
    {
     "data": {
      "text/plain": [
       "<module 'error_analysis_funs' from '/home/teobrien/work/projects/heisenberg_limited_multiphase/qpe/error_analysis_funs.py'>"
      ]
     },
     "execution_count": 3,
     "metadata": {},
     "output_type": "execute_result"
    }
   ],
   "source": [
    "from importlib import reload\n",
    "reload(eaf)"
   ]
  },
  {
   "cell_type": "markdown",
   "metadata": {},
   "source": [
    "# Running simulations"
   ]
  },
  {
   "cell_type": "code",
   "execution_count": 3,
   "metadata": {
    "ExecuteTime": {
     "end_time": "2020-11-09T20:17:29.846030Z",
     "start_time": "2020-11-09T20:17:29.842474Z"
    }
   },
   "outputs": [
    {
     "name": "stderr",
     "output_type": "stream",
     "text": [
      "/home/teobrien/python_envs/standard_env_301020/lib/python3.8/site-packages/ipykernel/ipkernel.py:287: DeprecationWarning: `should_run_async` will not call `transform_cell` automatically in the future. Please pass the result to `transformed_cell` argument and any exception that happen during thetransform in `preprocessing_exc_tuple` in IPython 7.17 and above.\n",
      "  and should_run_async(code)\n"
     ]
    }
   ],
   "source": [
    "delta = 0.2\n",
    "num_phases = 5\n",
    "\n",
    "max_order = 10\n",
    "\n",
    "confidence_alpha = 0.25\n",
    "confidence_beta = 0.05\n",
    "\n",
    "num_repetitions = 100\n",
    "\n",
    "cutoff = 0.3 / num_phases"
   ]
  },
  {
   "cell_type": "code",
   "execution_count": 26,
   "metadata": {
    "ExecuteTime": {
     "end_time": "2020-11-09T20:20:29.250318Z",
     "start_time": "2020-11-09T20:17:32.700017Z"
    },
    "scrolled": true
   },
   "outputs": [
    {
     "name": "stderr",
     "output_type": "stream",
     "text": [
      "/home/teobrien/python_envs/standard_env_301020/lib/python3.8/site-packages/ipykernel/ipkernel.py:287: DeprecationWarning: `should_run_async` will not call `transform_cell` automatically in the future. Please pass the result to `transformed_cell` argument and any exception that happen during thetransform in `preprocessing_exc_tuple` in IPython 7.17 and above.\n",
      "  and should_run_async(code)\n"
     ]
    },
    {
     "name": "stdout",
     "output_type": "stream",
     "text": [
      "0 Started at: 2020-11-16 11:58:09.388155\n",
      "[0.94618629 2.20663794 0.8690894  0.8219383  4.88508692]\n",
      "Executed in: 0:00:16.529905\n",
      "1 Started at: 2020-11-16 11:58:25.918151\n",
      "[3.67011261 3.3344655  2.03369054 2.97257458 1.2620059 ]\n",
      "Couldnt find good beta, exiting\n",
      "Executed in: 0:00:12.019326\n",
      "2 Started at: 2020-11-16 11:58:37.937504\n",
      "[0.64676112 5.2825625  6.26402546 1.99375018 1.7539475 ]\n",
      "Couldnt find good beta, exiting\n",
      "Executed in: 0:00:13.043582\n",
      "3 Started at: 2020-11-16 11:58:50.981116\n",
      "[1.22223779 0.55409649 1.65929418 0.50848278 1.4606561 ]\n",
      "Couldnt find good beta, exiting\n",
      "Executed in: 0:00:10.829626\n",
      "4 Started at: 2020-11-16 11:59:01.810805\n",
      "[5.8938965  0.41871712 5.47046791 2.37822818 0.84869259]\n",
      "Executed in: 0:00:21.698573\n",
      "5 Started at: 2020-11-16 11:59:23.509458\n",
      "[2.53065029 5.68295058 3.93679977 5.33971274 5.74227808]\n",
      "Executed in: 0:00:19.783811\n",
      "6 Started at: 2020-11-16 11:59:43.293351\n",
      "[4.86487704 3.82989744 3.62827649 5.38897337 5.37954891]\n",
      "Executed in: 0:00:21.011557\n",
      "7 Started at: 2020-11-16 12:00:04.304988\n",
      "[4.69312319 2.75456145 2.36888781 5.3848956  1.23910185]\n",
      "Couldnt find good beta, exiting\n",
      "Executed in: 0:00:16.372224\n",
      "8 Started at: 2020-11-16 12:00:20.677248\n",
      "[5.45880067 0.51772154 1.38043039 6.24481232 1.02591848]\n",
      "Executed in: 0:00:18.096954\n",
      "9 Started at: 2020-11-16 12:00:38.774281\n",
      "[0.90781535 5.67620534 5.33380883 1.06789887 3.09131916]\n",
      "Executed in: 0:00:19.241451\n",
      "10 Started at: 2020-11-16 12:00:58.015814\n",
      "[2.89382995 4.17611511 1.91897795 5.25239243 1.85683221]\n",
      "Executed in: 0:00:17.872744\n",
      "11 Started at: 2020-11-16 12:01:15.888633\n",
      "[4.92608593 6.24903474 3.62349708 3.36271369 3.32247096]\n",
      "Executed in: 0:00:20.410838\n",
      "12 Started at: 2020-11-16 12:01:36.299550\n",
      "[1.87812233 3.38216452 1.58349649 2.00785143 3.46970456]\n",
      "Executed in: 0:00:18.244276\n",
      "13 Started at: 2020-11-16 12:01:54.543904\n",
      "[4.77662772 6.17019165 1.17797572 3.08884368 2.05142102]\n",
      "Couldnt find good beta, exiting\n",
      "Executed in: 0:00:11.679557\n",
      "14 Started at: 2020-11-16 12:02:06.223491\n",
      "[1.50950429 0.47821869 5.2903256  5.24113038 0.10783197]\n",
      "Couldnt find good beta, exiting\n",
      "Executed in: 0:00:08.468214\n",
      "15 Started at: 2020-11-16 12:02:14.691734\n",
      "[2.04174571 1.75443654 5.04792898 0.44603904 2.04660473]\n",
      "Executed in: 0:00:18.479928\n",
      "16 Started at: 2020-11-16 12:02:33.171745\n",
      "[3.41183073 5.56595996 0.91084354 5.66074341 4.65866076]\n",
      "Executed in: 0:00:18.580720\n",
      "17 Started at: 2020-11-16 12:02:51.752542\n",
      "[2.23518746 1.47551295 4.60042966 2.71105095 0.63692151]\n",
      "Executed in: 0:00:19.182330\n",
      "18 Started at: 2020-11-16 12:03:10.934949\n",
      "[1.40695426 3.03380928 4.59993314 2.55077119 3.78941324]\n",
      "Executed in: 0:00:16.957562\n",
      "19 Started at: 2020-11-16 12:03:27.892587\n",
      "[3.39511895 4.23177304 4.36867351 1.48513002 1.12557567]\n",
      "Executed in: 0:00:18.823799\n",
      "20 Started at: 2020-11-16 12:03:46.716470\n",
      "[3.01108466 1.9663828  4.24855685 3.50710801 0.95356709]\n",
      "Executed in: 0:00:33.150695\n",
      "21 Started at: 2020-11-16 12:04:19.867237\n",
      "[4.01549662 3.42886869 6.20477907 2.3260855  5.26041492]\n",
      "Executed in: 0:00:19.545541\n",
      "22 Started at: 2020-11-16 12:04:39.412857\n",
      "[4.95854198 4.76697485 2.15016922 5.18029708 5.25399692]\n",
      "Executed in: 0:00:35.043308\n",
      "23 Started at: 2020-11-16 12:05:14.456244\n",
      "[0.08165089 2.41175847 5.78478214 0.42205718 3.5441795 ]\n",
      "Executed in: 0:00:18.251384\n",
      "24 Started at: 2020-11-16 12:05:32.707722\n",
      "[3.77270144 0.13181596 0.45972383 4.77149117 3.54508898]\n",
      "Executed in: 0:00:25.166476\n",
      "25 Started at: 2020-11-16 12:05:57.874275\n",
      "[2.44230201 3.91311709 5.21606023 3.10961588 3.28146244]\n",
      "Executed in: 0:00:18.688523\n",
      "26 Started at: 2020-11-16 12:06:16.562884\n",
      "[4.43006089 4.26229087 2.55138702 3.3588721  2.25527988]\n",
      "Executed in: 0:00:16.332372\n",
      "27 Started at: 2020-11-16 12:06:32.895329\n",
      "[5.87693128 2.86392142 5.62040655 5.15330404 1.16160955]\n",
      "Executed in: 0:00:21.992537\n",
      "28 Started at: 2020-11-16 12:06:54.887943\n",
      "[6.17664297 0.95929128 4.66171665 1.51654529 1.06101733]\n",
      "Executed in: 0:00:21.744276\n",
      "29 Started at: 2020-11-16 12:07:16.632304\n",
      "[2.20631301 5.94188842 5.39390087 4.53950541 5.24302564]\n",
      "Executed in: 0:00:22.428956\n",
      "30 Started at: 2020-11-16 12:07:39.061358\n",
      "[4.73774958 2.08552819 5.80749059 1.15199672 4.1949626 ]\n",
      "Executed in: 0:00:17.824993\n",
      "31 Started at: 2020-11-16 12:07:56.886432\n",
      "[5.4365387  1.88042621 3.53707556 0.18256759 4.09670353]\n",
      "Executed in: 0:00:18.010338\n",
      "32 Started at: 2020-11-16 12:08:14.896845\n",
      "[2.53037645 1.67498182 1.42303865 1.80489349 5.70854887]\n",
      "Executed in: 0:00:17.993236\n",
      "33 Started at: 2020-11-16 12:08:32.890170\n",
      "[6.09481538 2.94020598 2.44784703 5.01650235 4.60837758]\n",
      "Couldnt find good beta, exiting\n",
      "Executed in: 0:00:13.264346\n",
      "34 Started at: 2020-11-16 12:08:46.154557\n",
      "[3.94587136 3.01382789 3.48102232 3.45836146 3.84570557]\n",
      "Executed in: 0:00:21.971584\n",
      "35 Started at: 2020-11-16 12:09:08.126232\n",
      "[6.23192664 5.24213571 2.54202588 5.16793959 0.8903493 ]\n",
      "Executed in: 0:00:19.007962\n",
      "36 Started at: 2020-11-16 12:09:27.134275\n",
      "[1.91105889 1.28403923 4.93877083 6.09934419 0.40503421]\n",
      "Couldnt find good beta, exiting\n",
      "Executed in: 0:00:02.947476\n",
      "37 Started at: 2020-11-16 12:09:30.081780\n",
      "[3.17265817 1.80621054 3.71879744 1.88875636 2.63988462]\n",
      "Couldnt find good beta, exiting\n",
      "Executed in: 0:00:07.425732\n",
      "38 Started at: 2020-11-16 12:09:37.507537\n",
      "[4.40340822 5.14947021 3.47908495 0.2237069  3.27496057]\n",
      "Executed in: 0:00:16.142485\n",
      "39 Started at: 2020-11-16 12:09:53.650099\n",
      "[3.88672332 1.66088784 3.11984107 1.48419088 4.75790502]\n",
      "Executed in: 0:00:15.949784\n",
      "40 Started at: 2020-11-16 12:10:09.599964\n",
      "[3.62938029 6.05400874 0.87435879 1.31393338 4.83572349]\n",
      "Couldnt find good beta, exiting\n",
      "Executed in: 0:00:10.667394\n",
      "41 Started at: 2020-11-16 12:10:20.267385\n",
      "[3.19226941 1.05958992 4.23419698 1.60683614 3.46247749]\n",
      "Couldnt find good beta, exiting\n",
      "Executed in: 0:00:10.754288\n",
      "42 Started at: 2020-11-16 12:10:31.021706\n",
      "[2.32171809 4.95473879 3.25480991 5.522616   3.41120273]\n",
      "Couldnt find good beta, exiting\n",
      "Executed in: 0:00:10.804326\n",
      "43 Started at: 2020-11-16 12:10:41.826062\n",
      "[2.76280771 2.7186938  4.7980236  3.72980794 6.02924937]\n",
      "Executed in: 0:00:15.888688\n",
      "44 Started at: 2020-11-16 12:10:57.714827\n",
      "[0.91650642 2.58022851 2.604411   0.94239952 5.81565443]\n",
      "Couldnt find good beta, exiting\n",
      "Executed in: 0:00:07.997327\n",
      "45 Started at: 2020-11-16 12:11:05.712182\n",
      "[4.33048718 0.48362457 0.22467247 1.80607676 4.882875  ]\n",
      "Couldnt find good beta, exiting\n",
      "Executed in: 0:00:13.625803\n",
      "46 Started at: 2020-11-16 12:11:19.338016\n",
      "[6.20810447 5.53884424 0.4557618  2.47777401 0.58427199]\n",
      "Executed in: 0:00:16.408875\n",
      "47 Started at: 2020-11-16 12:11:35.746967\n",
      "[5.99552613 3.43053211 5.50024638 5.19814621 0.24328744]\n",
      "Executed in: 0:00:16.288953\n",
      "48 Started at: 2020-11-16 12:11:52.035997\n",
      "[6.15145667 5.65180196 2.11902061 0.51659719 1.14009907]\n",
      "Executed in: 0:00:17.754510\n",
      "49 Started at: 2020-11-16 12:12:09.790586\n",
      "[1.21342757 5.46791379 3.89827486 2.67132331 1.39249737]\n",
      "Executed in: 0:00:15.914328\n",
      "50 Started at: 2020-11-16 12:12:25.704993\n",
      "[2.23520469 5.80852536 5.78671569 0.02934263 0.20949654]\n",
      "Executed in: 0:00:16.326837\n",
      "51 Started at: 2020-11-16 12:12:42.031909\n",
      "[4.43745898 6.09751073 0.79848277 3.83971179 0.80804576]\n",
      "Executed in: 0:00:17.097306\n",
      "52 Started at: 2020-11-16 12:12:59.129291\n",
      "[0.62425313 1.98513753 5.90356385 4.42207307 2.49766567]\n",
      "Executed in: 0:00:17.060360\n",
      "53 Started at: 2020-11-16 12:13:16.189732\n",
      "[4.01278995 2.75039072 6.06962307 2.5010517  5.80162983]\n",
      "Executed in: 0:00:17.272810\n",
      "54 Started at: 2020-11-16 12:13:33.462617\n",
      "[2.65283193 2.45141135 1.75367927 2.73980795 5.86816705]\n",
      "Executed in: 0:00:15.041843\n",
      "55 Started at: 2020-11-16 12:13:48.504548\n",
      "[3.78066813 3.24606667 0.43647722 3.63355819 5.15293361]\n",
      "Executed in: 0:00:16.163686\n",
      "56 Started at: 2020-11-16 12:14:04.668309\n",
      "[0.25301495 2.57849891 1.14273844 1.71591695 4.51260918]\n",
      "Executed in: 0:00:15.461219\n",
      "57 Started at: 2020-11-16 12:14:20.129601\n",
      "[0.09620023 4.96708068 4.39058341 0.64572628 2.52559119]\n",
      "Executed in: 0:00:15.457585\n",
      "58 Started at: 2020-11-16 12:14:35.587262\n",
      "[2.99606999 4.30496909 2.75069249 5.9137234  5.01515855]\n",
      "Executed in: 0:00:15.473689\n",
      "59 Started at: 2020-11-16 12:14:51.061028\n",
      "[6.09082545 0.25543252 3.13264708 0.89327085 4.88688923]\n",
      "Executed in: 0:00:15.764261\n",
      "60 Started at: 2020-11-16 12:15:06.825364\n",
      "[2.10222796 5.84417449 3.28078981 6.15242706 0.76973662]\n",
      "Executed in: 0:00:17.271408\n",
      "61 Started at: 2020-11-16 12:15:24.096853\n",
      "[4.53154371 0.63845031 5.12034651 4.60375712 1.77086326]\n"
     ]
    },
    {
     "name": "stdout",
     "output_type": "stream",
     "text": [
      "Executed in: 0:00:17.022932\n",
      "62 Started at: 2020-11-16 12:15:41.119859\n",
      "[1.76453782 0.60241601 1.97895283 0.8519059  1.17111773]\n",
      "Executed in: 0:00:16.468526\n",
      "63 Started at: 2020-11-16 12:15:57.588466\n",
      "[0.59368869 4.08752401 0.5989174  5.86437692 2.35985361]\n",
      "Executed in: 0:00:15.500477\n",
      "64 Started at: 2020-11-16 12:16:13.089021\n",
      "[4.12522478 3.55519756 3.6455311  5.9500386  2.29706456]\n",
      "Executed in: 0:00:15.135389\n",
      "65 Started at: 2020-11-16 12:16:28.224487\n",
      "[1.62901319 0.77051107 1.36163458 0.36587115 1.19324611]\n",
      "Executed in: 0:00:16.312193\n",
      "66 Started at: 2020-11-16 12:16:44.536757\n",
      "[2.9014447  2.28335571 0.02426082 2.61684892 5.70760758]\n",
      "Couldnt find good beta, exiting\n",
      "Executed in: 0:00:11.011418\n",
      "67 Started at: 2020-11-16 12:16:55.548202\n",
      "[1.07045478 0.43092383 3.35567236 0.61715051 3.22050237]\n",
      "Executed in: 0:00:18.984634\n",
      "68 Started at: 2020-11-16 12:17:14.532925\n",
      "[5.05651307 4.16938036 5.63662494 5.22046689 1.76907599]\n",
      "Couldnt find good beta, exiting\n",
      "Executed in: 0:00:05.695518\n",
      "69 Started at: 2020-11-16 12:17:20.228473\n",
      "[2.14194613 3.20776716 6.12944454 6.1395546  6.05723224]\n",
      "Executed in: 0:00:17.456957\n",
      "70 Started at: 2020-11-16 12:17:37.685523\n",
      "[2.04721658 1.01624424 0.78592482 2.30632961 5.63803769]\n",
      "Executed in: 0:00:17.074325\n",
      "71 Started at: 2020-11-16 12:17:54.759945\n",
      "[6.17611904 4.08331559 3.3085005  0.90431473 3.03967616]\n",
      "Executed in: 0:00:17.050831\n",
      "72 Started at: 2020-11-16 12:18:11.810851\n",
      "[3.61784675 2.79483257 5.78955996 1.56655429 3.79224773]\n",
      "Executed in: 0:00:18.742812\n",
      "73 Started at: 2020-11-16 12:18:30.553753\n",
      "[3.59067472 3.14197297 5.68084265 1.62710038 3.08933281]\n",
      "Executed in: 0:00:17.454650\n",
      "74 Started at: 2020-11-16 12:18:48.008478\n",
      "[4.50548154 3.44894044 3.32076711 5.1231308  6.14335965]\n",
      "Executed in: 0:00:17.263996\n",
      "75 Started at: 2020-11-16 12:19:05.272551\n",
      "[5.12322439 0.03007564 5.32484602 1.2444712  1.33694461]\n",
      "Executed in: 0:00:17.746171\n",
      "76 Started at: 2020-11-16 12:19:23.018796\n",
      "[5.09253336 2.10415992 4.44236044 6.13921624 0.78671258]\n",
      "Executed in: 0:00:16.884206\n",
      "77 Started at: 2020-11-16 12:19:39.903080\n",
      "[0.85488069 5.199435   6.0538888  0.29526045 5.90823694]\n",
      "Executed in: 0:00:17.034248\n",
      "78 Started at: 2020-11-16 12:19:56.937421\n",
      "[5.03914241 1.5420503  2.98141967 0.562353   2.35097292]\n",
      "Executed in: 0:00:18.565670\n",
      "79 Started at: 2020-11-16 12:20:15.503174\n",
      "[2.74302651 1.63870772 0.70405569 2.0005288  2.29501394]\n",
      "Executed in: 0:00:17.498404\n",
      "80 Started at: 2020-11-16 12:20:33.001747\n",
      "[1.4038758  0.84432962 5.70223785 5.03186501 5.54929442]\n",
      "Executed in: 0:00:18.435639\n",
      "81 Started at: 2020-11-16 12:20:51.437466\n",
      "[4.4380639  1.74524606 0.56056499 6.0999285  0.39943429]\n",
      "Executed in: 0:00:18.898651\n",
      "82 Started at: 2020-11-16 12:21:10.336197\n",
      "[5.26292997 0.92899543 6.10333823 6.11349264 4.53251955]\n",
      "Executed in: 0:00:17.998928\n",
      "83 Started at: 2020-11-16 12:21:28.335199\n",
      "[3.39856435 1.41706038 3.73747295 1.54093101 2.23862786]\n",
      "Couldnt find good beta, exiting\n",
      "Executed in: 0:00:08.155580\n",
      "84 Started at: 2020-11-16 12:21:36.490809\n",
      "[2.06096178 1.19098049 5.54407272 2.52309296 3.16595031]\n",
      "Executed in: 0:00:16.547743\n",
      "85 Started at: 2020-11-16 12:21:53.038630\n",
      "[2.36524156 2.10505482 0.44447326 0.29485801 2.14175263]\n",
      "Executed in: 0:00:17.096237\n",
      "86 Started at: 2020-11-16 12:22:10.135086\n",
      "[1.89795767 4.75200374 0.17564276 0.46328664 5.76572248]\n",
      "Executed in: 0:00:17.000125\n",
      "87 Started at: 2020-11-16 12:22:27.135288\n",
      "[3.89053469 1.07739353 1.91231921 1.36557656 5.37138831]\n",
      "Couldnt find good beta, exiting\n",
      "Executed in: 0:00:05.683569\n",
      "88 Started at: 2020-11-16 12:22:32.818894\n",
      "[4.20497176 2.7415098  3.91896241 5.54878014 0.33696889]\n",
      "Executed in: 0:00:17.023242\n",
      "89 Started at: 2020-11-16 12:22:49.843047\n",
      "[2.3949436  3.89240939 3.01536608 1.75243858 5.66150662]\n",
      "Executed in: 0:00:17.061491\n",
      "90 Started at: 2020-11-16 12:23:06.904624\n",
      "[4.2139716  4.71584867 1.19268898 2.24566914 6.04248185]\n",
      "Executed in: 0:00:16.895979\n",
      "91 Started at: 2020-11-16 12:23:23.800678\n",
      "[5.56414584 2.19364568 4.46054859 1.20806152 1.49476371]\n",
      "Executed in: 0:00:16.983867\n",
      "92 Started at: 2020-11-16 12:23:40.784627\n",
      "[5.91227262 2.12472714 4.69400606 5.96027046 4.27513649]\n",
      "Executed in: 0:00:17.639800\n",
      "93 Started at: 2020-11-16 12:23:58.424521\n",
      "[0.69674169 0.73144311 1.10385381 0.17950665 5.83097481]\n",
      "Couldnt find good beta, exiting\n",
      "Executed in: 0:00:18.072822\n",
      "94 Started at: 2020-11-16 12:24:16.497512\n",
      "[5.5866365  4.48322835 3.36005485 2.78565701 2.88365983]\n",
      "Executed in: 0:00:23.100141\n",
      "95 Started at: 2020-11-16 12:24:39.597731\n",
      "[2.8314574  2.65690307 4.89840432 5.05098117 1.84320848]\n",
      "Executed in: 0:00:24.333000\n",
      "96 Started at: 2020-11-16 12:25:03.930808\n",
      "[1.51806863 0.48804088 5.96697989 1.97100596 2.94168202]\n",
      "Executed in: 0:00:18.642534\n",
      "97 Started at: 2020-11-16 12:25:22.574061\n",
      "[0.32937798 4.86091601 2.45655914 1.90257935 3.13961518]\n",
      "Executed in: 0:00:18.150734\n",
      "98 Started at: 2020-11-16 12:25:40.724869\n",
      "[0.4917557  0.48205538 1.36164762 3.07007098 0.89291684]\n",
      "Executed in: 0:00:17.902464\n",
      "99 Started at: 2020-11-16 12:25:58.627415\n",
      "[4.94338792 1.42862935 0.72914993 0.47848201 2.96351636]\n",
      "Executed in: 0:00:17.348683\n",
      "Proportion of simulations exited before last order:19.0%\n",
      "Proportion of simulations finished before the last order: 0.19\n"
     ]
    }
   ],
   "source": [
    "method = 'qeep'\n",
    "delta = 0.15\n",
    "\n",
    "confidence_alpha = 0.1\n",
    "confidence_beta = 0.001\n",
    "\n",
    "max_order = 5\n",
    "costs, est_errors, failure_booleans = eaf.run_estimation_errors(\n",
    "    method, num_phases, max_order, delta, confidence_alpha, confidence_beta, cutoff, num_repetitions)\n",
    "\n",
    "print('Proportion of simulations finished before the last order:',\n",
    "      np.sum([len(f)<max_order+1 for f in failure_booleans])/num_repetitions)\n"
   ]
  },
  {
   "cell_type": "code",
   "execution_count": 27,
   "metadata": {},
   "outputs": [
    {
     "name": "stderr",
     "output_type": "stream",
     "text": [
      "/home/teobrien/python_envs/standard_env_301020/lib/python3.8/site-packages/ipykernel/ipkernel.py:287: DeprecationWarning: `should_run_async` will not call `transform_cell` automatically in the future. Please pass the result to `transformed_cell` argument and any exception that happen during thetransform in `preprocessing_exc_tuple` in IPython 7.17 and above.\n",
      "  and should_run_async(code)\n",
      "/home/teobrien/python_envs/standard_env_301020/lib/python3.8/site-packages/numpy/core/fromnumeric.py:3334: RuntimeWarning: Mean of empty slice.\n",
      "  return _methods._mean(a, axis=axis, dtype=dtype,\n",
      "/home/teobrien/python_envs/standard_env_301020/lib/python3.8/site-packages/numpy/core/_methods.py:161: RuntimeWarning: invalid value encountered in double_scalars\n",
      "  ret = ret.dtype.type(ret / rcount)\n",
      "/home/teobrien/python_envs/standard_env_301020/lib/python3.8/site-packages/numpy/core/_methods.py:216: RuntimeWarning: Degrees of freedom <= 0 for slice\n",
      "  ret = _var(a, axis=axis, dtype=dtype, out=out, ddof=ddof,\n",
      "/home/teobrien/python_envs/standard_env_301020/lib/python3.8/site-packages/numpy/core/_methods.py:185: RuntimeWarning: invalid value encountered in true_divide\n",
      "  arrmean = um.true_divide(\n",
      "/home/teobrien/python_envs/standard_env_301020/lib/python3.8/site-packages/numpy/core/_methods.py:209: RuntimeWarning: invalid value encountered in double_scalars\n",
      "  ret = ret.dtype.type(ret / rcount)\n",
      "/home/teobrien/python_envs/standard_env_301020/lib/python3.8/site-packages/numpy/core/fromnumeric.py:3334: RuntimeWarning: Mean of empty slice.\n",
      "  return _methods._mean(a, axis=axis, dtype=dtype,\n",
      "/home/teobrien/python_envs/standard_env_301020/lib/python3.8/site-packages/numpy/core/_methods.py:161: RuntimeWarning: invalid value encountered in double_scalars\n",
      "  ret = ret.dtype.type(ret / rcount)\n",
      "/home/teobrien/python_envs/standard_env_301020/lib/python3.8/site-packages/numpy/core/_methods.py:216: RuntimeWarning: Degrees of freedom <= 0 for slice\n",
      "  ret = _var(a, axis=axis, dtype=dtype, out=out, ddof=ddof,\n",
      "/home/teobrien/python_envs/standard_env_301020/lib/python3.8/site-packages/numpy/core/_methods.py:185: RuntimeWarning: invalid value encountered in true_divide\n",
      "  arrmean = um.true_divide(\n",
      "/home/teobrien/python_envs/standard_env_301020/lib/python3.8/site-packages/numpy/core/_methods.py:209: RuntimeWarning: invalid value encountered in double_scalars\n",
      "  ret = ret.dtype.type(ret / rcount)\n"
     ]
    },
    {
     "name": "stdout",
     "output_type": "stream",
     "text": [
      "Proportion of rejected samples: 0.15224625623960067\n"
     ]
    },
    {
     "data": {
      "image/png": "[encoded data removed]",
      "text/plain": [
       "<Figure size 720x720 with 1 Axes>"
      ]
     },
     "metadata": {
      "needs_background": "light"
     },
     "output_type": "display_data"
    }
   ],
   "source": [
    "plt.figure(figsize = (10, 10))\n",
    "eaf.plot_estimation_errors(costs, est_errors)\n",
    "plt.plot(np.linspace(1e5, 1e10), 5000/np.linspace(1e5, 1e10), 'b--', label = r'$y \\sim x^{-1}$')\n",
    "plt.legend()\n",
    "plt.show()"
   ]
  },
  {
   "cell_type": "code",
   "execution_count": 28,
   "metadata": {},
   "outputs": [
    {
     "name": "stderr",
     "output_type": "stream",
     "text": [
      "/home/teobrien/python_envs/standard_env_301020/lib/python3.8/site-packages/ipykernel/ipkernel.py:287: DeprecationWarning: `should_run_async` will not call `transform_cell` automatically in the future. Please pass the result to `transformed_cell` argument and any exception that happen during thetransform in `preprocessing_exc_tuple` in IPython 7.17 and above.\n",
      "  and should_run_async(code)\n"
     ]
    }
   ],
   "source": [
    "np.save(f'costs_{method}_lowconfidence_multi_order_newest.npy', costs)\n",
    "np.save(f'errors_{method}_lowconfidence_multi_order_newest.npy', est_errors)\n",
    "np.save(f'failures_{method}_lowconfidence_multi_order_newest.npy', failure_booleans)"
   ]
  },
  {
   "cell_type": "code",
   "execution_count": 35,
   "metadata": {
    "ExecuteTime": {
     "end_time": "2020-11-09T20:20:30.417855Z",
     "start_time": "2020-11-09T20:20:29.252312Z"
    },
    "scrolled": true
   },
   "outputs": [
    {
     "name": "stderr",
     "output_type": "stream",
     "text": [
      "/home/teobrien/python_envs/standard_env_301020/lib/python3.8/site-packages/ipykernel/ipkernel.py:287: DeprecationWarning: `should_run_async` will not call `transform_cell` automatically in the future. Please pass the result to `transformed_cell` argument and any exception that happen during thetransform in `preprocessing_exc_tuple` in IPython 7.17 and above.\n",
      "  and should_run_async(code)\n"
     ]
    },
    {
     "name": "stdout",
     "output_type": "stream",
     "text": [
      "0 Started at: 2020-11-12 14:30:49.747001\n",
      "[0.32300115 2.89058779 4.84896856 4.13020036 0.89503212]\n"
     ]
    },
    {
     "name": "stderr",
     "output_type": "stream",
     "text": [
      "/home/teobrien/packages/openfermion/src/openfermion/measurements/sparse_qpe.py:46: UserWarning: No matched phase found, could be spurious detection at this order.\n",
      "/home/teobrien/packages/openfermion/src/openfermion/measurements/sparse_qpe.py:46: UserWarning: No matched phase found, could be spurious detection at this order.\n",
      "/home/teobrien/packages/openfermion/src/openfermion/measurements/sparse_qpe.py:145: UserWarning: New multiplier is between 1 and 2, this may be inefficient.\n",
      "/home/teobrien/packages/openfermion/src/openfermion/measurements/sparse_qpe.py:145: UserWarning: New multiplier is between 1 and 2, this may be inefficient.\n"
     ]
    },
    {
     "name": "stdout",
     "output_type": "stream",
     "text": [
      "Executed in: 0:00:00.924724\n",
      "1 Started at: 2020-11-12 14:30:50.671776\n",
      "[5.46300579 5.34962622 2.73592995 2.20480734 3.33889617]\n",
      "Executed in: 0:00:00.605483\n",
      "2 Started at: 2020-11-12 14:30:51.277816\n",
      "[3.21643368 0.78640378 4.34224458 3.54917641 1.31850451]\n"
     ]
    },
    {
     "name": "stderr",
     "output_type": "stream",
     "text": [
      "/home/teobrien/packages/openfermion/src/openfermion/measurements/sparse_qpe.py:46: UserWarning: No matched phase found, could be spurious detection at this order.\n",
      "/home/teobrien/packages/openfermion/src/openfermion/measurements/sparse_qpe.py:46: UserWarning: No matched phase found, could be spurious detection at this order.\n"
     ]
    },
    {
     "name": "stdout",
     "output_type": "stream",
     "text": [
      "Executed in: 0:00:01.412430\n",
      "3 Started at: 2020-11-12 14:30:52.690340\n",
      "[4.30805708 5.69314268 5.54219865 6.16897158 5.22734603]\n",
      "Executed in: 0:00:00.736829\n",
      "4 Started at: 2020-11-12 14:30:53.427269\n",
      "[6.10392707 1.869169   6.13980608 0.46666878 3.70840054]\n",
      "Couldnt find good beta, exiting\n",
      "Executed in: 0:00:00.082270\n",
      "5 Started at: 2020-11-12 14:30:53.509580\n",
      "[4.47932529 1.12253673 3.1566858  6.18650464 2.55010906]\n"
     ]
    },
    {
     "name": "stderr",
     "output_type": "stream",
     "text": [
      "/home/teobrien/packages/openfermion/src/openfermion/measurements/sparse_qpe.py:145: UserWarning: New multiplier is between 1 and 2, this may be inefficient.\n",
      "/home/teobrien/packages/openfermion/src/openfermion/measurements/sparse_qpe.py:46: UserWarning: No matched phase found, could be spurious detection at this order.\n",
      "/home/teobrien/packages/openfermion/src/openfermion/measurements/sparse_qpe.py:46: UserWarning: No matched phase found, could be spurious detection at this order.\n"
     ]
    },
    {
     "name": "stdout",
     "output_type": "stream",
     "text": [
      "Executed in: 0:00:01.597851\n",
      "6 Started at: 2020-11-12 14:30:55.107544\n",
      "[4.17705682 3.31775567 2.18400723 5.30360381 4.56777587]\n"
     ]
    },
    {
     "name": "stderr",
     "output_type": "stream",
     "text": [
      "/home/teobrien/packages/openfermion/src/openfermion/measurements/sparse_qpe.py:145: UserWarning: New multiplier is between 1 and 2, this may be inefficient.\n",
      "/home/teobrien/packages/openfermion/src/openfermion/measurements/sparse_qpe.py:46: UserWarning: No matched phase found, could be spurious detection at this order.\n",
      "/home/teobrien/packages/openfermion/src/openfermion/measurements/sparse_qpe.py:46: UserWarning: No matched phase found, could be spurious detection at this order.\n"
     ]
    },
    {
     "name": "stdout",
     "output_type": "stream",
     "text": [
      "Executed in: 0:00:00.694051\n",
      "7 Started at: 2020-11-12 14:30:55.801698\n",
      "[2.05982075 0.92027105 2.30779228 5.18965214 3.87519639]\n"
     ]
    },
    {
     "name": "stderr",
     "output_type": "stream",
     "text": [
      "/home/teobrien/packages/openfermion/src/openfermion/measurements/sparse_qpe.py:145: UserWarning: New multiplier is between 1 and 2, this may be inefficient.\n",
      "/home/teobrien/packages/openfermion/src/openfermion/measurements/sparse_qpe.py:145: UserWarning: New multiplier is between 1 and 2, this may be inefficient.\n",
      "/home/teobrien/packages/openfermion/src/openfermion/measurements/sparse_qpe.py:145: UserWarning: New multiplier is between 1 and 2, this may be inefficient.\n",
      "/home/teobrien/packages/openfermion/src/openfermion/measurements/sparse_qpe.py:145: UserWarning: New multiplier is between 1 and 2, this may be inefficient.\n",
      "/home/teobrien/packages/openfermion/src/openfermion/measurements/sparse_qpe.py:145: UserWarning: New multiplier is between 1 and 2, this may be inefficient.\n",
      "/home/teobrien/packages/openfermion/src/openfermion/measurements/sparse_qpe.py:145: UserWarning: New multiplier is between 1 and 2, this may be inefficient.\n",
      "/home/teobrien/packages/openfermion/src/openfermion/measurements/sparse_qpe.py:145: UserWarning: New multiplier is between 1 and 2, this may be inefficient.\n",
      "/home/teobrien/packages/openfermion/src/openfermion/measurements/sparse_qpe.py:145: UserWarning: New multiplier is between 1 and 2, this may be inefficient.\n",
      "/home/teobrien/packages/openfermion/src/openfermion/measurements/sparse_qpe.py:145: UserWarning: New multiplier is between 1 and 2, this may be inefficient.\n",
      "/home/teobrien/packages/openfermion/src/openfermion/measurements/sparse_qpe.py:145: UserWarning: New multiplier is between 1 and 2, this may be inefficient.\n",
      "/home/teobrien/packages/openfermion/src/openfermion/measurements/sparse_qpe.py:145: UserWarning: New multiplier is between 1 and 2, this may be inefficient.\n",
      "/home/teobrien/packages/openfermion/src/openfermion/measurements/sparse_qpe.py:145: UserWarning: New multiplier is between 1 and 2, this may be inefficient.\n",
      "/home/teobrien/packages/openfermion/src/openfermion/measurements/sparse_qpe.py:145: UserWarning: New multiplier is between 1 and 2, this may be inefficient.\n",
      "/home/teobrien/packages/openfermion/src/openfermion/measurements/sparse_qpe.py:145: UserWarning: New multiplier is between 1 and 2, this may be inefficient.\n",
      "/home/teobrien/packages/openfermion/src/openfermion/measurements/sparse_qpe.py:145: UserWarning: New multiplier is between 1 and 2, this may be inefficient.\n",
      "/home/teobrien/packages/openfermion/src/openfermion/measurements/sparse_qpe.py:145: UserWarning: New multiplier is between 1 and 2, this may be inefficient.\n",
      "/home/teobrien/packages/openfermion/src/openfermion/measurements/sparse_qpe.py:145: UserWarning: New multiplier is between 1 and 2, this may be inefficient.\n"
     ]
    },
    {
     "name": "stdout",
     "output_type": "stream",
     "text": [
      "Executed in: 0:00:00.479829\n",
      "8 Started at: 2020-11-12 14:30:56.281673\n",
      "[5.41384648 1.93669286 0.10727964 3.10785426 3.23191495]\n"
     ]
    },
    {
     "name": "stderr",
     "output_type": "stream",
     "text": [
      "/home/teobrien/packages/openfermion/src/openfermion/measurements/sparse_qpe.py:145: UserWarning: New multiplier is between 1 and 2, this may be inefficient.\n",
      "/home/teobrien/packages/openfermion/src/openfermion/measurements/sparse_qpe.py:145: UserWarning: New multiplier is between 1 and 2, this may be inefficient.\n",
      "/home/teobrien/packages/openfermion/src/openfermion/measurements/sparse_qpe.py:145: UserWarning: New multiplier is between 1 and 2, this may be inefficient.\n",
      "/home/teobrien/packages/openfermion/src/openfermion/measurements/sparse_qpe.py:145: UserWarning: New multiplier is between 1 and 2, this may be inefficient.\n",
      "/home/teobrien/packages/openfermion/src/openfermion/measurements/sparse_qpe.py:145: UserWarning: New multiplier is between 1 and 2, this may be inefficient.\n",
      "/home/teobrien/packages/openfermion/src/openfermion/measurements/sparse_qpe.py:46: UserWarning: No matched phase found, could be spurious detection at this order.\n"
     ]
    },
    {
     "name": "stdout",
     "output_type": "stream",
     "text": [
      "Executed in: 0:00:01.110108\n",
      "9 Started at: 2020-11-12 14:30:57.391875\n",
      "[3.09752765 0.14720648 2.42913401 5.95531666 1.17950429]\n"
     ]
    },
    {
     "name": "stderr",
     "output_type": "stream",
     "text": [
      "/home/teobrien/packages/openfermion/src/openfermion/measurements/sparse_qpe.py:145: UserWarning: New multiplier is between 1 and 2, this may be inefficient.\n",
      "/home/teobrien/packages/openfermion/src/openfermion/measurements/sparse_qpe.py:145: UserWarning: New multiplier is between 1 and 2, this may be inefficient.\n",
      "/home/teobrien/packages/openfermion/src/openfermion/measurements/sparse_qpe.py:145: UserWarning: New multiplier is between 1 and 2, this may be inefficient.\n",
      "/home/teobrien/packages/openfermion/src/openfermion/measurements/sparse_qpe.py:145: UserWarning: New multiplier is between 1 and 2, this may be inefficient.\n",
      "/home/teobrien/packages/openfermion/src/openfermion/measurements/sparse_qpe.py:145: UserWarning: New multiplier is between 1 and 2, this may be inefficient.\n",
      "/home/teobrien/packages/openfermion/src/openfermion/measurements/sparse_qpe.py:145: UserWarning: New multiplier is between 1 and 2, this may be inefficient.\n",
      "/home/teobrien/packages/openfermion/src/openfermion/measurements/sparse_qpe.py:46: UserWarning: No matched phase found, could be spurious detection at this order.\n"
     ]
    },
    {
     "name": "stdout",
     "output_type": "stream",
     "text": [
      "Executed in: 0:00:00.608492\n",
      "10 Started at: 2020-11-12 14:30:58.000480\n",
      "[5.38455751 5.48612331 0.94940299 3.10749964 3.29977144]\n"
     ]
    },
    {
     "name": "stderr",
     "output_type": "stream",
     "text": [
      "/home/teobrien/packages/openfermion/src/openfermion/measurements/sparse_qpe.py:46: UserWarning: No matched phase found, could be spurious detection at this order.\n",
      "/home/teobrien/packages/openfermion/src/openfermion/measurements/sparse_qpe.py:46: UserWarning: No matched phase found, could be spurious detection at this order.\n",
      "/home/teobrien/packages/openfermion/src/openfermion/measurements/sparse_qpe.py:46: UserWarning: No matched phase found, could be spurious detection at this order.\n",
      "/home/teobrien/packages/openfermion/src/openfermion/measurements/sparse_qpe.py:46: UserWarning: No matched phase found, could be spurious detection at this order.\n",
      "/home/teobrien/packages/openfermion/src/openfermion/measurements/sparse_qpe.py:46: UserWarning: No matched phase found, could be spurious detection at this order.\n"
     ]
    },
    {
     "name": "stdout",
     "output_type": "stream",
     "text": [
      "Executed in: 0:00:01.137825\n",
      "11 Started at: 2020-11-12 14:30:59.138368\n",
      "[0.91402765 0.00678143 1.70540068 2.32370363 5.06837642]\n",
      "Executed in: 0:00:01.264938\n",
      "12 Started at: 2020-11-12 14:31:00.403414\n",
      "[1.65837648 0.27155735 1.7377374  1.34379487 1.16882172]\n",
      "Executed in: 0:00:00.753743\n",
      "13 Started at: 2020-11-12 14:31:01.157279\n",
      "[0.59367501 2.51461123 4.90011062 5.2555521  4.29074014]\n",
      "Executed in: 0:00:01.176122\n",
      "14 Started at: 2020-11-12 14:31:02.333508\n",
      "[1.43291389 0.04229468 0.13378842 2.80835988 2.42097215]\n",
      "Executed in: 0:00:00.950054\n",
      "15 Started at: 2020-11-12 14:31:03.283727\n",
      "[3.87052398 2.11860732 1.01295359 4.89869529 0.01213377]\n"
     ]
    },
    {
     "name": "stderr",
     "output_type": "stream",
     "text": [
      "/home/teobrien/packages/openfermion/src/openfermion/measurements/sparse_qpe.py:145: UserWarning: New multiplier is between 1 and 2, this may be inefficient.\n",
      "/home/teobrien/packages/openfermion/src/openfermion/measurements/sparse_qpe.py:145: UserWarning: New multiplier is between 1 and 2, this may be inefficient.\n"
     ]
    },
    {
     "name": "stdout",
     "output_type": "stream",
     "text": [
      "Executed in: 0:00:00.674081\n",
      "16 Started at: 2020-11-12 14:31:03.958255\n",
      "[0.62857416 6.24623465 1.5465336  4.64619678 4.49100973]\n",
      "Executed in: 0:00:02.393918\n",
      "17 Started at: 2020-11-12 14:31:06.352620\n",
      "[3.76063645 2.5133437  1.4494034  3.79842578 0.03422082]\n"
     ]
    },
    {
     "name": "stderr",
     "output_type": "stream",
     "text": [
      "/home/teobrien/packages/openfermion/src/openfermion/measurements/sparse_qpe.py:145: UserWarning: New multiplier is between 1 and 2, this may be inefficient.\n"
     ]
    },
    {
     "name": "stdout",
     "output_type": "stream",
     "text": [
      "Executed in: 0:00:01.488138\n",
      "18 Started at: 2020-11-12 14:31:07.841216\n",
      "[4.54447085 5.4988137  4.91335664 4.33823615 1.53862729]\n",
      "Executed in: 0:00:01.461495\n",
      "19 Started at: 2020-11-12 14:31:09.303171\n",
      "[6.14332458 4.72548335 0.44133573 4.28604653 3.52534226]\n"
     ]
    },
    {
     "name": "stderr",
     "output_type": "stream",
     "text": [
      "/home/teobrien/packages/openfermion/src/openfermion/measurements/sparse_qpe.py:46: UserWarning: No matched phase found, could be spurious detection at this order.\n",
      "/home/teobrien/packages/openfermion/src/openfermion/measurements/sparse_qpe.py:46: UserWarning: No matched phase found, could be spurious detection at this order.\n",
      "/home/teobrien/packages/openfermion/src/openfermion/measurements/sparse_qpe.py:46: UserWarning: No matched phase found, could be spurious detection at this order.\n"
     ]
    },
    {
     "name": "stdout",
     "output_type": "stream",
     "text": [
      "Executed in: 0:00:01.163372\n",
      "20 Started at: 2020-11-12 14:31:10.466655\n",
      "[2.5086914  2.48251314 6.04984395 5.87583223 0.97965663]\n"
     ]
    },
    {
     "name": "stderr",
     "output_type": "stream",
     "text": [
      "/home/teobrien/packages/openfermion/src/openfermion/measurements/sparse_qpe.py:46: UserWarning: No matched phase found, could be spurious detection at this order.\n"
     ]
    },
    {
     "name": "stdout",
     "output_type": "stream",
     "text": [
      "Executed in: 0:00:03.057671\n",
      "21 Started at: 2020-11-12 14:31:13.524434\n",
      "[4.09242333 4.91202525 3.93882627 0.42030372 2.72915056]\n"
     ]
    },
    {
     "name": "stderr",
     "output_type": "stream",
     "text": [
      "/home/teobrien/packages/openfermion/src/openfermion/measurements/sparse_qpe.py:145: UserWarning: New multiplier is between 1 and 2, this may be inefficient.\n",
      "/home/teobrien/packages/openfermion/src/openfermion/measurements/sparse_qpe.py:145: UserWarning: New multiplier is between 1 and 2, this may be inefficient.\n",
      "/home/teobrien/packages/openfermion/src/openfermion/measurements/sparse_qpe.py:145: UserWarning: New multiplier is between 1 and 2, this may be inefficient.\n",
      "/home/teobrien/packages/openfermion/src/openfermion/measurements/sparse_qpe.py:145: UserWarning: New multiplier is between 1 and 2, this may be inefficient.\n",
      "/home/teobrien/packages/openfermion/src/openfermion/measurements/sparse_qpe.py:145: UserWarning: New multiplier is between 1 and 2, this may be inefficient.\n",
      "/home/teobrien/packages/openfermion/src/openfermion/measurements/sparse_qpe.py:145: UserWarning: New multiplier is between 1 and 2, this may be inefficient.\n",
      "/home/teobrien/packages/openfermion/src/openfermion/measurements/sparse_qpe.py:145: UserWarning: New multiplier is between 1 and 2, this may be inefficient.\n",
      "/home/teobrien/packages/openfermion/src/openfermion/measurements/sparse_qpe.py:145: UserWarning: New multiplier is between 1 and 2, this may be inefficient.\n",
      "/home/teobrien/packages/openfermion/src/openfermion/measurements/sparse_qpe.py:145: UserWarning: New multiplier is between 1 and 2, this may be inefficient.\n",
      "/home/teobrien/packages/openfermion/src/openfermion/measurements/sparse_qpe.py:145: UserWarning: New multiplier is between 1 and 2, this may be inefficient.\n",
      "/home/teobrien/packages/openfermion/src/openfermion/measurements/sparse_qpe.py:145: UserWarning: New multiplier is between 1 and 2, this may be inefficient.\n",
      "/home/teobrien/packages/openfermion/src/openfermion/measurements/sparse_qpe.py:145: UserWarning: New multiplier is between 1 and 2, this may be inefficient.\n",
      "/home/teobrien/packages/openfermion/src/openfermion/measurements/sparse_qpe.py:145: UserWarning: New multiplier is between 1 and 2, this may be inefficient.\n",
      "/home/teobrien/packages/openfermion/src/openfermion/measurements/sparse_qpe.py:145: UserWarning: New multiplier is between 1 and 2, this may be inefficient.\n",
      "/home/teobrien/packages/openfermion/src/openfermion/measurements/sparse_qpe.py:145: UserWarning: New multiplier is between 1 and 2, this may be inefficient.\n",
      "/home/teobrien/packages/openfermion/src/openfermion/measurements/sparse_qpe.py:145: UserWarning: New multiplier is between 1 and 2, this may be inefficient.\n",
      "/home/teobrien/packages/openfermion/src/openfermion/measurements/sparse_qpe.py:145: UserWarning: New multiplier is between 1 and 2, this may be inefficient.\n",
      "/home/teobrien/packages/openfermion/src/openfermion/measurements/sparse_qpe.py:145: UserWarning: New multiplier is between 1 and 2, this may be inefficient.\n",
      "/home/teobrien/packages/openfermion/src/openfermion/measurements/sparse_qpe.py:145: UserWarning: New multiplier is between 1 and 2, this may be inefficient.\n",
      "/home/teobrien/packages/openfermion/src/openfermion/measurements/sparse_qpe.py:145: UserWarning: New multiplier is between 1 and 2, this may be inefficient.\n",
      "/home/teobrien/packages/openfermion/src/openfermion/measurements/sparse_qpe.py:145: UserWarning: New multiplier is between 1 and 2, this may be inefficient.\n",
      "/home/teobrien/packages/openfermion/src/openfermion/measurements/sparse_qpe.py:145: UserWarning: New multiplier is between 1 and 2, this may be inefficient.\n",
      "/home/teobrien/packages/openfermion/src/openfermion/measurements/sparse_qpe.py:145: UserWarning: New multiplier is between 1 and 2, this may be inefficient.\n",
      "/home/teobrien/packages/openfermion/src/openfermion/measurements/sparse_qpe.py:145: UserWarning: New multiplier is between 1 and 2, this may be inefficient.\n",
      "/home/teobrien/packages/openfermion/src/openfermion/measurements/sparse_qpe.py:145: UserWarning: New multiplier is between 1 and 2, this may be inefficient.\n",
      "/home/teobrien/packages/openfermion/src/openfermion/measurements/sparse_qpe.py:145: UserWarning: New multiplier is between 1 and 2, this may be inefficient.\n",
      "/home/teobrien/packages/openfermion/src/openfermion/measurements/sparse_qpe.py:145: UserWarning: New multiplier is between 1 and 2, this may be inefficient.\n",
      "/home/teobrien/packages/openfermion/src/openfermion/measurements/sparse_qpe.py:145: UserWarning: New multiplier is between 1 and 2, this may be inefficient.\n",
      "/home/teobrien/packages/openfermion/src/openfermion/measurements/sparse_qpe.py:145: UserWarning: New multiplier is between 1 and 2, this may be inefficient.\n",
      "/home/teobrien/packages/openfermion/src/openfermion/measurements/sparse_qpe.py:145: UserWarning: New multiplier is between 1 and 2, this may be inefficient.\n",
      "/home/teobrien/packages/openfermion/src/openfermion/measurements/sparse_qpe.py:145: UserWarning: New multiplier is between 1 and 2, this may be inefficient.\n",
      "/home/teobrien/packages/openfermion/src/openfermion/measurements/sparse_qpe.py:145: UserWarning: New multiplier is between 1 and 2, this may be inefficient.\n",
      "/home/teobrien/packages/openfermion/src/openfermion/measurements/sparse_qpe.py:145: UserWarning: New multiplier is between 1 and 2, this may be inefficient.\n",
      "/home/teobrien/packages/openfermion/src/openfermion/measurements/sparse_qpe.py:145: UserWarning: New multiplier is between 1 and 2, this may be inefficient.\n",
      "/home/teobrien/packages/openfermion/src/openfermion/measurements/sparse_qpe.py:145: UserWarning: New multiplier is between 1 and 2, this may be inefficient.\n",
      "/home/teobrien/packages/openfermion/src/openfermion/measurements/sparse_qpe.py:145: UserWarning: New multiplier is between 1 and 2, this may be inefficient.\n",
      "/home/teobrien/packages/openfermion/src/openfermion/measurements/sparse_qpe.py:145: UserWarning: New multiplier is between 1 and 2, this may be inefficient.\n",
      "/home/teobrien/packages/openfermion/src/openfermion/measurements/sparse_qpe.py:145: UserWarning: New multiplier is between 1 and 2, this may be inefficient.\n",
      "/home/teobrien/packages/openfermion/src/openfermion/measurements/sparse_qpe.py:145: UserWarning: New multiplier is between 1 and 2, this may be inefficient.\n",
      "/home/teobrien/packages/openfermion/src/openfermion/measurements/sparse_qpe.py:145: UserWarning: New multiplier is between 1 and 2, this may be inefficient.\n",
      "/home/teobrien/packages/openfermion/src/openfermion/measurements/sparse_qpe.py:145: UserWarning: New multiplier is between 1 and 2, this may be inefficient.\n",
      "/home/teobrien/packages/openfermion/src/openfermion/measurements/sparse_qpe.py:145: UserWarning: New multiplier is between 1 and 2, this may be inefficient.\n",
      "/home/teobrien/packages/openfermion/src/openfermion/measurements/sparse_qpe.py:145: UserWarning: New multiplier is between 1 and 2, this may be inefficient.\n",
      "/home/teobrien/packages/openfermion/src/openfermion/measurements/sparse_qpe.py:145: UserWarning: New multiplier is between 1 and 2, this may be inefficient.\n",
      "/home/teobrien/packages/openfermion/src/openfermion/measurements/sparse_qpe.py:145: UserWarning: New multiplier is between 1 and 2, this may be inefficient.\n",
      "/home/teobrien/packages/openfermion/src/openfermion/measurements/sparse_qpe.py:145: UserWarning: New multiplier is between 1 and 2, this may be inefficient.\n",
      "/home/teobrien/packages/openfermion/src/openfermion/measurements/sparse_qpe.py:145: UserWarning: New multiplier is between 1 and 2, this may be inefficient.\n",
      "/home/teobrien/packages/openfermion/src/openfermion/measurements/sparse_qpe.py:145: UserWarning: New multiplier is between 1 and 2, this may be inefficient.\n",
      "/home/teobrien/packages/openfermion/src/openfermion/measurements/sparse_qpe.py:145: UserWarning: New multiplier is between 1 and 2, this may be inefficient.\n",
      "/home/teobrien/packages/openfermion/src/openfermion/measurements/sparse_qpe.py:145: UserWarning: New multiplier is between 1 and 2, this may be inefficient.\n",
      "/home/teobrien/packages/openfermion/src/openfermion/measurements/sparse_qpe.py:145: UserWarning: New multiplier is between 1 and 2, this may be inefficient.\n",
      "/home/teobrien/packages/openfermion/src/openfermion/measurements/sparse_qpe.py:145: UserWarning: New multiplier is between 1 and 2, this may be inefficient.\n",
      "/home/teobrien/packages/openfermion/src/openfermion/measurements/sparse_qpe.py:145: UserWarning: New multiplier is between 1 and 2, this may be inefficient.\n",
      "/home/teobrien/packages/openfermion/src/openfermion/measurements/sparse_qpe.py:145: UserWarning: New multiplier is between 1 and 2, this may be inefficient.\n",
      "/home/teobrien/packages/openfermion/src/openfermion/measurements/sparse_qpe.py:145: UserWarning: New multiplier is between 1 and 2, this may be inefficient.\n",
      "/home/teobrien/packages/openfermion/src/openfermion/measurements/sparse_qpe.py:145: UserWarning: New multiplier is between 1 and 2, this may be inefficient.\n",
      "/home/teobrien/packages/openfermion/src/openfermion/measurements/sparse_qpe.py:145: UserWarning: New multiplier is between 1 and 2, this may be inefficient.\n",
      "/home/teobrien/packages/openfermion/src/openfermion/measurements/sparse_qpe.py:145: UserWarning: New multiplier is between 1 and 2, this may be inefficient.\n",
      "/home/teobrien/packages/openfermion/src/openfermion/measurements/sparse_qpe.py:145: UserWarning: New multiplier is between 1 and 2, this may be inefficient.\n",
      "/home/teobrien/packages/openfermion/src/openfermion/measurements/sparse_qpe.py:145: UserWarning: New multiplier is between 1 and 2, this may be inefficient.\n",
      "/home/teobrien/packages/openfermion/src/openfermion/measurements/sparse_qpe.py:145: UserWarning: New multiplier is between 1 and 2, this may be inefficient.\n",
      "/home/teobrien/packages/openfermion/src/openfermion/measurements/sparse_qpe.py:145: UserWarning: New multiplier is between 1 and 2, this may be inefficient.\n",
      "/home/teobrien/packages/openfermion/src/openfermion/measurements/sparse_qpe.py:145: UserWarning: New multiplier is between 1 and 2, this may be inefficient.\n",
      "/home/teobrien/packages/openfermion/src/openfermion/measurements/sparse_qpe.py:145: UserWarning: New multiplier is between 1 and 2, this may be inefficient.\n",
      "/home/teobrien/packages/openfermion/src/openfermion/measurements/sparse_qpe.py:145: UserWarning: New multiplier is between 1 and 2, this may be inefficient.\n",
      "/home/teobrien/packages/openfermion/src/openfermion/measurements/sparse_qpe.py:145: UserWarning: New multiplier is between 1 and 2, this may be inefficient.\n",
      "/home/teobrien/packages/openfermion/src/openfermion/measurements/sparse_qpe.py:145: UserWarning: New multiplier is between 1 and 2, this may be inefficient.\n",
      "/home/teobrien/packages/openfermion/src/openfermion/measurements/sparse_qpe.py:145: UserWarning: New multiplier is between 1 and 2, this may be inefficient.\n",
      "/home/teobrien/packages/openfermion/src/openfermion/measurements/sparse_qpe.py:145: UserWarning: New multiplier is between 1 and 2, this may be inefficient.\n",
      "/home/teobrien/packages/openfermion/src/openfermion/measurements/sparse_qpe.py:145: UserWarning: New multiplier is between 1 and 2, this may be inefficient.\n",
      "/home/teobrien/packages/openfermion/src/openfermion/measurements/sparse_qpe.py:145: UserWarning: New multiplier is between 1 and 2, this may be inefficient.\n",
      "/home/teobrien/packages/openfermion/src/openfermion/measurements/sparse_qpe.py:145: UserWarning: New multiplier is between 1 and 2, this may be inefficient.\n",
      "/home/teobrien/packages/openfermion/src/openfermion/measurements/sparse_qpe.py:145: UserWarning: New multiplier is between 1 and 2, this may be inefficient.\n",
      "/home/teobrien/packages/openfermion/src/openfermion/measurements/sparse_qpe.py:145: UserWarning: New multiplier is between 1 and 2, this may be inefficient.\n",
      "/home/teobrien/packages/openfermion/src/openfermion/measurements/sparse_qpe.py:145: UserWarning: New multiplier is between 1 and 2, this may be inefficient.\n",
      "/home/teobrien/packages/openfermion/src/openfermion/measurements/sparse_qpe.py:145: UserWarning: New multiplier is between 1 and 2, this may be inefficient.\n",
      "/home/teobrien/packages/openfermion/src/openfermion/measurements/sparse_qpe.py:145: UserWarning: New multiplier is between 1 and 2, this may be inefficient.\n",
      "/home/teobrien/packages/openfermion/src/openfermion/measurements/sparse_qpe.py:145: UserWarning: New multiplier is between 1 and 2, this may be inefficient.\n",
      "/home/teobrien/packages/openfermion/src/openfermion/measurements/sparse_qpe.py:145: UserWarning: New multiplier is between 1 and 2, this may be inefficient.\n",
      "/home/teobrien/packages/openfermion/src/openfermion/measurements/sparse_qpe.py:145: UserWarning: New multiplier is between 1 and 2, this may be inefficient.\n",
      "/home/teobrien/packages/openfermion/src/openfermion/measurements/sparse_qpe.py:145: UserWarning: New multiplier is between 1 and 2, this may be inefficient.\n",
      "/home/teobrien/packages/openfermion/src/openfermion/measurements/sparse_qpe.py:145: UserWarning: New multiplier is between 1 and 2, this may be inefficient.\n",
      "/home/teobrien/packages/openfermion/src/openfermion/measurements/sparse_qpe.py:145: UserWarning: New multiplier is between 1 and 2, this may be inefficient.\n",
      "/home/teobrien/packages/openfermion/src/openfermion/measurements/sparse_qpe.py:145: UserWarning: New multiplier is between 1 and 2, this may be inefficient.\n",
      "/home/teobrien/packages/openfermion/src/openfermion/measurements/sparse_qpe.py:145: UserWarning: New multiplier is between 1 and 2, this may be inefficient.\n",
      "/home/teobrien/packages/openfermion/src/openfermion/measurements/sparse_qpe.py:145: UserWarning: New multiplier is between 1 and 2, this may be inefficient.\n",
      "/home/teobrien/packages/openfermion/src/openfermion/measurements/sparse_qpe.py:145: UserWarning: New multiplier is between 1 and 2, this may be inefficient.\n",
      "/home/teobrien/packages/openfermion/src/openfermion/measurements/sparse_qpe.py:145: UserWarning: New multiplier is between 1 and 2, this may be inefficient.\n",
      "/home/teobrien/packages/openfermion/src/openfermion/measurements/sparse_qpe.py:145: UserWarning: New multiplier is between 1 and 2, this may be inefficient.\n",
      "/home/teobrien/packages/openfermion/src/openfermion/measurements/sparse_qpe.py:145: UserWarning: New multiplier is between 1 and 2, this may be inefficient.\n",
      "/home/teobrien/packages/openfermion/src/openfermion/measurements/sparse_qpe.py:145: UserWarning: New multiplier is between 1 and 2, this may be inefficient.\n",
      "/home/teobrien/packages/openfermion/src/openfermion/measurements/sparse_qpe.py:145: UserWarning: New multiplier is between 1 and 2, this may be inefficient.\n",
      "/home/teobrien/packages/openfermion/src/openfermion/measurements/sparse_qpe.py:145: UserWarning: New multiplier is between 1 and 2, this may be inefficient.\n",
      "/home/teobrien/packages/openfermion/src/openfermion/measurements/sparse_qpe.py:145: UserWarning: New multiplier is between 1 and 2, this may be inefficient.\n",
      "/home/teobrien/packages/openfermion/src/openfermion/measurements/sparse_qpe.py:145: UserWarning: New multiplier is between 1 and 2, this may be inefficient.\n",
      "/home/teobrien/packages/openfermion/src/openfermion/measurements/sparse_qpe.py:145: UserWarning: New multiplier is between 1 and 2, this may be inefficient.\n",
      "/home/teobrien/packages/openfermion/src/openfermion/measurements/sparse_qpe.py:145: UserWarning: New multiplier is between 1 and 2, this may be inefficient.\n",
      "/home/teobrien/packages/openfermion/src/openfermion/measurements/sparse_qpe.py:145: UserWarning: New multiplier is between 1 and 2, this may be inefficient.\n",
      "/home/teobrien/packages/openfermion/src/openfermion/measurements/sparse_qpe.py:145: UserWarning: New multiplier is between 1 and 2, this may be inefficient.\n",
      "/home/teobrien/packages/openfermion/src/openfermion/measurements/sparse_qpe.py:145: UserWarning: New multiplier is between 1 and 2, this may be inefficient.\n",
      "/home/teobrien/packages/openfermion/src/openfermion/measurements/sparse_qpe.py:145: UserWarning: New multiplier is between 1 and 2, this may be inefficient.\n",
      "/home/teobrien/packages/openfermion/src/openfermion/measurements/sparse_qpe.py:145: UserWarning: New multiplier is between 1 and 2, this may be inefficient.\n",
      "/home/teobrien/packages/openfermion/src/openfermion/measurements/sparse_qpe.py:145: UserWarning: New multiplier is between 1 and 2, this may be inefficient.\n",
      "/home/teobrien/packages/openfermion/src/openfermion/measurements/sparse_qpe.py:145: UserWarning: New multiplier is between 1 and 2, this may be inefficient.\n",
      "/home/teobrien/packages/openfermion/src/openfermion/measurements/sparse_qpe.py:145: UserWarning: New multiplier is between 1 and 2, this may be inefficient.\n",
      "/home/teobrien/packages/openfermion/src/openfermion/measurements/sparse_qpe.py:145: UserWarning: New multiplier is between 1 and 2, this may be inefficient.\n",
      "/home/teobrien/packages/openfermion/src/openfermion/measurements/sparse_qpe.py:145: UserWarning: New multiplier is between 1 and 2, this may be inefficient.\n",
      "/home/teobrien/packages/openfermion/src/openfermion/measurements/sparse_qpe.py:145: UserWarning: New multiplier is between 1 and 2, this may be inefficient.\n",
      "/home/teobrien/packages/openfermion/src/openfermion/measurements/sparse_qpe.py:145: UserWarning: New multiplier is between 1 and 2, this may be inefficient.\n",
      "/home/teobrien/packages/openfermion/src/openfermion/measurements/sparse_qpe.py:145: UserWarning: New multiplier is between 1 and 2, this may be inefficient.\n",
      "/home/teobrien/packages/openfermion/src/openfermion/measurements/sparse_qpe.py:145: UserWarning: New multiplier is between 1 and 2, this may be inefficient.\n",
      "/home/teobrien/packages/openfermion/src/openfermion/measurements/sparse_qpe.py:145: UserWarning: New multiplier is between 1 and 2, this may be inefficient.\n",
      "/home/teobrien/packages/openfermion/src/openfermion/measurements/sparse_qpe.py:145: UserWarning: New multiplier is between 1 and 2, this may be inefficient.\n",
      "/home/teobrien/packages/openfermion/src/openfermion/measurements/sparse_qpe.py:145: UserWarning: New multiplier is between 1 and 2, this may be inefficient.\n",
      "/home/teobrien/packages/openfermion/src/openfermion/measurements/sparse_qpe.py:145: UserWarning: New multiplier is between 1 and 2, this may be inefficient.\n",
      "/home/teobrien/packages/openfermion/src/openfermion/measurements/sparse_qpe.py:145: UserWarning: New multiplier is between 1 and 2, this may be inefficient.\n",
      "/home/teobrien/packages/openfermion/src/openfermion/measurements/sparse_qpe.py:145: UserWarning: New multiplier is between 1 and 2, this may be inefficient.\n",
      "/home/teobrien/packages/openfermion/src/openfermion/measurements/sparse_qpe.py:145: UserWarning: New multiplier is between 1 and 2, this may be inefficient.\n",
      "/home/teobrien/packages/openfermion/src/openfermion/measurements/sparse_qpe.py:145: UserWarning: New multiplier is between 1 and 2, this may be inefficient.\n",
      "/home/teobrien/packages/openfermion/src/openfermion/measurements/sparse_qpe.py:145: UserWarning: New multiplier is between 1 and 2, this may be inefficient.\n",
      "/home/teobrien/packages/openfermion/src/openfermion/measurements/sparse_qpe.py:145: UserWarning: New multiplier is between 1 and 2, this may be inefficient.\n",
      "/home/teobrien/packages/openfermion/src/openfermion/measurements/sparse_qpe.py:145: UserWarning: New multiplier is between 1 and 2, this may be inefficient.\n",
      "/home/teobrien/packages/openfermion/src/openfermion/measurements/sparse_qpe.py:145: UserWarning: New multiplier is between 1 and 2, this may be inefficient.\n",
      "/home/teobrien/packages/openfermion/src/openfermion/measurements/sparse_qpe.py:145: UserWarning: New multiplier is between 1 and 2, this may be inefficient.\n",
      "/home/teobrien/packages/openfermion/src/openfermion/measurements/sparse_qpe.py:145: UserWarning: New multiplier is between 1 and 2, this may be inefficient.\n",
      "/home/teobrien/packages/openfermion/src/openfermion/measurements/sparse_qpe.py:145: UserWarning: New multiplier is between 1 and 2, this may be inefficient.\n",
      "/home/teobrien/packages/openfermion/src/openfermion/measurements/sparse_qpe.py:145: UserWarning: New multiplier is between 1 and 2, this may be inefficient.\n",
      "/home/teobrien/packages/openfermion/src/openfermion/measurements/sparse_qpe.py:145: UserWarning: New multiplier is between 1 and 2, this may be inefficient.\n",
      "/home/teobrien/packages/openfermion/src/openfermion/measurements/sparse_qpe.py:145: UserWarning: New multiplier is between 1 and 2, this may be inefficient.\n",
      "/home/teobrien/packages/openfermion/src/openfermion/measurements/sparse_qpe.py:145: UserWarning: New multiplier is between 1 and 2, this may be inefficient.\n",
      "/home/teobrien/packages/openfermion/src/openfermion/measurements/sparse_qpe.py:145: UserWarning: New multiplier is between 1 and 2, this may be inefficient.\n",
      "/home/teobrien/packages/openfermion/src/openfermion/measurements/sparse_qpe.py:145: UserWarning: New multiplier is between 1 and 2, this may be inefficient.\n",
      "/home/teobrien/packages/openfermion/src/openfermion/measurements/sparse_qpe.py:145: UserWarning: New multiplier is between 1 and 2, this may be inefficient.\n",
      "/home/teobrien/packages/openfermion/src/openfermion/measurements/sparse_qpe.py:145: UserWarning: New multiplier is between 1 and 2, this may be inefficient.\n",
      "/home/teobrien/packages/openfermion/src/openfermion/measurements/sparse_qpe.py:145: UserWarning: New multiplier is between 1 and 2, this may be inefficient.\n",
      "/home/teobrien/packages/openfermion/src/openfermion/measurements/sparse_qpe.py:145: UserWarning: New multiplier is between 1 and 2, this may be inefficient.\n",
      "/home/teobrien/packages/openfermion/src/openfermion/measurements/sparse_qpe.py:145: UserWarning: New multiplier is between 1 and 2, this may be inefficient.\n",
      "/home/teobrien/packages/openfermion/src/openfermion/measurements/sparse_qpe.py:145: UserWarning: New multiplier is between 1 and 2, this may be inefficient.\n",
      "/home/teobrien/packages/openfermion/src/openfermion/measurements/sparse_qpe.py:145: UserWarning: New multiplier is between 1 and 2, this may be inefficient.\n",
      "/home/teobrien/packages/openfermion/src/openfermion/measurements/sparse_qpe.py:145: UserWarning: New multiplier is between 1 and 2, this may be inefficient.\n",
      "/home/teobrien/packages/openfermion/src/openfermion/measurements/sparse_qpe.py:145: UserWarning: New multiplier is between 1 and 2, this may be inefficient.\n",
      "/home/teobrien/packages/openfermion/src/openfermion/measurements/sparse_qpe.py:145: UserWarning: New multiplier is between 1 and 2, this may be inefficient.\n",
      "/home/teobrien/packages/openfermion/src/openfermion/measurements/sparse_qpe.py:145: UserWarning: New multiplier is between 1 and 2, this may be inefficient.\n",
      "/home/teobrien/packages/openfermion/src/openfermion/measurements/sparse_qpe.py:145: UserWarning: New multiplier is between 1 and 2, this may be inefficient.\n",
      "/home/teobrien/packages/openfermion/src/openfermion/measurements/sparse_qpe.py:145: UserWarning: New multiplier is between 1 and 2, this may be inefficient.\n",
      "/home/teobrien/packages/openfermion/src/openfermion/measurements/sparse_qpe.py:145: UserWarning: New multiplier is between 1 and 2, this may be inefficient.\n",
      "/home/teobrien/packages/openfermion/src/openfermion/measurements/sparse_qpe.py:145: UserWarning: New multiplier is between 1 and 2, this may be inefficient.\n",
      "/home/teobrien/packages/openfermion/src/openfermion/measurements/sparse_qpe.py:145: UserWarning: New multiplier is between 1 and 2, this may be inefficient.\n",
      "/home/teobrien/packages/openfermion/src/openfermion/measurements/sparse_qpe.py:145: UserWarning: New multiplier is between 1 and 2, this may be inefficient.\n",
      "/home/teobrien/packages/openfermion/src/openfermion/measurements/sparse_qpe.py:145: UserWarning: New multiplier is between 1 and 2, this may be inefficient.\n",
      "/home/teobrien/packages/openfermion/src/openfermion/measurements/sparse_qpe.py:145: UserWarning: New multiplier is between 1 and 2, this may be inefficient.\n",
      "/home/teobrien/packages/openfermion/src/openfermion/measurements/sparse_qpe.py:145: UserWarning: New multiplier is between 1 and 2, this may be inefficient.\n",
      "/home/teobrien/packages/openfermion/src/openfermion/measurements/sparse_qpe.py:145: UserWarning: New multiplier is between 1 and 2, this may be inefficient.\n",
      "/home/teobrien/packages/openfermion/src/openfermion/measurements/sparse_qpe.py:145: UserWarning: New multiplier is between 1 and 2, this may be inefficient.\n",
      "/home/teobrien/packages/openfermion/src/openfermion/measurements/sparse_qpe.py:145: UserWarning: New multiplier is between 1 and 2, this may be inefficient.\n",
      "/home/teobrien/packages/openfermion/src/openfermion/measurements/sparse_qpe.py:145: UserWarning: New multiplier is between 1 and 2, this may be inefficient.\n"
     ]
    },
    {
     "name": "stderr",
     "output_type": "stream",
     "text": [
      "/home/teobrien/packages/openfermion/src/openfermion/measurements/sparse_qpe.py:145: UserWarning: New multiplier is between 1 and 2, this may be inefficient.\n",
      "/home/teobrien/packages/openfermion/src/openfermion/measurements/sparse_qpe.py:145: UserWarning: New multiplier is between 1 and 2, this may be inefficient.\n",
      "/home/teobrien/packages/openfermion/src/openfermion/measurements/sparse_qpe.py:145: UserWarning: New multiplier is between 1 and 2, this may be inefficient.\n",
      "/home/teobrien/packages/openfermion/src/openfermion/measurements/sparse_qpe.py:145: UserWarning: New multiplier is between 1 and 2, this may be inefficient.\n",
      "/home/teobrien/packages/openfermion/src/openfermion/measurements/sparse_qpe.py:145: UserWarning: New multiplier is between 1 and 2, this may be inefficient.\n",
      "/home/teobrien/packages/openfermion/src/openfermion/measurements/sparse_qpe.py:145: UserWarning: New multiplier is between 1 and 2, this may be inefficient.\n",
      "/home/teobrien/packages/openfermion/src/openfermion/measurements/sparse_qpe.py:145: UserWarning: New multiplier is between 1 and 2, this may be inefficient.\n",
      "/home/teobrien/packages/openfermion/src/openfermion/measurements/sparse_qpe.py:145: UserWarning: New multiplier is between 1 and 2, this may be inefficient.\n",
      "/home/teobrien/packages/openfermion/src/openfermion/measurements/sparse_qpe.py:145: UserWarning: New multiplier is between 1 and 2, this may be inefficient.\n",
      "/home/teobrien/packages/openfermion/src/openfermion/measurements/sparse_qpe.py:145: UserWarning: New multiplier is between 1 and 2, this may be inefficient.\n",
      "/home/teobrien/packages/openfermion/src/openfermion/measurements/sparse_qpe.py:145: UserWarning: New multiplier is between 1 and 2, this may be inefficient.\n",
      "/home/teobrien/packages/openfermion/src/openfermion/measurements/sparse_qpe.py:145: UserWarning: New multiplier is between 1 and 2, this may be inefficient.\n",
      "/home/teobrien/packages/openfermion/src/openfermion/measurements/sparse_qpe.py:145: UserWarning: New multiplier is between 1 and 2, this may be inefficient.\n",
      "/home/teobrien/packages/openfermion/src/openfermion/measurements/sparse_qpe.py:145: UserWarning: New multiplier is between 1 and 2, this may be inefficient.\n",
      "/home/teobrien/packages/openfermion/src/openfermion/measurements/sparse_qpe.py:145: UserWarning: New multiplier is between 1 and 2, this may be inefficient.\n",
      "/home/teobrien/packages/openfermion/src/openfermion/measurements/sparse_qpe.py:145: UserWarning: New multiplier is between 1 and 2, this may be inefficient.\n",
      "/home/teobrien/packages/openfermion/src/openfermion/measurements/sparse_qpe.py:145: UserWarning: New multiplier is between 1 and 2, this may be inefficient.\n",
      "/home/teobrien/packages/openfermion/src/openfermion/measurements/sparse_qpe.py:145: UserWarning: New multiplier is between 1 and 2, this may be inefficient.\n",
      "/home/teobrien/packages/openfermion/src/openfermion/measurements/sparse_qpe.py:145: UserWarning: New multiplier is between 1 and 2, this may be inefficient.\n",
      "/home/teobrien/packages/openfermion/src/openfermion/measurements/sparse_qpe.py:145: UserWarning: New multiplier is between 1 and 2, this may be inefficient.\n",
      "/home/teobrien/packages/openfermion/src/openfermion/measurements/sparse_qpe.py:145: UserWarning: New multiplier is between 1 and 2, this may be inefficient.\n",
      "/home/teobrien/packages/openfermion/src/openfermion/measurements/sparse_qpe.py:145: UserWarning: New multiplier is between 1 and 2, this may be inefficient.\n",
      "/home/teobrien/packages/openfermion/src/openfermion/measurements/sparse_qpe.py:145: UserWarning: New multiplier is between 1 and 2, this may be inefficient.\n",
      "/home/teobrien/packages/openfermion/src/openfermion/measurements/sparse_qpe.py:145: UserWarning: New multiplier is between 1 and 2, this may be inefficient.\n",
      "/home/teobrien/packages/openfermion/src/openfermion/measurements/sparse_qpe.py:145: UserWarning: New multiplier is between 1 and 2, this may be inefficient.\n",
      "/home/teobrien/packages/openfermion/src/openfermion/measurements/sparse_qpe.py:145: UserWarning: New multiplier is between 1 and 2, this may be inefficient.\n",
      "/home/teobrien/packages/openfermion/src/openfermion/measurements/sparse_qpe.py:145: UserWarning: New multiplier is between 1 and 2, this may be inefficient.\n",
      "/home/teobrien/packages/openfermion/src/openfermion/measurements/sparse_qpe.py:145: UserWarning: New multiplier is between 1 and 2, this may be inefficient.\n",
      "/home/teobrien/packages/openfermion/src/openfermion/measurements/sparse_qpe.py:145: UserWarning: New multiplier is between 1 and 2, this may be inefficient.\n",
      "/home/teobrien/packages/openfermion/src/openfermion/measurements/sparse_qpe.py:145: UserWarning: New multiplier is between 1 and 2, this may be inefficient.\n",
      "/home/teobrien/packages/openfermion/src/openfermion/measurements/sparse_qpe.py:145: UserWarning: New multiplier is between 1 and 2, this may be inefficient.\n",
      "/home/teobrien/packages/openfermion/src/openfermion/measurements/sparse_qpe.py:145: UserWarning: New multiplier is between 1 and 2, this may be inefficient.\n",
      "/home/teobrien/packages/openfermion/src/openfermion/measurements/sparse_qpe.py:145: UserWarning: New multiplier is between 1 and 2, this may be inefficient.\n",
      "/home/teobrien/packages/openfermion/src/openfermion/measurements/sparse_qpe.py:145: UserWarning: New multiplier is between 1 and 2, this may be inefficient.\n",
      "/home/teobrien/packages/openfermion/src/openfermion/measurements/sparse_qpe.py:145: UserWarning: New multiplier is between 1 and 2, this may be inefficient.\n",
      "/home/teobrien/packages/openfermion/src/openfermion/measurements/sparse_qpe.py:145: UserWarning: New multiplier is between 1 and 2, this may be inefficient.\n",
      "/home/teobrien/packages/openfermion/src/openfermion/measurements/sparse_qpe.py:145: UserWarning: New multiplier is between 1 and 2, this may be inefficient.\n",
      "/home/teobrien/packages/openfermion/src/openfermion/measurements/sparse_qpe.py:145: UserWarning: New multiplier is between 1 and 2, this may be inefficient.\n",
      "/home/teobrien/packages/openfermion/src/openfermion/measurements/sparse_qpe.py:145: UserWarning: New multiplier is between 1 and 2, this may be inefficient.\n",
      "/home/teobrien/packages/openfermion/src/openfermion/measurements/sparse_qpe.py:145: UserWarning: New multiplier is between 1 and 2, this may be inefficient.\n",
      "/home/teobrien/packages/openfermion/src/openfermion/measurements/sparse_qpe.py:145: UserWarning: New multiplier is between 1 and 2, this may be inefficient.\n",
      "/home/teobrien/packages/openfermion/src/openfermion/measurements/sparse_qpe.py:145: UserWarning: New multiplier is between 1 and 2, this may be inefficient.\n",
      "/home/teobrien/packages/openfermion/src/openfermion/measurements/sparse_qpe.py:145: UserWarning: New multiplier is between 1 and 2, this may be inefficient.\n",
      "/home/teobrien/packages/openfermion/src/openfermion/measurements/sparse_qpe.py:145: UserWarning: New multiplier is between 1 and 2, this may be inefficient.\n",
      "/home/teobrien/packages/openfermion/src/openfermion/measurements/sparse_qpe.py:145: UserWarning: New multiplier is between 1 and 2, this may be inefficient.\n",
      "/home/teobrien/packages/openfermion/src/openfermion/measurements/sparse_qpe.py:145: UserWarning: New multiplier is between 1 and 2, this may be inefficient.\n",
      "/home/teobrien/packages/openfermion/src/openfermion/measurements/sparse_qpe.py:145: UserWarning: New multiplier is between 1 and 2, this may be inefficient.\n",
      "/home/teobrien/packages/openfermion/src/openfermion/measurements/sparse_qpe.py:145: UserWarning: New multiplier is between 1 and 2, this may be inefficient.\n",
      "/home/teobrien/packages/openfermion/src/openfermion/measurements/sparse_qpe.py:145: UserWarning: New multiplier is between 1 and 2, this may be inefficient.\n",
      "/home/teobrien/packages/openfermion/src/openfermion/measurements/sparse_qpe.py:145: UserWarning: New multiplier is between 1 and 2, this may be inefficient.\n",
      "/home/teobrien/packages/openfermion/src/openfermion/measurements/sparse_qpe.py:145: UserWarning: New multiplier is between 1 and 2, this may be inefficient.\n",
      "/home/teobrien/packages/openfermion/src/openfermion/measurements/sparse_qpe.py:145: UserWarning: New multiplier is between 1 and 2, this may be inefficient.\n",
      "/home/teobrien/packages/openfermion/src/openfermion/measurements/sparse_qpe.py:145: UserWarning: New multiplier is between 1 and 2, this may be inefficient.\n",
      "/home/teobrien/packages/openfermion/src/openfermion/measurements/sparse_qpe.py:145: UserWarning: New multiplier is between 1 and 2, this may be inefficient.\n",
      "/home/teobrien/packages/openfermion/src/openfermion/measurements/sparse_qpe.py:145: UserWarning: New multiplier is between 1 and 2, this may be inefficient.\n",
      "/home/teobrien/packages/openfermion/src/openfermion/measurements/sparse_qpe.py:145: UserWarning: New multiplier is between 1 and 2, this may be inefficient.\n",
      "/home/teobrien/packages/openfermion/src/openfermion/measurements/sparse_qpe.py:145: UserWarning: New multiplier is between 1 and 2, this may be inefficient.\n",
      "/home/teobrien/packages/openfermion/src/openfermion/measurements/sparse_qpe.py:145: UserWarning: New multiplier is between 1 and 2, this may be inefficient.\n",
      "/home/teobrien/packages/openfermion/src/openfermion/measurements/sparse_qpe.py:145: UserWarning: New multiplier is between 1 and 2, this may be inefficient.\n",
      "/home/teobrien/packages/openfermion/src/openfermion/measurements/sparse_qpe.py:145: UserWarning: New multiplier is between 1 and 2, this may be inefficient.\n",
      "/home/teobrien/packages/openfermion/src/openfermion/measurements/sparse_qpe.py:145: UserWarning: New multiplier is between 1 and 2, this may be inefficient.\n",
      "/home/teobrien/packages/openfermion/src/openfermion/measurements/sparse_qpe.py:145: UserWarning: New multiplier is between 1 and 2, this may be inefficient.\n",
      "/home/teobrien/packages/openfermion/src/openfermion/measurements/sparse_qpe.py:145: UserWarning: New multiplier is between 1 and 2, this may be inefficient.\n",
      "/home/teobrien/packages/openfermion/src/openfermion/measurements/sparse_qpe.py:145: UserWarning: New multiplier is between 1 and 2, this may be inefficient.\n",
      "/home/teobrien/packages/openfermion/src/openfermion/measurements/sparse_qpe.py:145: UserWarning: New multiplier is between 1 and 2, this may be inefficient.\n"
     ]
    },
    {
     "name": "stdout",
     "output_type": "stream",
     "text": [
      "Executed in: 0:00:00.353372\n",
      "22 Started at: 2020-11-12 14:31:13.878425\n",
      "[3.5268161  0.35500549 1.17084426 5.23711636 2.20709223]\n"
     ]
    },
    {
     "name": "stderr",
     "output_type": "stream",
     "text": [
      "/home/teobrien/packages/openfermion/src/openfermion/measurements/sparse_qpe.py:46: UserWarning: No matched phase found, could be spurious detection at this order.\n"
     ]
    },
    {
     "name": "stdout",
     "output_type": "stream",
     "text": [
      "Executed in: 0:00:00.847665\n",
      "23 Started at: 2020-11-12 14:31:14.726678\n",
      "[2.99202313 5.84864622 2.6050563  0.39844122 4.30489424]\n"
     ]
    },
    {
     "name": "stderr",
     "output_type": "stream",
     "text": [
      "/home/teobrien/packages/openfermion/src/openfermion/measurements/sparse_qpe.py:145: UserWarning: New multiplier is between 1 and 2, this may be inefficient.\n",
      "/home/teobrien/packages/openfermion/src/openfermion/measurements/sparse_qpe.py:145: UserWarning: New multiplier is between 1 and 2, this may be inefficient.\n",
      "/home/teobrien/packages/openfermion/src/openfermion/measurements/sparse_qpe.py:145: UserWarning: New multiplier is between 1 and 2, this may be inefficient.\n",
      "/home/teobrien/packages/openfermion/src/openfermion/measurements/sparse_qpe.py:145: UserWarning: New multiplier is between 1 and 2, this may be inefficient.\n",
      "/home/teobrien/packages/openfermion/src/openfermion/measurements/sparse_qpe.py:145: UserWarning: New multiplier is between 1 and 2, this may be inefficient.\n",
      "/home/teobrien/packages/openfermion/src/openfermion/measurements/sparse_qpe.py:145: UserWarning: New multiplier is between 1 and 2, this may be inefficient.\n"
     ]
    },
    {
     "name": "stdout",
     "output_type": "stream",
     "text": [
      "Executed in: 0:00:01.468562\n",
      "24 Started at: 2020-11-12 14:31:16.195759\n",
      "[0.07206594 5.85540799 2.0002774  3.31048857 2.87116964]\n"
     ]
    },
    {
     "name": "stderr",
     "output_type": "stream",
     "text": [
      "/home/teobrien/packages/openfermion/src/openfermion/measurements/sparse_qpe.py:46: UserWarning: No matched phase found, could be spurious detection at this order.\n",
      "/home/teobrien/packages/openfermion/src/openfermion/measurements/sparse_qpe.py:46: UserWarning: No matched phase found, could be spurious detection at this order.\n",
      "/home/teobrien/packages/openfermion/src/openfermion/measurements/sparse_qpe.py:46: UserWarning: No matched phase found, could be spurious detection at this order.\n",
      "/home/teobrien/packages/openfermion/src/openfermion/measurements/sparse_qpe.py:46: UserWarning: No matched phase found, could be spurious detection at this order.\n",
      "/home/teobrien/packages/openfermion/src/openfermion/measurements/sparse_qpe.py:46: UserWarning: No matched phase found, could be spurious detection at this order.\n",
      "/home/teobrien/packages/openfermion/src/openfermion/measurements/sparse_qpe.py:46: UserWarning: No matched phase found, could be spurious detection at this order.\n",
      "/home/teobrien/packages/openfermion/src/openfermion/measurements/sparse_qpe.py:46: UserWarning: No matched phase found, could be spurious detection at this order.\n"
     ]
    },
    {
     "name": "stdout",
     "output_type": "stream",
     "text": [
      "Executed in: 0:00:01.161426\n",
      "25 Started at: 2020-11-12 14:31:17.357524\n",
      "[5.2861637  3.04455356 3.76204171 4.6774294  3.45525924]\n",
      "Executed in: 0:00:00.529096\n",
      "26 Started at: 2020-11-12 14:31:17.886903\n",
      "[4.11482245 1.58571922 1.77639125 0.09355362 5.18670199]\n"
     ]
    },
    {
     "name": "stderr",
     "output_type": "stream",
     "text": [
      "/home/teobrien/packages/openfermion/src/openfermion/measurements/sparse_qpe.py:46: UserWarning: No matched phase found, could be spurious detection at this order.\n"
     ]
    },
    {
     "name": "stdout",
     "output_type": "stream",
     "text": [
      "Executed in: 0:00:01.370156\n",
      "27 Started at: 2020-11-12 14:31:19.257512\n",
      "[0.90604134 1.26444564 1.41834042 4.68177312 2.83613917]\n"
     ]
    },
    {
     "name": "stderr",
     "output_type": "stream",
     "text": [
      "/home/teobrien/packages/openfermion/src/openfermion/measurements/sparse_qpe.py:46: UserWarning: No matched phase found, could be spurious detection at this order.\n"
     ]
    },
    {
     "name": "stdout",
     "output_type": "stream",
     "text": [
      "Executed in: 0:00:00.956952\n",
      "28 Started at: 2020-11-12 14:31:20.214929\n",
      "[4.92233173 3.82676008 2.28126422 6.21717427 5.39875456]\n"
     ]
    },
    {
     "name": "stderr",
     "output_type": "stream",
     "text": [
      "/home/teobrien/packages/openfermion/src/openfermion/measurements/sparse_qpe.py:145: UserWarning: New multiplier is between 1 and 2, this may be inefficient.\n",
      "/home/teobrien/packages/openfermion/src/openfermion/measurements/sparse_qpe.py:145: UserWarning: New multiplier is between 1 and 2, this may be inefficient.\n"
     ]
    },
    {
     "name": "stdout",
     "output_type": "stream",
     "text": [
      "Executed in: 0:00:00.567929\n",
      "29 Started at: 2020-11-12 14:31:20.783425\n",
      "[1.41950507 1.69257972 2.42002627 2.06952048 5.83128645]\n",
      "Executed in: 0:00:00.892156\n",
      "30 Started at: 2020-11-12 14:31:21.676062\n",
      "[3.5590186  2.96002212 6.0568151  3.92356294 3.16755107]\n"
     ]
    },
    {
     "name": "stderr",
     "output_type": "stream",
     "text": [
      "/home/teobrien/packages/openfermion/src/openfermion/measurements/sparse_qpe.py:46: UserWarning: No matched phase found, could be spurious detection at this order.\n",
      "/home/teobrien/packages/openfermion/src/openfermion/measurements/sparse_qpe.py:46: UserWarning: No matched phase found, could be spurious detection at this order.\n",
      "/home/teobrien/packages/openfermion/src/openfermion/measurements/sparse_qpe.py:46: UserWarning: No matched phase found, could be spurious detection at this order.\n",
      "/home/teobrien/packages/openfermion/src/openfermion/measurements/sparse_qpe.py:46: UserWarning: No matched phase found, could be spurious detection at this order.\n"
     ]
    },
    {
     "name": "stdout",
     "output_type": "stream",
     "text": [
      "Executed in: 0:00:01.225205\n",
      "31 Started at: 2020-11-12 14:31:22.901601\n",
      "[2.20226866 0.67007971 4.49799186 5.99208619 1.38170429]\n",
      "Executed in: 0:00:01.039682\n",
      "32 Started at: 2020-11-12 14:31:23.941741\n",
      "[4.74476344 4.8366945  5.33019175 5.99973724 3.56081307]\n",
      "Executed in: 0:00:00.962330\n",
      "33 Started at: 2020-11-12 14:31:24.904544\n",
      "[2.80510519 4.61425502 4.40680863 2.53507428 2.80535411]\n",
      "Couldnt find good beta, exiting\n",
      "Executed in: 0:00:00.494708\n",
      "34 Started at: 2020-11-12 14:31:25.399294\n",
      "[1.28101891 5.93007242 2.56919131 5.94883321 1.67421362]\n",
      "Executed in: 0:00:03.281424\n",
      "35 Started at: 2020-11-12 14:31:28.681159\n",
      "[4.94386684 5.87618496 1.90262975 2.5602738  5.50821155]\n"
     ]
    },
    {
     "name": "stderr",
     "output_type": "stream",
     "text": [
      "/home/teobrien/packages/openfermion/src/openfermion/measurements/sparse_qpe.py:145: UserWarning: New multiplier is between 1 and 2, this may be inefficient.\n",
      "/home/teobrien/packages/openfermion/src/openfermion/measurements/sparse_qpe.py:145: UserWarning: New multiplier is between 1 and 2, this may be inefficient.\n",
      "/home/teobrien/packages/openfermion/src/openfermion/measurements/sparse_qpe.py:145: UserWarning: New multiplier is between 1 and 2, this may be inefficient.\n",
      "/home/teobrien/packages/openfermion/src/openfermion/measurements/sparse_qpe.py:145: UserWarning: New multiplier is between 1 and 2, this may be inefficient.\n",
      "/home/teobrien/packages/openfermion/src/openfermion/measurements/sparse_qpe.py:145: UserWarning: New multiplier is between 1 and 2, this may be inefficient.\n",
      "/home/teobrien/packages/openfermion/src/openfermion/measurements/sparse_qpe.py:145: UserWarning: New multiplier is between 1 and 2, this may be inefficient.\n",
      "/home/teobrien/packages/openfermion/src/openfermion/measurements/sparse_qpe.py:145: UserWarning: New multiplier is between 1 and 2, this may be inefficient.\n",
      "/home/teobrien/packages/openfermion/src/openfermion/measurements/sparse_qpe.py:145: UserWarning: New multiplier is between 1 and 2, this may be inefficient.\n",
      "/home/teobrien/packages/openfermion/src/openfermion/measurements/sparse_qpe.py:145: UserWarning: New multiplier is between 1 and 2, this may be inefficient.\n",
      "/home/teobrien/packages/openfermion/src/openfermion/measurements/sparse_qpe.py:145: UserWarning: New multiplier is between 1 and 2, this may be inefficient.\n",
      "/home/teobrien/packages/openfermion/src/openfermion/measurements/sparse_qpe.py:145: UserWarning: New multiplier is between 1 and 2, this may be inefficient.\n",
      "/home/teobrien/packages/openfermion/src/openfermion/measurements/sparse_qpe.py:145: UserWarning: New multiplier is between 1 and 2, this may be inefficient.\n",
      "/home/teobrien/packages/openfermion/src/openfermion/measurements/sparse_qpe.py:145: UserWarning: New multiplier is between 1 and 2, this may be inefficient.\n",
      "/home/teobrien/packages/openfermion/src/openfermion/measurements/sparse_qpe.py:145: UserWarning: New multiplier is between 1 and 2, this may be inefficient.\n",
      "/home/teobrien/packages/openfermion/src/openfermion/measurements/sparse_qpe.py:145: UserWarning: New multiplier is between 1 and 2, this may be inefficient.\n",
      "/home/teobrien/packages/openfermion/src/openfermion/measurements/sparse_qpe.py:145: UserWarning: New multiplier is between 1 and 2, this may be inefficient.\n",
      "/home/teobrien/packages/openfermion/src/openfermion/measurements/sparse_qpe.py:145: UserWarning: New multiplier is between 1 and 2, this may be inefficient.\n",
      "/home/teobrien/packages/openfermion/src/openfermion/measurements/sparse_qpe.py:145: UserWarning: New multiplier is between 1 and 2, this may be inefficient.\n",
      "/home/teobrien/packages/openfermion/src/openfermion/measurements/sparse_qpe.py:145: UserWarning: New multiplier is between 1 and 2, this may be inefficient.\n",
      "/home/teobrien/packages/openfermion/src/openfermion/measurements/sparse_qpe.py:145: UserWarning: New multiplier is between 1 and 2, this may be inefficient.\n",
      "/home/teobrien/packages/openfermion/src/openfermion/measurements/sparse_qpe.py:145: UserWarning: New multiplier is between 1 and 2, this may be inefficient.\n",
      "/home/teobrien/packages/openfermion/src/openfermion/measurements/sparse_qpe.py:145: UserWarning: New multiplier is between 1 and 2, this may be inefficient.\n",
      "/home/teobrien/packages/openfermion/src/openfermion/measurements/sparse_qpe.py:145: UserWarning: New multiplier is between 1 and 2, this may be inefficient.\n",
      "/home/teobrien/packages/openfermion/src/openfermion/measurements/sparse_qpe.py:145: UserWarning: New multiplier is between 1 and 2, this may be inefficient.\n",
      "/home/teobrien/packages/openfermion/src/openfermion/measurements/sparse_qpe.py:145: UserWarning: New multiplier is between 1 and 2, this may be inefficient.\n",
      "/home/teobrien/packages/openfermion/src/openfermion/measurements/sparse_qpe.py:145: UserWarning: New multiplier is between 1 and 2, this may be inefficient.\n",
      "/home/teobrien/packages/openfermion/src/openfermion/measurements/sparse_qpe.py:145: UserWarning: New multiplier is between 1 and 2, this may be inefficient.\n",
      "/home/teobrien/packages/openfermion/src/openfermion/measurements/sparse_qpe.py:145: UserWarning: New multiplier is between 1 and 2, this may be inefficient.\n",
      "/home/teobrien/packages/openfermion/src/openfermion/measurements/sparse_qpe.py:145: UserWarning: New multiplier is between 1 and 2, this may be inefficient.\n",
      "/home/teobrien/packages/openfermion/src/openfermion/measurements/sparse_qpe.py:145: UserWarning: New multiplier is between 1 and 2, this may be inefficient.\n",
      "/home/teobrien/packages/openfermion/src/openfermion/measurements/sparse_qpe.py:145: UserWarning: New multiplier is between 1 and 2, this may be inefficient.\n",
      "/home/teobrien/packages/openfermion/src/openfermion/measurements/sparse_qpe.py:145: UserWarning: New multiplier is between 1 and 2, this may be inefficient.\n",
      "/home/teobrien/packages/openfermion/src/openfermion/measurements/sparse_qpe.py:145: UserWarning: New multiplier is between 1 and 2, this may be inefficient.\n",
      "/home/teobrien/packages/openfermion/src/openfermion/measurements/sparse_qpe.py:145: UserWarning: New multiplier is between 1 and 2, this may be inefficient.\n"
     ]
    },
    {
     "name": "stdout",
     "output_type": "stream",
     "text": [
      "Executed in: 0:00:00.488336\n",
      "36 Started at: 2020-11-12 14:31:29.170171\n",
      "[2.53697935 2.32926929 4.57526114 4.30857512 4.82252504]\n"
     ]
    },
    {
     "name": "stderr",
     "output_type": "stream",
     "text": [
      "/home/teobrien/packages/openfermion/src/openfermion/measurements/sparse_qpe.py:46: UserWarning: No matched phase found, could be spurious detection at this order.\n",
      "/home/teobrien/packages/openfermion/src/openfermion/measurements/sparse_qpe.py:46: UserWarning: No matched phase found, could be spurious detection at this order.\n",
      "/home/teobrien/packages/openfermion/src/openfermion/measurements/sparse_qpe.py:46: UserWarning: No matched phase found, could be spurious detection at this order.\n"
     ]
    },
    {
     "name": "stdout",
     "output_type": "stream",
     "text": [
      "Executed in: 0:00:01.697445\n",
      "37 Started at: 2020-11-12 14:31:30.867676\n",
      "[6.17056554 1.9933234  1.34800002 0.70559609 4.05974448]\n",
      "Executed in: 0:00:01.077354\n",
      "38 Started at: 2020-11-12 14:31:31.945502\n",
      "[0.3790426  0.49909537 3.18882702 5.98493856 6.13232028]\n"
     ]
    },
    {
     "name": "stderr",
     "output_type": "stream",
     "text": [
      "/home/teobrien/packages/openfermion/src/openfermion/measurements/sparse_qpe.py:46: UserWarning: No matched phase found, could be spurious detection at this order.\n"
     ]
    },
    {
     "name": "stdout",
     "output_type": "stream",
     "text": [
      "Executed in: 0:00:01.968058\n",
      "39 Started at: 2020-11-12 14:31:33.914011\n",
      "[1.80699557 1.14853378 2.57254403 2.96164527 4.97934918]\n"
     ]
    },
    {
     "name": "stderr",
     "output_type": "stream",
     "text": [
      "/home/teobrien/packages/openfermion/src/openfermion/measurements/sparse_qpe.py:46: UserWarning: No matched phase found, could be spurious detection at this order.\n",
      "/home/teobrien/packages/openfermion/src/openfermion/measurements/sparse_qpe.py:145: UserWarning: New multiplier is between 1 and 2, this may be inefficient.\n",
      "/home/teobrien/packages/openfermion/src/openfermion/measurements/sparse_qpe.py:145: UserWarning: New multiplier is between 1 and 2, this may be inefficient.\n",
      "/home/teobrien/packages/openfermion/src/openfermion/measurements/sparse_qpe.py:145: UserWarning: New multiplier is between 1 and 2, this may be inefficient.\n",
      "/home/teobrien/packages/openfermion/src/openfermion/measurements/sparse_qpe.py:145: UserWarning: New multiplier is between 1 and 2, this may be inefficient.\n",
      "/home/teobrien/packages/openfermion/src/openfermion/measurements/sparse_qpe.py:145: UserWarning: New multiplier is between 1 and 2, this may be inefficient.\n"
     ]
    },
    {
     "name": "stdout",
     "output_type": "stream",
     "text": [
      "Executed in: 0:00:00.561161\n",
      "40 Started at: 2020-11-12 14:31:34.475733\n",
      "[1.83351041 2.82253548 5.78810991 0.48385216 1.87769614]\n",
      "Executed in: 0:00:03.187657\n",
      "41 Started at: 2020-11-12 14:31:37.663818\n",
      "[2.45058816 3.09709937 2.95848458 2.36076142 2.16521465]\n"
     ]
    },
    {
     "name": "stderr",
     "output_type": "stream",
     "text": [
      "/home/teobrien/packages/openfermion/src/openfermion/measurements/sparse_qpe.py:46: UserWarning: No matched phase found, could be spurious detection at this order.\n",
      "/home/teobrien/packages/openfermion/src/openfermion/measurements/sparse_qpe.py:46: UserWarning: No matched phase found, could be spurious detection at this order.\n",
      "/home/teobrien/packages/openfermion/src/openfermion/measurements/sparse_qpe.py:145: UserWarning: New multiplier is between 1 and 2, this may be inefficient.\n",
      "/home/teobrien/packages/openfermion/src/openfermion/measurements/sparse_qpe.py:145: UserWarning: New multiplier is between 1 and 2, this may be inefficient.\n",
      "/home/teobrien/packages/openfermion/src/openfermion/measurements/sparse_qpe.py:46: UserWarning: No matched phase found, could be spurious detection at this order.\n"
     ]
    },
    {
     "name": "stdout",
     "output_type": "stream",
     "text": [
      "Executed in: 0:00:00.549214\n",
      "42 Started at: 2020-11-12 14:31:38.213571\n",
      "[2.61032166 0.79078579 0.32761392 1.8434403  0.27830774]\n"
     ]
    },
    {
     "name": "stderr",
     "output_type": "stream",
     "text": [
      "/home/teobrien/packages/openfermion/src/openfermion/measurements/sparse_qpe.py:46: UserWarning: No matched phase found, could be spurious detection at this order.\n",
      "/home/teobrien/packages/openfermion/src/openfermion/measurements/sparse_qpe.py:46: UserWarning: No matched phase found, could be spurious detection at this order.\n",
      "/home/teobrien/packages/openfermion/src/openfermion/measurements/sparse_qpe.py:46: UserWarning: No matched phase found, could be spurious detection at this order.\n"
     ]
    },
    {
     "name": "stdout",
     "output_type": "stream",
     "text": [
      "Executed in: 0:00:01.051446\n",
      "43 Started at: 2020-11-12 14:31:39.265482\n",
      "[4.47647716 2.20757311 0.44297584 3.19521779 0.37472145]\n"
     ]
    },
    {
     "name": "stderr",
     "output_type": "stream",
     "text": [
      "/home/teobrien/packages/openfermion/src/openfermion/measurements/sparse_qpe.py:46: UserWarning: No matched phase found, could be spurious detection at this order.\n"
     ]
    },
    {
     "name": "stdout",
     "output_type": "stream",
     "text": [
      "Executed in: 0:00:00.840346\n",
      "44 Started at: 2020-11-12 14:31:40.106341\n",
      "[2.79637036 5.37589682 4.25808778 1.68934262 0.44765335]\n"
     ]
    },
    {
     "name": "stderr",
     "output_type": "stream",
     "text": [
      "/home/teobrien/packages/openfermion/src/openfermion/measurements/sparse_qpe.py:46: UserWarning: No matched phase found, could be spurious detection at this order.\n"
     ]
    },
    {
     "name": "stdout",
     "output_type": "stream",
     "text": [
      "Executed in: 0:00:01.498786\n",
      "45 Started at: 2020-11-12 14:31:41.605231\n",
      "[3.65996486 2.24369155 3.71939585 4.9037217  1.81387442]\n"
     ]
    },
    {
     "name": "stderr",
     "output_type": "stream",
     "text": [
      "/home/teobrien/packages/openfermion/src/openfermion/measurements/sparse_qpe.py:46: UserWarning: No matched phase found, could be spurious detection at this order.\n",
      "/home/teobrien/packages/openfermion/src/openfermion/measurements/sparse_qpe.py:46: UserWarning: No matched phase found, could be spurious detection at this order.\n"
     ]
    },
    {
     "name": "stdout",
     "output_type": "stream",
     "text": [
      "Executed in: 0:00:00.943442\n",
      "46 Started at: 2020-11-12 14:31:42.549152\n",
      "[6.24592959 1.08556272 5.25577683 2.8427716  0.61840215]\n",
      "Executed in: 0:00:01.283042\n",
      "47 Started at: 2020-11-12 14:31:43.833024\n",
      "[2.8370101  2.44336857 5.5643565  5.95589425 6.23865563]\n"
     ]
    },
    {
     "name": "stderr",
     "output_type": "stream",
     "text": [
      "/home/teobrien/packages/openfermion/src/openfermion/measurements/sparse_qpe.py:145: UserWarning: New multiplier is between 1 and 2, this may be inefficient.\n",
      "/home/teobrien/packages/openfermion/src/openfermion/measurements/sparse_qpe.py:145: UserWarning: New multiplier is between 1 and 2, this may be inefficient.\n",
      "/home/teobrien/packages/openfermion/src/openfermion/measurements/sparse_qpe.py:145: UserWarning: New multiplier is between 1 and 2, this may be inefficient.\n",
      "/home/teobrien/packages/openfermion/src/openfermion/measurements/sparse_qpe.py:145: UserWarning: New multiplier is between 1 and 2, this may be inefficient.\n",
      "/home/teobrien/packages/openfermion/src/openfermion/measurements/sparse_qpe.py:145: UserWarning: New multiplier is between 1 and 2, this may be inefficient.\n",
      "/home/teobrien/packages/openfermion/src/openfermion/measurements/sparse_qpe.py:145: UserWarning: New multiplier is between 1 and 2, this may be inefficient.\n",
      "/home/teobrien/packages/openfermion/src/openfermion/measurements/sparse_qpe.py:145: UserWarning: New multiplier is between 1 and 2, this may be inefficient.\n",
      "/home/teobrien/packages/openfermion/src/openfermion/measurements/sparse_qpe.py:145: UserWarning: New multiplier is between 1 and 2, this may be inefficient.\n",
      "/home/teobrien/packages/openfermion/src/openfermion/measurements/sparse_qpe.py:145: UserWarning: New multiplier is between 1 and 2, this may be inefficient.\n",
      "/home/teobrien/packages/openfermion/src/openfermion/measurements/sparse_qpe.py:145: UserWarning: New multiplier is between 1 and 2, this may be inefficient.\n",
      "/home/teobrien/packages/openfermion/src/openfermion/measurements/sparse_qpe.py:145: UserWarning: New multiplier is between 1 and 2, this may be inefficient.\n",
      "/home/teobrien/packages/openfermion/src/openfermion/measurements/sparse_qpe.py:145: UserWarning: New multiplier is between 1 and 2, this may be inefficient.\n",
      "/home/teobrien/packages/openfermion/src/openfermion/measurements/sparse_qpe.py:145: UserWarning: New multiplier is between 1 and 2, this may be inefficient.\n",
      "/home/teobrien/packages/openfermion/src/openfermion/measurements/sparse_qpe.py:145: UserWarning: New multiplier is between 1 and 2, this may be inefficient.\n",
      "/home/teobrien/packages/openfermion/src/openfermion/measurements/sparse_qpe.py:145: UserWarning: New multiplier is between 1 and 2, this may be inefficient.\n",
      "/home/teobrien/packages/openfermion/src/openfermion/measurements/sparse_qpe.py:145: UserWarning: New multiplier is between 1 and 2, this may be inefficient.\n",
      "/home/teobrien/packages/openfermion/src/openfermion/measurements/sparse_qpe.py:145: UserWarning: New multiplier is between 1 and 2, this may be inefficient.\n",
      "/home/teobrien/packages/openfermion/src/openfermion/measurements/sparse_qpe.py:145: UserWarning: New multiplier is between 1 and 2, this may be inefficient.\n",
      "/home/teobrien/packages/openfermion/src/openfermion/measurements/sparse_qpe.py:145: UserWarning: New multiplier is between 1 and 2, this may be inefficient.\n",
      "/home/teobrien/packages/openfermion/src/openfermion/measurements/sparse_qpe.py:145: UserWarning: New multiplier is between 1 and 2, this may be inefficient.\n",
      "/home/teobrien/packages/openfermion/src/openfermion/measurements/sparse_qpe.py:145: UserWarning: New multiplier is between 1 and 2, this may be inefficient.\n",
      "/home/teobrien/packages/openfermion/src/openfermion/measurements/sparse_qpe.py:145: UserWarning: New multiplier is between 1 and 2, this may be inefficient.\n",
      "/home/teobrien/packages/openfermion/src/openfermion/measurements/sparse_qpe.py:145: UserWarning: New multiplier is between 1 and 2, this may be inefficient.\n",
      "/home/teobrien/packages/openfermion/src/openfermion/measurements/sparse_qpe.py:145: UserWarning: New multiplier is between 1 and 2, this may be inefficient.\n"
     ]
    },
    {
     "name": "stdout",
     "output_type": "stream",
     "text": [
      "Executed in: 0:00:01.084844\n",
      "48 Started at: 2020-11-12 14:31:44.918360\n",
      "[0.16317853 3.44429336 4.97019834 1.70491626 3.24821171]\n"
     ]
    },
    {
     "name": "stderr",
     "output_type": "stream",
     "text": [
      "/home/teobrien/packages/openfermion/src/openfermion/measurements/sparse_qpe.py:46: UserWarning: No matched phase found, could be spurious detection at this order.\n",
      "/home/teobrien/packages/openfermion/src/openfermion/measurements/sparse_qpe.py:46: UserWarning: No matched phase found, could be spurious detection at this order.\n",
      "/home/teobrien/packages/openfermion/src/openfermion/measurements/sparse_qpe.py:46: UserWarning: No matched phase found, could be spurious detection at this order.\n"
     ]
    },
    {
     "name": "stdout",
     "output_type": "stream",
     "text": [
      "Executed in: 0:00:03.311376\n",
      "49 Started at: 2020-11-12 14:31:48.229843\n",
      "[1.38173518 5.465983   4.55197388 4.95032444 0.64427013]\n"
     ]
    },
    {
     "name": "stderr",
     "output_type": "stream",
     "text": [
      "/home/teobrien/packages/openfermion/src/openfermion/measurements/sparse_qpe.py:46: UserWarning: No matched phase found, could be spurious detection at this order.\n",
      "/home/teobrien/packages/openfermion/src/openfermion/measurements/sparse_qpe.py:46: UserWarning: No matched phase found, could be spurious detection at this order.\n"
     ]
    },
    {
     "name": "stdout",
     "output_type": "stream",
     "text": [
      "Executed in: 0:00:01.271642\n",
      "50 Started at: 2020-11-12 14:31:49.501592\n",
      "[5.17604288 1.13889242 0.79977493 4.88063837 4.05375907]\n"
     ]
    },
    {
     "name": "stderr",
     "output_type": "stream",
     "text": [
      "/home/teobrien/packages/openfermion/src/openfermion/measurements/sparse_qpe.py:46: UserWarning: No matched phase found, could be spurious detection at this order.\n",
      "/home/teobrien/packages/openfermion/src/openfermion/measurements/sparse_qpe.py:46: UserWarning: No matched phase found, could be spurious detection at this order.\n",
      "/home/teobrien/packages/openfermion/src/openfermion/measurements/sparse_qpe.py:46: UserWarning: No matched phase found, could be spurious detection at this order.\n"
     ]
    },
    {
     "name": "stdout",
     "output_type": "stream",
     "text": [
      "Executed in: 0:00:01.912616\n",
      "51 Started at: 2020-11-12 14:31:51.414314\n",
      "[3.51268789 1.77198802 3.05089476 1.51440085 2.98780447]\n"
     ]
    },
    {
     "name": "stderr",
     "output_type": "stream",
     "text": [
      "/home/teobrien/packages/openfermion/src/openfermion/measurements/sparse_qpe.py:46: UserWarning: No matched phase found, could be spurious detection at this order.\n"
     ]
    },
    {
     "name": "stdout",
     "output_type": "stream",
     "text": [
      "Executed in: 0:00:00.719429\n",
      "52 Started at: 2020-11-12 14:31:52.133862\n",
      "[4.54364591 1.2577328  1.29935093 5.03664416 2.62958621]\n",
      "Executed in: 0:00:01.345030\n",
      "53 Started at: 2020-11-12 14:31:53.479003\n",
      "[5.14867938 2.31426771 3.96242144 0.8602232  1.78439811]\n",
      "Executed in: 0:00:01.712568\n",
      "54 Started at: 2020-11-12 14:31:55.192004\n",
      "[3.81837213 2.67606518 5.92252607 5.32890335 2.59646421]\n"
     ]
    },
    {
     "name": "stderr",
     "output_type": "stream",
     "text": [
      "/home/teobrien/packages/openfermion/src/openfermion/measurements/sparse_qpe.py:46: UserWarning: No matched phase found, could be spurious detection at this order.\n"
     ]
    },
    {
     "name": "stdout",
     "output_type": "stream",
     "text": [
      "Executed in: 0:00:00.985903\n",
      "55 Started at: 2020-11-12 14:31:56.178375\n",
      "[1.99869251 1.7907382  6.10614533 5.36535162 0.35012793]\n"
     ]
    },
    {
     "name": "stderr",
     "output_type": "stream",
     "text": [
      "/home/teobrien/packages/openfermion/src/openfermion/measurements/sparse_qpe.py:46: UserWarning: No matched phase found, could be spurious detection at this order.\n",
      "/home/teobrien/packages/openfermion/src/openfermion/measurements/sparse_qpe.py:46: UserWarning: No matched phase found, could be spurious detection at this order.\n",
      "/home/teobrien/packages/openfermion/src/openfermion/measurements/sparse_qpe.py:46: UserWarning: No matched phase found, could be spurious detection at this order.\n"
     ]
    },
    {
     "name": "stdout",
     "output_type": "stream",
     "text": [
      "Executed in: 0:00:01.696081\n",
      "56 Started at: 2020-11-12 14:31:57.874884\n",
      "[4.21223633 4.37666268 2.2036884  2.46978032 5.33077643]\n"
     ]
    },
    {
     "name": "stderr",
     "output_type": "stream",
     "text": [
      "/home/teobrien/packages/openfermion/src/openfermion/measurements/sparse_qpe.py:46: UserWarning: No matched phase found, could be spurious detection at this order.\n"
     ]
    },
    {
     "name": "stdout",
     "output_type": "stream",
     "text": [
      "Executed in: 0:00:00.929184\n",
      "57 Started at: 2020-11-12 14:31:58.804550\n",
      "[1.46213107 5.95186646 5.50584307 4.89836916 4.63056925]\n"
     ]
    },
    {
     "name": "stderr",
     "output_type": "stream",
     "text": [
      "/home/teobrien/packages/openfermion/src/openfermion/measurements/sparse_qpe.py:46: UserWarning: No matched phase found, could be spurious detection at this order.\n",
      "/home/teobrien/packages/openfermion/src/openfermion/measurements/sparse_qpe.py:46: UserWarning: No matched phase found, could be spurious detection at this order.\n"
     ]
    },
    {
     "name": "stdout",
     "output_type": "stream",
     "text": [
      "Executed in: 0:00:01.710742\n",
      "58 Started at: 2020-11-12 14:32:00.515402\n",
      "[4.85690294 6.08993066 3.20715687 1.00841365 4.40549223]\n"
     ]
    },
    {
     "name": "stderr",
     "output_type": "stream",
     "text": [
      "/home/teobrien/packages/openfermion/src/openfermion/measurements/sparse_qpe.py:145: UserWarning: New multiplier is between 1 and 2, this may be inefficient.\n",
      "/home/teobrien/packages/openfermion/src/openfermion/measurements/sparse_qpe.py:145: UserWarning: New multiplier is between 1 and 2, this may be inefficient.\n",
      "/home/teobrien/packages/openfermion/src/openfermion/measurements/sparse_qpe.py:145: UserWarning: New multiplier is between 1 and 2, this may be inefficient.\n",
      "/home/teobrien/packages/openfermion/src/openfermion/measurements/sparse_qpe.py:145: UserWarning: New multiplier is between 1 and 2, this may be inefficient.\n",
      "/home/teobrien/packages/openfermion/src/openfermion/measurements/sparse_qpe.py:145: UserWarning: New multiplier is between 1 and 2, this may be inefficient.\n",
      "/home/teobrien/packages/openfermion/src/openfermion/measurements/sparse_qpe.py:145: UserWarning: New multiplier is between 1 and 2, this may be inefficient.\n"
     ]
    },
    {
     "name": "stdout",
     "output_type": "stream",
     "text": [
      "Executed in: 0:00:00.603712\n",
      "59 Started at: 2020-11-12 14:32:01.119658\n",
      "[0.39382745 5.21525501 5.46705944 5.91617087 3.5877388 ]\n"
     ]
    },
    {
     "name": "stderr",
     "output_type": "stream",
     "text": [
      "/home/teobrien/packages/openfermion/src/openfermion/measurements/sparse_qpe.py:145: UserWarning: New multiplier is between 1 and 2, this may be inefficient.\n",
      "/home/teobrien/packages/openfermion/src/openfermion/measurements/sparse_qpe.py:46: UserWarning: No matched phase found, could be spurious detection at this order.\n"
     ]
    },
    {
     "name": "stdout",
     "output_type": "stream",
     "text": [
      "Executed in: 0:00:00.906513\n",
      "60 Started at: 2020-11-12 14:32:02.026688\n",
      "[2.03207454 5.07526371 4.87695821 0.57381386 2.60043992]\n",
      "Couldnt find good beta, exiting\n",
      "Executed in: 0:00:02.737351\n",
      "61 Started at: 2020-11-12 14:32:04.764329\n",
      "[6.28039171 0.66893285 2.35329877 1.27851151 5.46806865]\n"
     ]
    },
    {
     "name": "stderr",
     "output_type": "stream",
     "text": [
      "/home/teobrien/packages/openfermion/src/openfermion/measurements/sparse_qpe.py:145: UserWarning: New multiplier is between 1 and 2, this may be inefficient.\n"
     ]
    },
    {
     "name": "stdout",
     "output_type": "stream",
     "text": [
      "Executed in: 0:00:01.700836\n",
      "62 Started at: 2020-11-12 14:32:06.465624\n",
      "[5.26499123 2.45949249 1.56249337 2.54197952 0.24016616]\n",
      "Executed in: 0:00:01.838817\n",
      "63 Started at: 2020-11-12 14:32:08.304548\n",
      "[5.10707777 2.5170474  3.44691235 5.30838755 2.80614745]\n",
      "Executed in: 0:00:01.313422\n",
      "64 Started at: 2020-11-12 14:32:09.618417\n",
      "[2.68959433 5.37342942 1.56216293 5.78998793 3.88957075]\n"
     ]
    },
    {
     "name": "stderr",
     "output_type": "stream",
     "text": [
      "/home/teobrien/packages/openfermion/src/openfermion/measurements/sparse_qpe.py:145: UserWarning: New multiplier is between 1 and 2, this may be inefficient.\n",
      "/home/teobrien/packages/openfermion/src/openfermion/measurements/sparse_qpe.py:46: UserWarning: No matched phase found, could be spurious detection at this order.\n",
      "/home/teobrien/packages/openfermion/src/openfermion/measurements/sparse_qpe.py:46: UserWarning: No matched phase found, could be spurious detection at this order.\n"
     ]
    },
    {
     "name": "stdout",
     "output_type": "stream",
     "text": [
      "Executed in: 0:00:00.636235\n",
      "65 Started at: 2020-11-12 14:32:10.255201\n",
      "[2.73902061 4.7667188  0.16856655 4.435832   4.05487919]\n"
     ]
    },
    {
     "name": "stderr",
     "output_type": "stream",
     "text": [
      "/home/teobrien/packages/openfermion/src/openfermion/measurements/sparse_qpe.py:46: UserWarning: No matched phase found, could be spurious detection at this order.\n",
      "/home/teobrien/packages/openfermion/src/openfermion/measurements/sparse_qpe.py:46: UserWarning: No matched phase found, could be spurious detection at this order.\n"
     ]
    },
    {
     "name": "stdout",
     "output_type": "stream",
     "text": [
      "Executed in: 0:00:01.558191\n",
      "66 Started at: 2020-11-12 14:32:11.813859\n",
      "[2.97529842 2.39262094 4.64113028 6.24848139 5.20046813]\n"
     ]
    },
    {
     "name": "stderr",
     "output_type": "stream",
     "text": [
      "/home/teobrien/packages/openfermion/src/openfermion/measurements/sparse_qpe.py:145: UserWarning: New multiplier is between 1 and 2, this may be inefficient.\n",
      "/home/teobrien/packages/openfermion/src/openfermion/measurements/sparse_qpe.py:145: UserWarning: New multiplier is between 1 and 2, this may be inefficient.\n",
      "/home/teobrien/packages/openfermion/src/openfermion/measurements/sparse_qpe.py:145: UserWarning: New multiplier is between 1 and 2, this may be inefficient.\n"
     ]
    },
    {
     "name": "stdout",
     "output_type": "stream",
     "text": [
      "Executed in: 0:00:01.031033\n",
      "67 Started at: 2020-11-12 14:32:12.845375\n",
      "[4.46488778 3.15523423 1.16455178 5.28714002 4.12932277]\n"
     ]
    },
    {
     "name": "stderr",
     "output_type": "stream",
     "text": [
      "/home/teobrien/packages/openfermion/src/openfermion/measurements/sparse_qpe.py:46: UserWarning: No matched phase found, could be spurious detection at this order.\n",
      "/home/teobrien/packages/openfermion/src/openfermion/measurements/sparse_qpe.py:145: UserWarning: New multiplier is between 1 and 2, this may be inefficient.\n",
      "/home/teobrien/packages/openfermion/src/openfermion/measurements/sparse_qpe.py:145: UserWarning: New multiplier is between 1 and 2, this may be inefficient.\n",
      "/home/teobrien/packages/openfermion/src/openfermion/measurements/sparse_qpe.py:145: UserWarning: New multiplier is between 1 and 2, this may be inefficient.\n",
      "/home/teobrien/packages/openfermion/src/openfermion/measurements/sparse_qpe.py:145: UserWarning: New multiplier is between 1 and 2, this may be inefficient.\n",
      "/home/teobrien/packages/openfermion/src/openfermion/measurements/sparse_qpe.py:145: UserWarning: New multiplier is between 1 and 2, this may be inefficient.\n",
      "/home/teobrien/packages/openfermion/src/openfermion/measurements/sparse_qpe.py:145: UserWarning: New multiplier is between 1 and 2, this may be inefficient.\n",
      "/home/teobrien/packages/openfermion/src/openfermion/measurements/sparse_qpe.py:145: UserWarning: New multiplier is between 1 and 2, this may be inefficient.\n",
      "/home/teobrien/packages/openfermion/src/openfermion/measurements/sparse_qpe.py:46: UserWarning: No matched phase found, could be spurious detection at this order.\n"
     ]
    },
    {
     "name": "stdout",
     "output_type": "stream",
     "text": [
      "Executed in: 0:00:00.670011\n",
      "68 Started at: 2020-11-12 14:32:13.515509\n",
      "[0.07829003 4.36135028 0.21907654 3.39254406 2.03900182]\n",
      "Executed in: 0:00:01.627380\n",
      "69 Started at: 2020-11-12 14:32:15.143398\n",
      "[5.64990308 1.09314079 3.99312236 4.85459171 4.65979527]\n"
     ]
    },
    {
     "name": "stderr",
     "output_type": "stream",
     "text": [
      "/home/teobrien/packages/openfermion/src/openfermion/measurements/sparse_qpe.py:145: UserWarning: New multiplier is between 1 and 2, this may be inefficient.\n"
     ]
    },
    {
     "name": "stdout",
     "output_type": "stream",
     "text": [
      "Executed in: 0:00:01.653186\n",
      "70 Started at: 2020-11-12 14:32:16.796701\n",
      "[5.20484112 4.95289054 4.23003695 0.14352734 1.25700242]\n"
     ]
    },
    {
     "name": "stderr",
     "output_type": "stream",
     "text": [
      "/home/teobrien/packages/openfermion/src/openfermion/measurements/sparse_qpe.py:145: UserWarning: New multiplier is between 1 and 2, this may be inefficient.\n",
      "/home/teobrien/packages/openfermion/src/openfermion/measurements/sparse_qpe.py:145: UserWarning: New multiplier is between 1 and 2, this may be inefficient.\n",
      "/home/teobrien/packages/openfermion/src/openfermion/measurements/sparse_qpe.py:145: UserWarning: New multiplier is between 1 and 2, this may be inefficient.\n",
      "/home/teobrien/packages/openfermion/src/openfermion/measurements/sparse_qpe.py:46: UserWarning: No matched phase found, could be spurious detection at this order.\n"
     ]
    },
    {
     "name": "stdout",
     "output_type": "stream",
     "text": [
      "Executed in: 0:00:01.203476\n",
      "71 Started at: 2020-11-12 14:32:18.000680\n",
      "[4.4119611  6.03180444 3.88677509 5.48186301 1.64996176]\n"
     ]
    },
    {
     "name": "stderr",
     "output_type": "stream",
     "text": [
      "/home/teobrien/packages/openfermion/src/openfermion/measurements/sparse_qpe.py:46: UserWarning: No matched phase found, could be spurious detection at this order.\n",
      "/home/teobrien/packages/openfermion/src/openfermion/measurements/sparse_qpe.py:46: UserWarning: No matched phase found, could be spurious detection at this order.\n"
     ]
    },
    {
     "name": "stdout",
     "output_type": "stream",
     "text": [
      "Executed in: 0:00:01.502065\n",
      "72 Started at: 2020-11-12 14:32:19.502856\n",
      "[0.67817615 2.88746417 1.73003041 6.04907206 0.01935236]\n",
      "Executed in: 0:00:01.715333\n",
      "73 Started at: 2020-11-12 14:32:21.218621\n",
      "[3.7986614  0.84498022 3.21567755 1.66908455 1.07413264]\n",
      "Couldnt find good beta, exiting\n",
      "Executed in: 0:00:00.026974\n",
      "74 Started at: 2020-11-12 14:32:21.245839\n",
      "[2.45484828 1.39674177 1.86104534 2.13816549 5.71322934]\n"
     ]
    },
    {
     "name": "stderr",
     "output_type": "stream",
     "text": [
      "/home/teobrien/packages/openfermion/src/openfermion/measurements/sparse_qpe.py:46: UserWarning: No matched phase found, could be spurious detection at this order.\n"
     ]
    },
    {
     "name": "stdout",
     "output_type": "stream",
     "text": [
      "Executed in: 0:00:00.974978\n",
      "75 Started at: 2020-11-12 14:32:22.221285\n",
      "[2.61809798 3.42221433 4.43827199 5.10788567 4.44368969]\n"
     ]
    },
    {
     "name": "stderr",
     "output_type": "stream",
     "text": [
      "/home/teobrien/packages/openfermion/src/openfermion/measurements/sparse_qpe.py:145: UserWarning: New multiplier is between 1 and 2, this may be inefficient.\n"
     ]
    },
    {
     "name": "stdout",
     "output_type": "stream",
     "text": [
      "Executed in: 0:00:00.912164\n",
      "76 Started at: 2020-11-12 14:32:23.133941\n",
      "[0.74023934 3.88298026 1.74829292 2.43582088 6.13092552]\n",
      "Executed in: 0:00:01.078637\n",
      "77 Started at: 2020-11-12 14:32:24.213034\n",
      "[1.23275381 1.05193225 2.18139616 4.35493191 6.02244947]\n",
      "Executed in: 0:00:02.635854\n",
      "78 Started at: 2020-11-12 14:32:26.849321\n",
      "[3.16739693 2.72993266 3.27744981 6.19301462 3.5097582 ]\n",
      "Executed in: 0:00:00.958514\n",
      "79 Started at: 2020-11-12 14:32:27.808308\n",
      "[3.51315114 2.68794034 3.05346673 0.81474506 5.35234278]\n"
     ]
    },
    {
     "name": "stderr",
     "output_type": "stream",
     "text": [
      "/home/teobrien/packages/openfermion/src/openfermion/measurements/sparse_qpe.py:46: UserWarning: No matched phase found, could be spurious detection at this order.\n",
      "/home/teobrien/packages/openfermion/src/openfermion/measurements/sparse_qpe.py:46: UserWarning: No matched phase found, could be spurious detection at this order.\n"
     ]
    },
    {
     "name": "stdout",
     "output_type": "stream",
     "text": [
      "Executed in: 0:00:00.694511\n",
      "80 Started at: 2020-11-12 14:32:28.503359\n",
      "[0.61788494 2.3639038  1.0221566  4.35132657 0.09586701]\n"
     ]
    },
    {
     "name": "stderr",
     "output_type": "stream",
     "text": [
      "/home/teobrien/packages/openfermion/src/openfermion/measurements/sparse_qpe.py:46: UserWarning: No matched phase found, could be spurious detection at this order.\n",
      "/home/teobrien/packages/openfermion/src/openfermion/measurements/sparse_qpe.py:46: UserWarning: No matched phase found, could be spurious detection at this order.\n",
      "/home/teobrien/packages/openfermion/src/openfermion/measurements/sparse_qpe.py:46: UserWarning: No matched phase found, could be spurious detection at this order.\n"
     ]
    },
    {
     "name": "stdout",
     "output_type": "stream",
     "text": [
      "Executed in: 0:00:01.118264\n",
      "81 Started at: 2020-11-12 14:32:29.621728\n",
      "[1.91406484 5.80518583 0.80911301 3.07178751 2.6876845 ]\n"
     ]
    },
    {
     "name": "stderr",
     "output_type": "stream",
     "text": [
      "/home/teobrien/packages/openfermion/src/openfermion/measurements/sparse_qpe.py:145: UserWarning: New multiplier is between 1 and 2, this may be inefficient.\n",
      "/home/teobrien/packages/openfermion/src/openfermion/measurements/sparse_qpe.py:46: UserWarning: No matched phase found, could be spurious detection at this order.\n"
     ]
    },
    {
     "name": "stdout",
     "output_type": "stream",
     "text": [
      "Executed in: 0:00:00.830768\n",
      "82 Started at: 2020-11-12 14:32:30.452987\n",
      "[3.82199757 1.83855993 3.13884961 1.2524464  1.78483897]\n",
      "Executed in: 0:00:00.931480\n",
      "83 Started at: 2020-11-12 14:32:31.384938\n",
      "[0.40130557 1.18712632 4.33524699 4.42466232 6.23657894]\n",
      "Couldnt find good beta, exiting\n",
      "Executed in: 0:00:00.902182\n",
      "84 Started at: 2020-11-12 14:32:32.287520\n",
      "[1.74420175 2.85617698 1.36287178 0.2443509  3.91405838]\n"
     ]
    },
    {
     "name": "stderr",
     "output_type": "stream",
     "text": [
      "/home/teobrien/packages/openfermion/src/openfermion/measurements/sparse_qpe.py:145: UserWarning: New multiplier is between 1 and 2, this may be inefficient.\n",
      "/home/teobrien/packages/openfermion/src/openfermion/measurements/sparse_qpe.py:145: UserWarning: New multiplier is between 1 and 2, this may be inefficient.\n"
     ]
    },
    {
     "name": "stdout",
     "output_type": "stream",
     "text": [
      "Executed in: 0:00:01.046344\n",
      "85 Started at: 2020-11-12 14:32:33.333987\n",
      "[3.59747862 6.03738312 5.91561569 3.40084844 1.1684949 ]\n"
     ]
    },
    {
     "name": "stderr",
     "output_type": "stream",
     "text": [
      "/home/teobrien/packages/openfermion/src/openfermion/measurements/sparse_qpe.py:46: UserWarning: No matched phase found, could be spurious detection at this order.\n"
     ]
    },
    {
     "name": "stdout",
     "output_type": "stream",
     "text": [
      "Executed in: 0:00:02.043222\n",
      "86 Started at: 2020-11-12 14:32:35.377268\n",
      "[4.00546945 3.64611603 3.72970996 2.1056838  5.63909307]\n",
      "Executed in: 0:00:01.707741\n",
      "87 Started at: 2020-11-12 14:32:37.085449\n",
      "[1.70394632 4.63970469 4.80994734 3.38920289 5.47762472]\n"
     ]
    },
    {
     "name": "stderr",
     "output_type": "stream",
     "text": [
      "/home/teobrien/packages/openfermion/src/openfermion/measurements/sparse_qpe.py:145: UserWarning: New multiplier is between 1 and 2, this may be inefficient.\n",
      "/home/teobrien/packages/openfermion/src/openfermion/measurements/sparse_qpe.py:145: UserWarning: New multiplier is between 1 and 2, this may be inefficient.\n",
      "/home/teobrien/packages/openfermion/src/openfermion/measurements/sparse_qpe.py:145: UserWarning: New multiplier is between 1 and 2, this may be inefficient.\n",
      "/home/teobrien/packages/openfermion/src/openfermion/measurements/sparse_qpe.py:145: UserWarning: New multiplier is between 1 and 2, this may be inefficient.\n",
      "/home/teobrien/packages/openfermion/src/openfermion/measurements/sparse_qpe.py:145: UserWarning: New multiplier is between 1 and 2, this may be inefficient.\n",
      "/home/teobrien/packages/openfermion/src/openfermion/measurements/sparse_qpe.py:145: UserWarning: New multiplier is between 1 and 2, this may be inefficient.\n",
      "/home/teobrien/packages/openfermion/src/openfermion/measurements/sparse_qpe.py:145: UserWarning: New multiplier is between 1 and 2, this may be inefficient.\n"
     ]
    },
    {
     "name": "stdout",
     "output_type": "stream",
     "text": [
      "Executed in: 0:00:00.538615\n",
      "88 Started at: 2020-11-12 14:32:37.624617\n",
      "[3.08171715 4.12606696 1.33339818 2.70921689 1.69324681]\n"
     ]
    },
    {
     "name": "stderr",
     "output_type": "stream",
     "text": [
      "/home/teobrien/packages/openfermion/src/openfermion/measurements/sparse_qpe.py:46: UserWarning: No matched phase found, could be spurious detection at this order.\n"
     ]
    },
    {
     "name": "stdout",
     "output_type": "stream",
     "text": [
      "Executed in: 0:00:01.033444\n",
      "89 Started at: 2020-11-12 14:32:38.658177\n",
      "[1.09916232 4.69363573 0.71979213 3.13936105 4.46361516]\n"
     ]
    },
    {
     "name": "stderr",
     "output_type": "stream",
     "text": [
      "/home/teobrien/packages/openfermion/src/openfermion/measurements/sparse_qpe.py:145: UserWarning: New multiplier is between 1 and 2, this may be inefficient.\n",
      "/home/teobrien/packages/openfermion/src/openfermion/measurements/sparse_qpe.py:145: UserWarning: New multiplier is between 1 and 2, this may be inefficient.\n",
      "/home/teobrien/packages/openfermion/src/openfermion/measurements/sparse_qpe.py:145: UserWarning: New multiplier is between 1 and 2, this may be inefficient.\n",
      "/home/teobrien/packages/openfermion/src/openfermion/measurements/sparse_qpe.py:145: UserWarning: New multiplier is between 1 and 2, this may be inefficient.\n",
      "/home/teobrien/packages/openfermion/src/openfermion/measurements/sparse_qpe.py:145: UserWarning: New multiplier is between 1 and 2, this may be inefficient.\n",
      "/home/teobrien/packages/openfermion/src/openfermion/measurements/sparse_qpe.py:145: UserWarning: New multiplier is between 1 and 2, this may be inefficient.\n",
      "/home/teobrien/packages/openfermion/src/openfermion/measurements/sparse_qpe.py:145: UserWarning: New multiplier is between 1 and 2, this may be inefficient.\n",
      "/home/teobrien/packages/openfermion/src/openfermion/measurements/sparse_qpe.py:145: UserWarning: New multiplier is between 1 and 2, this may be inefficient.\n",
      "/home/teobrien/packages/openfermion/src/openfermion/measurements/sparse_qpe.py:145: UserWarning: New multiplier is between 1 and 2, this may be inefficient.\n",
      "/home/teobrien/packages/openfermion/src/openfermion/measurements/sparse_qpe.py:145: UserWarning: New multiplier is between 1 and 2, this may be inefficient.\n",
      "/home/teobrien/packages/openfermion/src/openfermion/measurements/sparse_qpe.py:145: UserWarning: New multiplier is between 1 and 2, this may be inefficient.\n",
      "/home/teobrien/packages/openfermion/src/openfermion/measurements/sparse_qpe.py:145: UserWarning: New multiplier is between 1 and 2, this may be inefficient.\n",
      "/home/teobrien/packages/openfermion/src/openfermion/measurements/sparse_qpe.py:145: UserWarning: New multiplier is between 1 and 2, this may be inefficient.\n"
     ]
    },
    {
     "name": "stdout",
     "output_type": "stream",
     "text": [
      "Executed in: 0:00:00.823411\n",
      "90 Started at: 2020-11-12 14:32:39.482084\n",
      "[3.77877786 6.13882387 4.21848977 3.26516191 2.8628658 ]\n"
     ]
    },
    {
     "name": "stderr",
     "output_type": "stream",
     "text": [
      "/home/teobrien/packages/openfermion/src/openfermion/measurements/sparse_qpe.py:145: UserWarning: New multiplier is between 1 and 2, this may be inefficient.\n",
      "/home/teobrien/packages/openfermion/src/openfermion/measurements/sparse_qpe.py:145: UserWarning: New multiplier is between 1 and 2, this may be inefficient.\n",
      "/home/teobrien/packages/openfermion/src/openfermion/measurements/sparse_qpe.py:145: UserWarning: New multiplier is between 1 and 2, this may be inefficient.\n"
     ]
    },
    {
     "name": "stdout",
     "output_type": "stream",
     "text": [
      "Executed in: 0:00:00.562762\n",
      "91 Started at: 2020-11-12 14:32:40.045396\n",
      "[2.07439986 3.20251532 1.6502557  0.89838174 5.17743144]\n",
      "Executed in: 0:00:01.144277\n",
      "92 Started at: 2020-11-12 14:32:41.190137\n",
      "[3.85232586 0.22556094 4.61674906 0.21205314 3.4754254 ]\n"
     ]
    },
    {
     "name": "stderr",
     "output_type": "stream",
     "text": [
      "/home/teobrien/packages/openfermion/src/openfermion/measurements/sparse_qpe.py:46: UserWarning: No matched phase found, could be spurious detection at this order.\n",
      "/home/teobrien/packages/openfermion/src/openfermion/measurements/sparse_qpe.py:46: UserWarning: No matched phase found, could be spurious detection at this order.\n"
     ]
    },
    {
     "name": "stdout",
     "output_type": "stream",
     "text": [
      "Executed in: 0:00:03.680568\n",
      "93 Started at: 2020-11-12 14:32:44.871152\n",
      "[5.04168395 3.50403316 0.0516646  3.46445175 0.08388338]\n",
      "Couldnt find good beta, exiting\n",
      "Executed in: 0:00:00.059699\n",
      "94 Started at: 2020-11-12 14:32:44.931114\n",
      "[0.06731879 5.7920214  4.30501571 1.69064031 2.20731494]\n"
     ]
    },
    {
     "name": "stderr",
     "output_type": "stream",
     "text": [
      "/home/teobrien/packages/openfermion/src/openfermion/measurements/sparse_qpe.py:145: UserWarning: New multiplier is between 1 and 2, this may be inefficient.\n",
      "/home/teobrien/packages/openfermion/src/openfermion/measurements/sparse_qpe.py:145: UserWarning: New multiplier is between 1 and 2, this may be inefficient.\n",
      "/home/teobrien/packages/openfermion/src/openfermion/measurements/sparse_qpe.py:145: UserWarning: New multiplier is between 1 and 2, this may be inefficient.\n",
      "/home/teobrien/packages/openfermion/src/openfermion/measurements/sparse_qpe.py:145: UserWarning: New multiplier is between 1 and 2, this may be inefficient.\n",
      "/home/teobrien/packages/openfermion/src/openfermion/measurements/sparse_qpe.py:145: UserWarning: New multiplier is between 1 and 2, this may be inefficient.\n",
      "/home/teobrien/packages/openfermion/src/openfermion/measurements/sparse_qpe.py:145: UserWarning: New multiplier is between 1 and 2, this may be inefficient.\n",
      "/home/teobrien/packages/openfermion/src/openfermion/measurements/sparse_qpe.py:145: UserWarning: New multiplier is between 1 and 2, this may be inefficient.\n",
      "/home/teobrien/packages/openfermion/src/openfermion/measurements/sparse_qpe.py:145: UserWarning: New multiplier is between 1 and 2, this may be inefficient.\n",
      "/home/teobrien/packages/openfermion/src/openfermion/measurements/sparse_qpe.py:145: UserWarning: New multiplier is between 1 and 2, this may be inefficient.\n",
      "/home/teobrien/packages/openfermion/src/openfermion/measurements/sparse_qpe.py:145: UserWarning: New multiplier is between 1 and 2, this may be inefficient.\n",
      "/home/teobrien/packages/openfermion/src/openfermion/measurements/sparse_qpe.py:145: UserWarning: New multiplier is between 1 and 2, this may be inefficient.\n",
      "/home/teobrien/packages/openfermion/src/openfermion/measurements/sparse_qpe.py:145: UserWarning: New multiplier is between 1 and 2, this may be inefficient.\n",
      "/home/teobrien/packages/openfermion/src/openfermion/measurements/sparse_qpe.py:145: UserWarning: New multiplier is between 1 and 2, this may be inefficient.\n",
      "/home/teobrien/packages/openfermion/src/openfermion/measurements/sparse_qpe.py:46: UserWarning: No matched phase found, could be spurious detection at this order.\n",
      "/home/teobrien/packages/openfermion/src/openfermion/measurements/sparse_qpe.py:145: UserWarning: New multiplier is between 1 and 2, this may be inefficient.\n",
      "/home/teobrien/packages/openfermion/src/openfermion/measurements/sparse_qpe.py:46: UserWarning: No matched phase found, could be spurious detection at this order.\n",
      "/home/teobrien/packages/openfermion/src/openfermion/measurements/sparse_qpe.py:145: UserWarning: New multiplier is between 1 and 2, this may be inefficient.\n",
      "/home/teobrien/packages/openfermion/src/openfermion/measurements/sparse_qpe.py:145: UserWarning: New multiplier is between 1 and 2, this may be inefficient.\n",
      "/home/teobrien/packages/openfermion/src/openfermion/measurements/sparse_qpe.py:145: UserWarning: New multiplier is between 1 and 2, this may be inefficient.\n",
      "/home/teobrien/packages/openfermion/src/openfermion/measurements/sparse_qpe.py:145: UserWarning: New multiplier is between 1 and 2, this may be inefficient.\n",
      "/home/teobrien/packages/openfermion/src/openfermion/measurements/sparse_qpe.py:145: UserWarning: New multiplier is between 1 and 2, this may be inefficient.\n",
      "/home/teobrien/packages/openfermion/src/openfermion/measurements/sparse_qpe.py:145: UserWarning: New multiplier is between 1 and 2, this may be inefficient.\n",
      "/home/teobrien/packages/openfermion/src/openfermion/measurements/sparse_qpe.py:145: UserWarning: New multiplier is between 1 and 2, this may be inefficient.\n",
      "/home/teobrien/packages/openfermion/src/openfermion/measurements/sparse_qpe.py:145: UserWarning: New multiplier is between 1 and 2, this may be inefficient.\n",
      "/home/teobrien/packages/openfermion/src/openfermion/measurements/sparse_qpe.py:145: UserWarning: New multiplier is between 1 and 2, this may be inefficient.\n",
      "/home/teobrien/packages/openfermion/src/openfermion/measurements/sparse_qpe.py:46: UserWarning: No matched phase found, could be spurious detection at this order.\n"
     ]
    },
    {
     "name": "stdout",
     "output_type": "stream",
     "text": [
      "Executed in: 0:00:00.684072\n",
      "95 Started at: 2020-11-12 14:32:45.615707\n",
      "[2.64095008 5.75355977 0.66154319 4.63649737 3.3586465 ]\n",
      "Executed in: 0:00:00.550062\n",
      "96 Started at: 2020-11-12 14:32:46.166303\n",
      "[4.09043789 2.23825691 3.31136597 0.74890092 5.67965496]\n"
     ]
    },
    {
     "name": "stderr",
     "output_type": "stream",
     "text": [
      "/home/teobrien/packages/openfermion/src/openfermion/measurements/sparse_qpe.py:145: UserWarning: New multiplier is between 1 and 2, this may be inefficient.\n",
      "/home/teobrien/packages/openfermion/src/openfermion/measurements/sparse_qpe.py:145: UserWarning: New multiplier is between 1 and 2, this may be inefficient.\n",
      "/home/teobrien/packages/openfermion/src/openfermion/measurements/sparse_qpe.py:145: UserWarning: New multiplier is between 1 and 2, this may be inefficient.\n",
      "/home/teobrien/packages/openfermion/src/openfermion/measurements/sparse_qpe.py:145: UserWarning: New multiplier is between 1 and 2, this may be inefficient.\n",
      "/home/teobrien/packages/openfermion/src/openfermion/measurements/sparse_qpe.py:145: UserWarning: New multiplier is between 1 and 2, this may be inefficient.\n",
      "/home/teobrien/packages/openfermion/src/openfermion/measurements/sparse_qpe.py:145: UserWarning: New multiplier is between 1 and 2, this may be inefficient.\n"
     ]
    },
    {
     "name": "stdout",
     "output_type": "stream",
     "text": [
      "Executed in: 0:00:01.224177\n",
      "97 Started at: 2020-11-12 14:32:47.390932\n",
      "[3.37780663 6.05804622 0.40157496 2.00100325 4.02928283]\n"
     ]
    },
    {
     "name": "stderr",
     "output_type": "stream",
     "text": [
      "/home/teobrien/packages/openfermion/src/openfermion/measurements/sparse_qpe.py:145: UserWarning: New multiplier is between 1 and 2, this may be inefficient.\n",
      "/home/teobrien/packages/openfermion/src/openfermion/measurements/sparse_qpe.py:145: UserWarning: New multiplier is between 1 and 2, this may be inefficient.\n",
      "/home/teobrien/packages/openfermion/src/openfermion/measurements/sparse_qpe.py:145: UserWarning: New multiplier is between 1 and 2, this may be inefficient.\n",
      "/home/teobrien/packages/openfermion/src/openfermion/measurements/sparse_qpe.py:145: UserWarning: New multiplier is between 1 and 2, this may be inefficient.\n",
      "/home/teobrien/packages/openfermion/src/openfermion/measurements/sparse_qpe.py:145: UserWarning: New multiplier is between 1 and 2, this may be inefficient.\n",
      "/home/teobrien/packages/openfermion/src/openfermion/measurements/sparse_qpe.py:145: UserWarning: New multiplier is between 1 and 2, this may be inefficient.\n",
      "/home/teobrien/packages/openfermion/src/openfermion/measurements/sparse_qpe.py:145: UserWarning: New multiplier is between 1 and 2, this may be inefficient.\n"
     ]
    },
    {
     "name": "stdout",
     "output_type": "stream",
     "text": [
      "Executed in: 0:00:00.549781\n",
      "98 Started at: 2020-11-12 14:32:47.941173\n",
      "[1.94404863 2.96979622 4.43757026 3.58742298 4.57418641]\n"
     ]
    },
    {
     "name": "stderr",
     "output_type": "stream",
     "text": [
      "/home/teobrien/packages/openfermion/src/openfermion/measurements/sparse_qpe.py:145: UserWarning: New multiplier is between 1 and 2, this may be inefficient.\n",
      "/home/teobrien/packages/openfermion/src/openfermion/measurements/sparse_qpe.py:145: UserWarning: New multiplier is between 1 and 2, this may be inefficient.\n",
      "/home/teobrien/packages/openfermion/src/openfermion/measurements/sparse_qpe.py:46: UserWarning: No matched phase found, could be spurious detection at this order.\n",
      "/home/teobrien/packages/openfermion/src/openfermion/measurements/sparse_qpe.py:46: UserWarning: No matched phase found, could be spurious detection at this order.\n"
     ]
    },
    {
     "name": "stdout",
     "output_type": "stream",
     "text": [
      "Executed in: 0:00:00.523516\n",
      "99 Started at: 2020-11-12 14:32:48.465162\n",
      "[4.81046093 3.27753616 3.28171822 2.12064193 1.41567124]\n",
      "Executed in: 0:00:01.516917\n",
      "Proportion of simulations exited before last order:6.0%\n"
     ]
    }
   ],
   "source": [
    "method = 'pencil'\n",
    "delta = 0.1\n",
    "max_order = 7\n",
    "confidence_alpha = 0.1\n",
    "confidence_beta = 0.01\n",
    "costs, est_errors, failure_booleans = run_estimation_errors(\n",
    "    method, num_phases, max_order, delta, confidence_alpha, confidence_beta, cutoff, num_repetitions)\n",
    "\n"
   ]
  },
  {
   "cell_type": "code",
   "execution_count": 36,
   "metadata": {},
   "outputs": [
    {
     "name": "stderr",
     "output_type": "stream",
     "text": [
      "/home/teobrien/python_envs/standard_env_301020/lib/python3.8/site-packages/ipykernel/ipkernel.py:287: DeprecationWarning: `should_run_async` will not call `transform_cell` automatically in the future. Please pass the result to `transformed_cell` argument and any exception that happen during thetransform in `preprocessing_exc_tuple` in IPython 7.17 and above.\n",
      "  and should_run_async(code)\n"
     ]
    },
    {
     "name": "stdout",
     "output_type": "stream",
     "text": [
      "Proportion of simulations finished before the last order: 0.06\n",
      "Proportion of rejected samples: 0.0\n"
     ]
    },
    {
     "data": {
      "image/png": "[encoded data removed]",
      "text/plain": [
       "<Figure size 720x720 with 1 Axes>"
      ]
     },
     "metadata": {
      "needs_background": "light"
     },
     "output_type": "display_data"
    }
   ],
   "source": [
    "print('Proportion of simulations finished before the last order:',\n",
    "      np.sum([len(f)<max_order+1 for f in failure_booleans])/num_repetitions)\n",
    "\n",
    "plt.figure(figsize = (10, 10))\n",
    "eaf.plot_estimation_errors(costs, est_errors)\n",
    "plt.plot(np.linspace(1e5, 1e10), 5000/np.linspace(1e5, 1e10), 'b--', label = r'$y \\sim x^{-1}$')\n",
    "plt.legend()\n",
    "plt.show()\n",
    "\n",
    "np.save(f'costs_{method}_multi_order_newest.npy', costs)\n",
    "np.save(f'errors_{method}_multi_order_newest.npy', est_errors)\n",
    "np.save(f'failures_{method}_multi_order_newest.npy', failure_booleans)"
   ]
  },
  {
   "cell_type": "code",
   "execution_count": null,
   "metadata": {
    "ExecuteTime": {
     "end_time": "2020-11-09T20:22:03.039913Z",
     "start_time": "2020-11-09T20:20:30.419668Z"
    },
    "scrolled": true
   },
   "outputs": [
    {
     "name": "stderr",
     "output_type": "stream",
     "text": [
      "/home/teobrien/python_envs/standard_env_301020/lib/python3.8/site-packages/ipykernel/ipkernel.py:287: DeprecationWarning: `should_run_async` will not call `transform_cell` automatically in the future. Please pass the result to `transformed_cell` argument and any exception that happen during thetransform in `preprocessing_exc_tuple` in IPython 7.17 and above.\n",
      "  and should_run_async(code)\n"
     ]
    },
    {
     "name": "stdout",
     "output_type": "stream",
     "text": [
      "0 Started at: 2020-11-10 07:35:08.351829\n",
      "[1.53305126 5.18929336 3.85574004 4.33330651 4.92589884]\n"
     ]
    },
    {
     "name": "stderr",
     "output_type": "stream",
     "text": [
      "/home/teobrien/packages/openfermion/src/openfermion/measurements/sparse_qpe.py:145: UserWarning: New multiplier is between 1 and 2, this may be inefficient.\n",
      "  warnings.warn('New multiplier is between 1 and 2, this '\n",
      "/home/teobrien/packages/openfermion/src/openfermion/measurements/sparse_qpe.py:145: UserWarning: New multiplier is between 1 and 2, this may be inefficient.\n",
      "  warnings.warn('New multiplier is between 1 and 2, this '\n",
      "/home/teobrien/packages/openfermion/src/openfermion/measurements/sparse_qpe.py:145: UserWarning: New multiplier is between 1 and 2, this may be inefficient.\n",
      "  warnings.warn('New multiplier is between 1 and 2, this '\n",
      "/home/teobrien/packages/openfermion/src/openfermion/measurements/sparse_qpe.py:145: UserWarning: New multiplier is between 1 and 2, this may be inefficient.\n",
      "  warnings.warn('New multiplier is between 1 and 2, this '\n",
      "/home/teobrien/packages/openfermion/src/openfermion/measurements/sparse_qpe.py:145: UserWarning: New multiplier is between 1 and 2, this may be inefficient.\n",
      "  warnings.warn('New multiplier is between 1 and 2, this '\n",
      "/home/teobrien/packages/openfermion/src/openfermion/measurements/sparse_qpe.py:145: UserWarning: New multiplier is between 1 and 2, this may be inefficient.\n",
      "  warnings.warn('New multiplier is between 1 and 2, this '\n",
      "/home/teobrien/packages/openfermion/src/openfermion/measurements/sparse_qpe.py:145: UserWarning: New multiplier is between 1 and 2, this may be inefficient.\n",
      "  warnings.warn('New multiplier is between 1 and 2, this '\n",
      "/home/teobrien/packages/openfermion/src/openfermion/measurements/sparse_qpe.py:145: UserWarning: New multiplier is between 1 and 2, this may be inefficient.\n",
      "  warnings.warn('New multiplier is between 1 and 2, this '\n",
      "/home/teobrien/packages/openfermion/src/openfermion/measurements/sparse_qpe.py:145: UserWarning: New multiplier is between 1 and 2, this may be inefficient.\n",
      "  warnings.warn('New multiplier is between 1 and 2, this '\n",
      "/home/teobrien/packages/openfermion/src/openfermion/measurements/sparse_qpe.py:145: UserWarning: New multiplier is between 1 and 2, this may be inefficient.\n",
      "  warnings.warn('New multiplier is between 1 and 2, this '\n",
      "/home/teobrien/packages/openfermion/src/openfermion/measurements/sparse_qpe.py:145: UserWarning: New multiplier is between 1 and 2, this may be inefficient.\n",
      "  warnings.warn('New multiplier is between 1 and 2, this '\n",
      "/home/teobrien/packages/openfermion/src/openfermion/measurements/sparse_qpe.py:145: UserWarning: New multiplier is between 1 and 2, this may be inefficient.\n",
      "  warnings.warn('New multiplier is between 1 and 2, this '\n",
      "/home/teobrien/packages/openfermion/src/openfermion/measurements/sparse_qpe.py:145: UserWarning: New multiplier is between 1 and 2, this may be inefficient.\n",
      "  warnings.warn('New multiplier is between 1 and 2, this '\n",
      "/home/teobrien/packages/openfermion/src/openfermion/measurements/sparse_qpe.py:145: UserWarning: New multiplier is between 1 and 2, this may be inefficient.\n",
      "  warnings.warn('New multiplier is between 1 and 2, this '\n",
      "/home/teobrien/packages/openfermion/src/openfermion/measurements/sparse_qpe.py:145: UserWarning: New multiplier is between 1 and 2, this may be inefficient.\n",
      "  warnings.warn('New multiplier is between 1 and 2, this '\n",
      "/home/teobrien/packages/openfermion/src/openfermion/measurements/sparse_qpe.py:145: UserWarning: New multiplier is between 1 and 2, this may be inefficient.\n",
      "  warnings.warn('New multiplier is between 1 and 2, this '\n",
      "/home/teobrien/packages/openfermion/src/openfermion/measurements/sparse_qpe.py:145: UserWarning: New multiplier is between 1 and 2, this may be inefficient.\n",
      "  warnings.warn('New multiplier is between 1 and 2, this '\n",
      "/home/teobrien/packages/openfermion/src/openfermion/measurements/sparse_qpe.py:145: UserWarning: New multiplier is between 1 and 2, this may be inefficient.\n",
      "  warnings.warn('New multiplier is between 1 and 2, this '\n",
      "/home/teobrien/packages/openfermion/src/openfermion/measurements/sparse_qpe.py:145: UserWarning: New multiplier is between 1 and 2, this may be inefficient.\n",
      "  warnings.warn('New multiplier is between 1 and 2, this '\n",
      "/home/teobrien/packages/openfermion/src/openfermion/measurements/sparse_qpe.py:145: UserWarning: New multiplier is between 1 and 2, this may be inefficient.\n",
      "  warnings.warn('New multiplier is between 1 and 2, this '\n",
      "/home/teobrien/packages/openfermion/src/openfermion/measurements/sparse_qpe.py:145: UserWarning: New multiplier is between 1 and 2, this may be inefficient.\n",
      "  warnings.warn('New multiplier is between 1 and 2, this '\n",
      "/home/teobrien/packages/openfermion/src/openfermion/measurements/sparse_qpe.py:145: UserWarning: New multiplier is between 1 and 2, this may be inefficient.\n",
      "  warnings.warn('New multiplier is between 1 and 2, this '\n",
      "/home/teobrien/packages/openfermion/src/openfermion/measurements/sparse_qpe.py:145: UserWarning: New multiplier is between 1 and 2, this may be inefficient.\n",
      "  warnings.warn('New multiplier is between 1 and 2, this '\n",
      "/home/teobrien/packages/openfermion/src/openfermion/measurements/sparse_qpe.py:145: UserWarning: New multiplier is between 1 and 2, this may be inefficient.\n",
      "  warnings.warn('New multiplier is between 1 and 2, this '\n",
      "/home/teobrien/packages/openfermion/src/openfermion/measurements/sparse_qpe.py:145: UserWarning: New multiplier is between 1 and 2, this may be inefficient.\n",
      "  warnings.warn('New multiplier is between 1 and 2, this '\n",
      "/home/teobrien/packages/openfermion/src/openfermion/measurements/sparse_qpe.py:145: UserWarning: New multiplier is between 1 and 2, this may be inefficient.\n",
      "  warnings.warn('New multiplier is between 1 and 2, this '\n",
      "/home/teobrien/packages/openfermion/src/openfermion/measurements/sparse_qpe.py:145: UserWarning: New multiplier is between 1 and 2, this may be inefficient.\n",
      "  warnings.warn('New multiplier is between 1 and 2, this '\n",
      "/home/teobrien/packages/openfermion/src/openfermion/measurements/sparse_qpe.py:145: UserWarning: New multiplier is between 1 and 2, this may be inefficient.\n",
      "  warnings.warn('New multiplier is between 1 and 2, this '\n",
      "/home/teobrien/packages/openfermion/src/openfermion/measurements/sparse_qpe.py:145: UserWarning: New multiplier is between 1 and 2, this may be inefficient.\n",
      "  warnings.warn('New multiplier is between 1 and 2, this '\n",
      "/home/teobrien/packages/openfermion/src/openfermion/measurements/sparse_qpe.py:145: UserWarning: New multiplier is between 1 and 2, this may be inefficient.\n",
      "  warnings.warn('New multiplier is between 1 and 2, this '\n",
      "/home/teobrien/packages/openfermion/src/openfermion/measurements/sparse_qpe.py:145: UserWarning: New multiplier is between 1 and 2, this may be inefficient.\n",
      "  warnings.warn('New multiplier is between 1 and 2, this '\n",
      "/home/teobrien/packages/openfermion/src/openfermion/measurements/sparse_qpe.py:145: UserWarning: New multiplier is between 1 and 2, this may be inefficient.\n",
      "  warnings.warn('New multiplier is between 1 and 2, this '\n",
      "/home/teobrien/packages/openfermion/src/openfermion/measurements/sparse_qpe.py:145: UserWarning: New multiplier is between 1 and 2, this may be inefficient.\n",
      "  warnings.warn('New multiplier is between 1 and 2, this '\n",
      "/home/teobrien/packages/openfermion/src/openfermion/measurements/sparse_qpe.py:145: UserWarning: New multiplier is between 1 and 2, this may be inefficient.\n",
      "  warnings.warn('New multiplier is between 1 and 2, this '\n",
      "/home/teobrien/packages/openfermion/src/openfermion/measurements/sparse_qpe.py:145: UserWarning: New multiplier is between 1 and 2, this may be inefficient.\n",
      "  warnings.warn('New multiplier is between 1 and 2, this '\n",
      "/home/teobrien/packages/openfermion/src/openfermion/measurements/sparse_qpe.py:145: UserWarning: New multiplier is between 1 and 2, this may be inefficient.\n",
      "  warnings.warn('New multiplier is between 1 and 2, this '\n",
      "/home/teobrien/packages/openfermion/src/openfermion/measurements/sparse_qpe.py:145: UserWarning: New multiplier is between 1 and 2, this may be inefficient.\n",
      "  warnings.warn('New multiplier is between 1 and 2, this '\n",
      "/home/teobrien/packages/openfermion/src/openfermion/measurements/sparse_qpe.py:145: UserWarning: New multiplier is between 1 and 2, this may be inefficient.\n",
      "  warnings.warn('New multiplier is between 1 and 2, this '\n",
      "/home/teobrien/packages/openfermion/src/openfermion/measurements/sparse_qpe.py:145: UserWarning: New multiplier is between 1 and 2, this may be inefficient.\n",
      "  warnings.warn('New multiplier is between 1 and 2, this '\n",
      "/home/teobrien/packages/openfermion/src/openfermion/measurements/sparse_qpe.py:145: UserWarning: New multiplier is between 1 and 2, this may be inefficient.\n",
      "  warnings.warn('New multiplier is between 1 and 2, this '\n"
     ]
    },
    {
     "name": "stdout",
     "output_type": "stream",
     "text": [
      "Executed in: 0:01:26.393566\n",
      "1 Started at: 2020-11-10 07:36:34.745486\n",
      "[1.16130414 4.68237431 3.43820059 1.94909075 5.87623881]\n"
     ]
    },
    {
     "name": "stderr",
     "output_type": "stream",
     "text": [
      "/home/teobrien/packages/openfermion/src/openfermion/measurements/sparse_qpe.py:145: UserWarning: New multiplier is between 1 and 2, this may be inefficient.\n",
      "  warnings.warn('New multiplier is between 1 and 2, this '\n",
      "/home/teobrien/packages/openfermion/src/openfermion/measurements/sparse_qpe.py:145: UserWarning: New multiplier is between 1 and 2, this may be inefficient.\n",
      "  warnings.warn('New multiplier is between 1 and 2, this '\n",
      "/home/teobrien/packages/openfermion/src/openfermion/measurements/sparse_qpe.py:145: UserWarning: New multiplier is between 1 and 2, this may be inefficient.\n",
      "  warnings.warn('New multiplier is between 1 and 2, this '\n"
     ]
    },
    {
     "name": "stdout",
     "output_type": "stream",
     "text": [
      "Executed in: 0:01:43.334731\n",
      "2 Started at: 2020-11-10 07:38:18.080295\n",
      "[0.69589343 2.85601507 6.03114565 3.6430586  0.53395428]\n"
     ]
    },
    {
     "name": "stderr",
     "output_type": "stream",
     "text": [
      "/home/teobrien/packages/openfermion/src/openfermion/measurements/sparse_qpe.py:145: UserWarning: New multiplier is between 1 and 2, this may be inefficient.\n",
      "  warnings.warn('New multiplier is between 1 and 2, this '\n",
      "/home/teobrien/packages/openfermion/src/openfermion/measurements/sparse_qpe.py:145: UserWarning: New multiplier is between 1 and 2, this may be inefficient.\n",
      "  warnings.warn('New multiplier is between 1 and 2, this '\n",
      "/home/teobrien/packages/openfermion/src/openfermion/measurements/sparse_qpe.py:145: UserWarning: New multiplier is between 1 and 2, this may be inefficient.\n",
      "  warnings.warn('New multiplier is between 1 and 2, this '\n",
      "/home/teobrien/packages/openfermion/src/openfermion/measurements/sparse_qpe.py:145: UserWarning: New multiplier is between 1 and 2, this may be inefficient.\n",
      "  warnings.warn('New multiplier is between 1 and 2, this '\n",
      "/home/teobrien/packages/openfermion/src/openfermion/measurements/sparse_qpe.py:145: UserWarning: New multiplier is between 1 and 2, this may be inefficient.\n",
      "  warnings.warn('New multiplier is between 1 and 2, this '\n",
      "/home/teobrien/packages/openfermion/src/openfermion/measurements/sparse_qpe.py:145: UserWarning: New multiplier is between 1 and 2, this may be inefficient.\n",
      "  warnings.warn('New multiplier is between 1 and 2, this '\n"
     ]
    },
    {
     "name": "stdout",
     "output_type": "stream",
     "text": [
      "Executed in: 0:02:07.823486\n",
      "3 Started at: 2020-11-10 07:40:25.903866\n",
      "[5.22254324 5.55919321 3.0807892  4.82424434 4.20438383]\n"
     ]
    },
    {
     "name": "stderr",
     "output_type": "stream",
     "text": [
      "/home/teobrien/packages/openfermion/src/openfermion/measurements/sparse_qpe.py:145: UserWarning: New multiplier is between 1 and 2, this may be inefficient.\n",
      "  warnings.warn('New multiplier is between 1 and 2, this '\n",
      "/home/teobrien/packages/openfermion/src/openfermion/measurements/sparse_qpe.py:145: UserWarning: New multiplier is between 1 and 2, this may be inefficient.\n",
      "  warnings.warn('New multiplier is between 1 and 2, this '\n",
      "/home/teobrien/packages/openfermion/src/openfermion/measurements/sparse_qpe.py:145: UserWarning: New multiplier is between 1 and 2, this may be inefficient.\n",
      "  warnings.warn('New multiplier is between 1 and 2, this '\n",
      "/home/teobrien/packages/openfermion/src/openfermion/measurements/sparse_qpe.py:145: UserWarning: New multiplier is between 1 and 2, this may be inefficient.\n",
      "  warnings.warn('New multiplier is between 1 and 2, this '\n",
      "/home/teobrien/packages/openfermion/src/openfermion/measurements/sparse_qpe.py:145: UserWarning: New multiplier is between 1 and 2, this may be inefficient.\n",
      "  warnings.warn('New multiplier is between 1 and 2, this '\n",
      "/home/teobrien/packages/openfermion/src/openfermion/measurements/sparse_qpe.py:145: UserWarning: New multiplier is between 1 and 2, this may be inefficient.\n",
      "  warnings.warn('New multiplier is between 1 and 2, this '\n"
     ]
    },
    {
     "name": "stdout",
     "output_type": "stream",
     "text": [
      "Executed in: 0:01:28.532480\n",
      "4 Started at: 2020-11-10 07:41:54.436429\n",
      "[3.78481356 3.07492653 2.93742906 0.83525742 2.12742466]\n",
      "Executed in: 0:02:09.576945\n",
      "5 Started at: 2020-11-10 07:44:04.013459\n",
      "[5.14923811 3.58510512 5.58494005 5.05971302 0.08136362]\n",
      "Executed in: 0:01:58.040160\n",
      "6 Started at: 2020-11-10 07:46:02.053699\n",
      "[3.00404038 1.87455778 4.20020506 5.30825771 0.17111107]\n",
      "Executed in: 0:01:35.540974\n",
      "7 Started at: 2020-11-10 07:47:37.594756\n",
      "[5.38499693 1.35612336 2.49366004 6.07923983 3.63330332]\n"
     ]
    },
    {
     "name": "stderr",
     "output_type": "stream",
     "text": [
      "/home/teobrien/packages/openfermion/src/openfermion/measurements/sparse_qpe.py:145: UserWarning: New multiplier is between 1 and 2, this may be inefficient.\n",
      "  warnings.warn('New multiplier is between 1 and 2, this '\n",
      "/home/teobrien/packages/openfermion/src/openfermion/measurements/sparse_qpe.py:145: UserWarning: New multiplier is between 1 and 2, this may be inefficient.\n",
      "  warnings.warn('New multiplier is between 1 and 2, this '\n",
      "/home/teobrien/packages/openfermion/src/openfermion/measurements/sparse_qpe.py:145: UserWarning: New multiplier is between 1 and 2, this may be inefficient.\n",
      "  warnings.warn('New multiplier is between 1 and 2, this '\n",
      "/home/teobrien/packages/openfermion/src/openfermion/measurements/sparse_qpe.py:145: UserWarning: New multiplier is between 1 and 2, this may be inefficient.\n",
      "  warnings.warn('New multiplier is between 1 and 2, this '\n",
      "/home/teobrien/packages/openfermion/src/openfermion/measurements/sparse_qpe.py:145: UserWarning: New multiplier is between 1 and 2, this may be inefficient.\n",
      "  warnings.warn('New multiplier is between 1 and 2, this '\n",
      "/home/teobrien/packages/openfermion/src/openfermion/measurements/sparse_qpe.py:145: UserWarning: New multiplier is between 1 and 2, this may be inefficient.\n",
      "  warnings.warn('New multiplier is between 1 and 2, this '\n",
      "/home/teobrien/packages/openfermion/src/openfermion/measurements/sparse_qpe.py:145: UserWarning: New multiplier is between 1 and 2, this may be inefficient.\n",
      "  warnings.warn('New multiplier is between 1 and 2, this '\n",
      "/home/teobrien/packages/openfermion/src/openfermion/measurements/sparse_qpe.py:145: UserWarning: New multiplier is between 1 and 2, this may be inefficient.\n",
      "  warnings.warn('New multiplier is between 1 and 2, this '\n",
      "/home/teobrien/packages/openfermion/src/openfermion/measurements/sparse_qpe.py:145: UserWarning: New multiplier is between 1 and 2, this may be inefficient.\n",
      "  warnings.warn('New multiplier is between 1 and 2, this '\n",
      "/home/teobrien/packages/openfermion/src/openfermion/measurements/sparse_qpe.py:145: UserWarning: New multiplier is between 1 and 2, this may be inefficient.\n",
      "  warnings.warn('New multiplier is between 1 and 2, this '\n",
      "/home/teobrien/packages/openfermion/src/openfermion/measurements/sparse_qpe.py:145: UserWarning: New multiplier is between 1 and 2, this may be inefficient.\n",
      "  warnings.warn('New multiplier is between 1 and 2, this '\n",
      "/home/teobrien/packages/openfermion/src/openfermion/measurements/sparse_qpe.py:145: UserWarning: New multiplier is between 1 and 2, this may be inefficient.\n",
      "  warnings.warn('New multiplier is between 1 and 2, this '\n"
     ]
    },
    {
     "name": "stdout",
     "output_type": "stream",
     "text": [
      "Executed in: 0:01:29.187564\n",
      "8 Started at: 2020-11-10 07:49:06.782401\n",
      "[0.50897628 2.76159236 3.29840362 4.13180743 4.30932019]\n"
     ]
    },
    {
     "name": "stderr",
     "output_type": "stream",
     "text": [
      "/home/teobrien/packages/openfermion/src/openfermion/measurements/sparse_qpe.py:145: UserWarning: New multiplier is between 1 and 2, this may be inefficient.\n",
      "  warnings.warn('New multiplier is between 1 and 2, this '\n",
      "/home/teobrien/packages/openfermion/src/openfermion/measurements/sparse_qpe.py:145: UserWarning: New multiplier is between 1 and 2, this may be inefficient.\n",
      "  warnings.warn('New multiplier is between 1 and 2, this '\n",
      "/home/teobrien/packages/openfermion/src/openfermion/measurements/sparse_qpe.py:145: UserWarning: New multiplier is between 1 and 2, this may be inefficient.\n",
      "  warnings.warn('New multiplier is between 1 and 2, this '\n",
      "/home/teobrien/packages/openfermion/src/openfermion/measurements/sparse_qpe.py:145: UserWarning: New multiplier is between 1 and 2, this may be inefficient.\n",
      "  warnings.warn('New multiplier is between 1 and 2, this '\n",
      "/home/teobrien/packages/openfermion/src/openfermion/measurements/sparse_qpe.py:145: UserWarning: New multiplier is between 1 and 2, this may be inefficient.\n",
      "  warnings.warn('New multiplier is between 1 and 2, this '\n",
      "/home/teobrien/packages/openfermion/src/openfermion/measurements/sparse_qpe.py:145: UserWarning: New multiplier is between 1 and 2, this may be inefficient.\n",
      "  warnings.warn('New multiplier is between 1 and 2, this '\n",
      "/home/teobrien/packages/openfermion/src/openfermion/measurements/sparse_qpe.py:145: UserWarning: New multiplier is between 1 and 2, this may be inefficient.\n",
      "  warnings.warn('New multiplier is between 1 and 2, this '\n",
      "/home/teobrien/packages/openfermion/src/openfermion/measurements/sparse_qpe.py:145: UserWarning: New multiplier is between 1 and 2, this may be inefficient.\n",
      "  warnings.warn('New multiplier is between 1 and 2, this '\n",
      "/home/teobrien/packages/openfermion/src/openfermion/measurements/sparse_qpe.py:145: UserWarning: New multiplier is between 1 and 2, this may be inefficient.\n",
      "  warnings.warn('New multiplier is between 1 and 2, this '\n",
      "/home/teobrien/packages/openfermion/src/openfermion/measurements/sparse_qpe.py:145: UserWarning: New multiplier is between 1 and 2, this may be inefficient.\n",
      "  warnings.warn('New multiplier is between 1 and 2, this '\n",
      "/home/teobrien/packages/openfermion/src/openfermion/measurements/sparse_qpe.py:145: UserWarning: New multiplier is between 1 and 2, this may be inefficient.\n",
      "  warnings.warn('New multiplier is between 1 and 2, this '\n",
      "/home/teobrien/packages/openfermion/src/openfermion/measurements/sparse_qpe.py:145: UserWarning: New multiplier is between 1 and 2, this may be inefficient.\n",
      "  warnings.warn('New multiplier is between 1 and 2, this '\n",
      "/home/teobrien/packages/openfermion/src/openfermion/measurements/sparse_qpe.py:145: UserWarning: New multiplier is between 1 and 2, this may be inefficient.\n",
      "  warnings.warn('New multiplier is between 1 and 2, this '\n",
      "/home/teobrien/packages/openfermion/src/openfermion/measurements/sparse_qpe.py:145: UserWarning: New multiplier is between 1 and 2, this may be inefficient.\n",
      "  warnings.warn('New multiplier is between 1 and 2, this '\n",
      "/home/teobrien/packages/openfermion/src/openfermion/measurements/sparse_qpe.py:145: UserWarning: New multiplier is between 1 and 2, this may be inefficient.\n",
      "  warnings.warn('New multiplier is between 1 and 2, this '\n",
      "/home/teobrien/packages/openfermion/src/openfermion/measurements/sparse_qpe.py:145: UserWarning: New multiplier is between 1 and 2, this may be inefficient.\n",
      "  warnings.warn('New multiplier is between 1 and 2, this '\n"
     ]
    },
    {
     "name": "stdout",
     "output_type": "stream",
     "text": [
      "Executed in: 0:01:37.709299\n",
      "9 Started at: 2020-11-10 07:50:44.491779\n",
      "[6.19833286 4.44582634 2.50345854 4.96139458 3.80413467]\n"
     ]
    },
    {
     "name": "stderr",
     "output_type": "stream",
     "text": [
      "/home/teobrien/packages/openfermion/src/openfermion/measurements/sparse_qpe.py:145: UserWarning: New multiplier is between 1 and 2, this may be inefficient.\n",
      "  warnings.warn('New multiplier is between 1 and 2, this '\n",
      "/home/teobrien/packages/openfermion/src/openfermion/measurements/sparse_qpe.py:145: UserWarning: New multiplier is between 1 and 2, this may be inefficient.\n",
      "  warnings.warn('New multiplier is between 1 and 2, this '\n"
     ]
    },
    {
     "name": "stdout",
     "output_type": "stream",
     "text": [
      "Executed in: 0:01:27.664034\n",
      "10 Started at: 2020-11-10 07:52:12.155889\n",
      "[4.30124197 2.64379548 3.84622785 1.32926919 1.01209247]\n",
      "Executed in: 0:01:35.033723\n",
      "11 Started at: 2020-11-10 07:53:47.189692\n",
      "[4.0019298  3.78040185 1.72579299 1.82475267 4.9369476 ]\n"
     ]
    },
    {
     "name": "stderr",
     "output_type": "stream",
     "text": [
      "/home/teobrien/packages/openfermion/src/openfermion/measurements/sparse_qpe.py:145: UserWarning: New multiplier is between 1 and 2, this may be inefficient.\n",
      "  warnings.warn('New multiplier is between 1 and 2, this '\n",
      "/home/teobrien/packages/openfermion/src/openfermion/measurements/sparse_qpe.py:145: UserWarning: New multiplier is between 1 and 2, this may be inefficient.\n",
      "  warnings.warn('New multiplier is between 1 and 2, this '\n",
      "/home/teobrien/packages/openfermion/src/openfermion/measurements/sparse_qpe.py:145: UserWarning: New multiplier is between 1 and 2, this may be inefficient.\n",
      "  warnings.warn('New multiplier is between 1 and 2, this '\n",
      "/home/teobrien/packages/openfermion/src/openfermion/measurements/sparse_qpe.py:145: UserWarning: New multiplier is between 1 and 2, this may be inefficient.\n",
      "  warnings.warn('New multiplier is between 1 and 2, this '\n",
      "/home/teobrien/packages/openfermion/src/openfermion/measurements/sparse_qpe.py:145: UserWarning: New multiplier is between 1 and 2, this may be inefficient.\n",
      "  warnings.warn('New multiplier is between 1 and 2, this '\n",
      "/home/teobrien/packages/openfermion/src/openfermion/measurements/sparse_qpe.py:145: UserWarning: New multiplier is between 1 and 2, this may be inefficient.\n",
      "  warnings.warn('New multiplier is between 1 and 2, this '\n",
      "/home/teobrien/packages/openfermion/src/openfermion/measurements/sparse_qpe.py:145: UserWarning: New multiplier is between 1 and 2, this may be inefficient.\n",
      "  warnings.warn('New multiplier is between 1 and 2, this '\n",
      "/home/teobrien/packages/openfermion/src/openfermion/measurements/sparse_qpe.py:145: UserWarning: New multiplier is between 1 and 2, this may be inefficient.\n",
      "  warnings.warn('New multiplier is between 1 and 2, this '\n",
      "/home/teobrien/packages/openfermion/src/openfermion/measurements/sparse_qpe.py:145: UserWarning: New multiplier is between 1 and 2, this may be inefficient.\n",
      "  warnings.warn('New multiplier is between 1 and 2, this '\n",
      "/home/teobrien/packages/openfermion/src/openfermion/measurements/sparse_qpe.py:145: UserWarning: New multiplier is between 1 and 2, this may be inefficient.\n",
      "  warnings.warn('New multiplier is between 1 and 2, this '\n",
      "/home/teobrien/packages/openfermion/src/openfermion/measurements/sparse_qpe.py:145: UserWarning: New multiplier is between 1 and 2, this may be inefficient.\n",
      "  warnings.warn('New multiplier is between 1 and 2, this '\n",
      "/home/teobrien/packages/openfermion/src/openfermion/measurements/sparse_qpe.py:145: UserWarning: New multiplier is between 1 and 2, this may be inefficient.\n",
      "  warnings.warn('New multiplier is between 1 and 2, this '\n",
      "/home/teobrien/packages/openfermion/src/openfermion/measurements/sparse_qpe.py:145: UserWarning: New multiplier is between 1 and 2, this may be inefficient.\n",
      "  warnings.warn('New multiplier is between 1 and 2, this '\n"
     ]
    },
    {
     "name": "stdout",
     "output_type": "stream",
     "text": [
      "Executed in: 0:01:27.758685\n",
      "12 Started at: 2020-11-10 07:55:14.948480\n",
      "[4.66525145 0.83729097 3.10653163 1.61434743 5.9831153 ]\n"
     ]
    },
    {
     "name": "stderr",
     "output_type": "stream",
     "text": [
      "/home/teobrien/packages/openfermion/src/openfermion/measurements/sparse_qpe.py:145: UserWarning: New multiplier is between 1 and 2, this may be inefficient.\n",
      "  warnings.warn('New multiplier is between 1 and 2, this '\n",
      "/home/teobrien/packages/openfermion/src/openfermion/measurements/sparse_qpe.py:145: UserWarning: New multiplier is between 1 and 2, this may be inefficient.\n",
      "  warnings.warn('New multiplier is between 1 and 2, this '\n",
      "/home/teobrien/packages/openfermion/src/openfermion/measurements/sparse_qpe.py:145: UserWarning: New multiplier is between 1 and 2, this may be inefficient.\n",
      "  warnings.warn('New multiplier is between 1 and 2, this '\n",
      "/home/teobrien/packages/openfermion/src/openfermion/measurements/sparse_qpe.py:145: UserWarning: New multiplier is between 1 and 2, this may be inefficient.\n",
      "  warnings.warn('New multiplier is between 1 and 2, this '\n"
     ]
    },
    {
     "name": "stdout",
     "output_type": "stream",
     "text": [
      "Executed in: 0:01:26.912248\n",
      "13 Started at: 2020-11-10 07:56:41.860805\n",
      "[4.26450493 1.11806254 4.91815359 1.4443436  1.44733711]\n",
      "Executed in: 0:03:01.330609\n",
      "14 Started at: 2020-11-10 07:59:43.191511\n",
      "[2.07377234 4.18435786 0.82883395 2.65151604 3.71175965]\n"
     ]
    },
    {
     "name": "stderr",
     "output_type": "stream",
     "text": [
      "/home/teobrien/packages/openfermion/src/openfermion/measurements/sparse_qpe.py:145: UserWarning: New multiplier is between 1 and 2, this may be inefficient.\n",
      "  warnings.warn('New multiplier is between 1 and 2, this '\n",
      "/home/teobrien/packages/openfermion/src/openfermion/measurements/sparse_qpe.py:145: UserWarning: New multiplier is between 1 and 2, this may be inefficient.\n",
      "  warnings.warn('New multiplier is between 1 and 2, this '\n",
      "/home/teobrien/packages/openfermion/src/openfermion/measurements/sparse_qpe.py:145: UserWarning: New multiplier is between 1 and 2, this may be inefficient.\n",
      "  warnings.warn('New multiplier is between 1 and 2, this '\n",
      "/home/teobrien/packages/openfermion/src/openfermion/measurements/sparse_qpe.py:145: UserWarning: New multiplier is between 1 and 2, this may be inefficient.\n",
      "  warnings.warn('New multiplier is between 1 and 2, this '\n",
      "/home/teobrien/packages/openfermion/src/openfermion/measurements/sparse_qpe.py:145: UserWarning: New multiplier is between 1 and 2, this may be inefficient.\n",
      "  warnings.warn('New multiplier is between 1 and 2, this '\n",
      "/home/teobrien/packages/openfermion/src/openfermion/measurements/sparse_qpe.py:145: UserWarning: New multiplier is between 1 and 2, this may be inefficient.\n",
      "  warnings.warn('New multiplier is between 1 and 2, this '\n",
      "/home/teobrien/packages/openfermion/src/openfermion/measurements/sparse_qpe.py:145: UserWarning: New multiplier is between 1 and 2, this may be inefficient.\n",
      "  warnings.warn('New multiplier is between 1 and 2, this '\n",
      "/home/teobrien/packages/openfermion/src/openfermion/measurements/sparse_qpe.py:145: UserWarning: New multiplier is between 1 and 2, this may be inefficient.\n",
      "  warnings.warn('New multiplier is between 1 and 2, this '\n",
      "/home/teobrien/packages/openfermion/src/openfermion/measurements/sparse_qpe.py:145: UserWarning: New multiplier is between 1 and 2, this may be inefficient.\n",
      "  warnings.warn('New multiplier is between 1 and 2, this '\n",
      "/home/teobrien/packages/openfermion/src/openfermion/measurements/sparse_qpe.py:145: UserWarning: New multiplier is between 1 and 2, this may be inefficient.\n",
      "  warnings.warn('New multiplier is between 1 and 2, this '\n",
      "/home/teobrien/packages/openfermion/src/openfermion/measurements/sparse_qpe.py:145: UserWarning: New multiplier is between 1 and 2, this may be inefficient.\n",
      "  warnings.warn('New multiplier is between 1 and 2, this '\n",
      "/home/teobrien/packages/openfermion/src/openfermion/measurements/sparse_qpe.py:145: UserWarning: New multiplier is between 1 and 2, this may be inefficient.\n",
      "  warnings.warn('New multiplier is between 1 and 2, this '\n",
      "/home/teobrien/packages/openfermion/src/openfermion/measurements/sparse_qpe.py:145: UserWarning: New multiplier is between 1 and 2, this may be inefficient.\n",
      "  warnings.warn('New multiplier is between 1 and 2, this '\n",
      "/home/teobrien/packages/openfermion/src/openfermion/measurements/sparse_qpe.py:145: UserWarning: New multiplier is between 1 and 2, this may be inefficient.\n",
      "  warnings.warn('New multiplier is between 1 and 2, this '\n",
      "/home/teobrien/packages/openfermion/src/openfermion/measurements/sparse_qpe.py:145: UserWarning: New multiplier is between 1 and 2, this may be inefficient.\n",
      "  warnings.warn('New multiplier is between 1 and 2, this '\n",
      "/home/teobrien/packages/openfermion/src/openfermion/measurements/sparse_qpe.py:145: UserWarning: New multiplier is between 1 and 2, this may be inefficient.\n",
      "  warnings.warn('New multiplier is between 1 and 2, this '\n",
      "/home/teobrien/packages/openfermion/src/openfermion/measurements/sparse_qpe.py:145: UserWarning: New multiplier is between 1 and 2, this may be inefficient.\n",
      "  warnings.warn('New multiplier is between 1 and 2, this '\n",
      "/home/teobrien/packages/openfermion/src/openfermion/measurements/sparse_qpe.py:145: UserWarning: New multiplier is between 1 and 2, this may be inefficient.\n",
      "  warnings.warn('New multiplier is between 1 and 2, this '\n",
      "/home/teobrien/packages/openfermion/src/openfermion/measurements/sparse_qpe.py:145: UserWarning: New multiplier is between 1 and 2, this may be inefficient.\n",
      "  warnings.warn('New multiplier is between 1 and 2, this '\n"
     ]
    },
    {
     "name": "stdout",
     "output_type": "stream",
     "text": [
      "Executed in: 0:01:21.621576\n",
      "15 Started at: 2020-11-10 08:01:04.813164\n",
      "[0.39535048 3.69822622 5.3793111  5.30943343 0.47899676]\n",
      "Executed in: 0:02:23.216039\n",
      "16 Started at: 2020-11-10 08:03:28.029285\n",
      "[2.05160514 1.01692232 5.41514779 4.52622552 2.63841178]\n"
     ]
    },
    {
     "name": "stderr",
     "output_type": "stream",
     "text": [
      "/home/teobrien/packages/openfermion/src/openfermion/measurements/sparse_qpe.py:145: UserWarning: New multiplier is between 1 and 2, this may be inefficient.\n",
      "  warnings.warn('New multiplier is between 1 and 2, this '\n",
      "/home/teobrien/packages/openfermion/src/openfermion/measurements/sparse_qpe.py:145: UserWarning: New multiplier is between 1 and 2, this may be inefficient.\n",
      "  warnings.warn('New multiplier is between 1 and 2, this '\n",
      "/home/teobrien/packages/openfermion/src/openfermion/measurements/sparse_qpe.py:145: UserWarning: New multiplier is between 1 and 2, this may be inefficient.\n",
      "  warnings.warn('New multiplier is between 1 and 2, this '\n",
      "/home/teobrien/packages/openfermion/src/openfermion/measurements/sparse_qpe.py:145: UserWarning: New multiplier is between 1 and 2, this may be inefficient.\n",
      "  warnings.warn('New multiplier is between 1 and 2, this '\n",
      "/home/teobrien/packages/openfermion/src/openfermion/measurements/sparse_qpe.py:145: UserWarning: New multiplier is between 1 and 2, this may be inefficient.\n",
      "  warnings.warn('New multiplier is between 1 and 2, this '\n",
      "/home/teobrien/packages/openfermion/src/openfermion/measurements/sparse_qpe.py:145: UserWarning: New multiplier is between 1 and 2, this may be inefficient.\n",
      "  warnings.warn('New multiplier is between 1 and 2, this '\n",
      "/home/teobrien/packages/openfermion/src/openfermion/measurements/sparse_qpe.py:145: UserWarning: New multiplier is between 1 and 2, this may be inefficient.\n",
      "  warnings.warn('New multiplier is between 1 and 2, this '\n",
      "/home/teobrien/packages/openfermion/src/openfermion/measurements/sparse_qpe.py:145: UserWarning: New multiplier is between 1 and 2, this may be inefficient.\n",
      "  warnings.warn('New multiplier is between 1 and 2, this '\n",
      "/home/teobrien/packages/openfermion/src/openfermion/measurements/sparse_qpe.py:145: UserWarning: New multiplier is between 1 and 2, this may be inefficient.\n",
      "  warnings.warn('New multiplier is between 1 and 2, this '\n",
      "/home/teobrien/packages/openfermion/src/openfermion/measurements/sparse_qpe.py:145: UserWarning: New multiplier is between 1 and 2, this may be inefficient.\n",
      "  warnings.warn('New multiplier is between 1 and 2, this '\n",
      "/home/teobrien/packages/openfermion/src/openfermion/measurements/sparse_qpe.py:145: UserWarning: New multiplier is between 1 and 2, this may be inefficient.\n",
      "  warnings.warn('New multiplier is between 1 and 2, this '\n",
      "/home/teobrien/packages/openfermion/src/openfermion/measurements/sparse_qpe.py:145: UserWarning: New multiplier is between 1 and 2, this may be inefficient.\n",
      "  warnings.warn('New multiplier is between 1 and 2, this '\n",
      "/home/teobrien/packages/openfermion/src/openfermion/measurements/sparse_qpe.py:145: UserWarning: New multiplier is between 1 and 2, this may be inefficient.\n",
      "  warnings.warn('New multiplier is between 1 and 2, this '\n",
      "/home/teobrien/packages/openfermion/src/openfermion/measurements/sparse_qpe.py:145: UserWarning: New multiplier is between 1 and 2, this may be inefficient.\n",
      "  warnings.warn('New multiplier is between 1 and 2, this '\n",
      "/home/teobrien/packages/openfermion/src/openfermion/measurements/sparse_qpe.py:145: UserWarning: New multiplier is between 1 and 2, this may be inefficient.\n",
      "  warnings.warn('New multiplier is between 1 and 2, this '\n",
      "/home/teobrien/packages/openfermion/src/openfermion/measurements/sparse_qpe.py:145: UserWarning: New multiplier is between 1 and 2, this may be inefficient.\n",
      "  warnings.warn('New multiplier is between 1 and 2, this '\n",
      "/home/teobrien/packages/openfermion/src/openfermion/measurements/sparse_qpe.py:145: UserWarning: New multiplier is between 1 and 2, this may be inefficient.\n",
      "  warnings.warn('New multiplier is between 1 and 2, this '\n",
      "/home/teobrien/packages/openfermion/src/openfermion/measurements/sparse_qpe.py:145: UserWarning: New multiplier is between 1 and 2, this may be inefficient.\n",
      "  warnings.warn('New multiplier is between 1 and 2, this '\n",
      "/home/teobrien/packages/openfermion/src/openfermion/measurements/sparse_qpe.py:145: UserWarning: New multiplier is between 1 and 2, this may be inefficient.\n",
      "  warnings.warn('New multiplier is between 1 and 2, this '\n",
      "/home/teobrien/packages/openfermion/src/openfermion/measurements/sparse_qpe.py:145: UserWarning: New multiplier is between 1 and 2, this may be inefficient.\n",
      "  warnings.warn('New multiplier is between 1 and 2, this '\n",
      "/home/teobrien/packages/openfermion/src/openfermion/measurements/sparse_qpe.py:145: UserWarning: New multiplier is between 1 and 2, this may be inefficient.\n",
      "  warnings.warn('New multiplier is between 1 and 2, this '\n",
      "/home/teobrien/packages/openfermion/src/openfermion/measurements/sparse_qpe.py:145: UserWarning: New multiplier is between 1 and 2, this may be inefficient.\n",
      "  warnings.warn('New multiplier is between 1 and 2, this '\n",
      "/home/teobrien/packages/openfermion/src/openfermion/measurements/sparse_qpe.py:145: UserWarning: New multiplier is between 1 and 2, this may be inefficient.\n",
      "  warnings.warn('New multiplier is between 1 and 2, this '\n",
      "/home/teobrien/packages/openfermion/src/openfermion/measurements/sparse_qpe.py:145: UserWarning: New multiplier is between 1 and 2, this may be inefficient.\n",
      "  warnings.warn('New multiplier is between 1 and 2, this '\n",
      "/home/teobrien/packages/openfermion/src/openfermion/measurements/sparse_qpe.py:145: UserWarning: New multiplier is between 1 and 2, this may be inefficient.\n",
      "  warnings.warn('New multiplier is between 1 and 2, this '\n"
     ]
    },
    {
     "name": "stdout",
     "output_type": "stream",
     "text": [
      "Executed in: 0:01:24.214801\n",
      "17 Started at: 2020-11-10 08:04:52.244210\n",
      "[5.45555961 6.11894399 3.43836658 2.21234317 1.06607681]\n"
     ]
    },
    {
     "name": "stderr",
     "output_type": "stream",
     "text": [
      "/home/teobrien/packages/openfermion/src/openfermion/measurements/sparse_qpe.py:145: UserWarning: New multiplier is between 1 and 2, this may be inefficient.\n",
      "  warnings.warn('New multiplier is between 1 and 2, this '\n",
      "/home/teobrien/packages/openfermion/src/openfermion/measurements/sparse_qpe.py:145: UserWarning: New multiplier is between 1 and 2, this may be inefficient.\n",
      "  warnings.warn('New multiplier is between 1 and 2, this '\n",
      "/home/teobrien/packages/openfermion/src/openfermion/measurements/sparse_qpe.py:145: UserWarning: New multiplier is between 1 and 2, this may be inefficient.\n",
      "  warnings.warn('New multiplier is between 1 and 2, this '\n"
     ]
    },
    {
     "name": "stdout",
     "output_type": "stream",
     "text": [
      "Executed in: 0:01:28.836702\n",
      "18 Started at: 2020-11-10 08:06:21.081008\n",
      "[5.06245322 5.73169868 2.48500274 2.32137378 5.48284117]\n",
      "Executed in: 0:01:30.554669\n",
      "19 Started at: 2020-11-10 08:07:51.635760\n",
      "[4.16908113 0.96972993 3.62330237 6.2320968  1.48821172]\n"
     ]
    },
    {
     "name": "stderr",
     "output_type": "stream",
     "text": [
      "/home/teobrien/packages/openfermion/src/openfermion/measurements/sparse_qpe.py:145: UserWarning: New multiplier is between 1 and 2, this may be inefficient.\n",
      "  warnings.warn('New multiplier is between 1 and 2, this '\n",
      "/home/teobrien/packages/openfermion/src/openfermion/measurements/sparse_qpe.py:145: UserWarning: New multiplier is between 1 and 2, this may be inefficient.\n",
      "  warnings.warn('New multiplier is between 1 and 2, this '\n",
      "/home/teobrien/packages/openfermion/src/openfermion/measurements/sparse_qpe.py:145: UserWarning: New multiplier is between 1 and 2, this may be inefficient.\n",
      "  warnings.warn('New multiplier is between 1 and 2, this '\n",
      "/home/teobrien/packages/openfermion/src/openfermion/measurements/sparse_qpe.py:145: UserWarning: New multiplier is between 1 and 2, this may be inefficient.\n",
      "  warnings.warn('New multiplier is between 1 and 2, this '\n",
      "/home/teobrien/packages/openfermion/src/openfermion/measurements/sparse_qpe.py:145: UserWarning: New multiplier is between 1 and 2, this may be inefficient.\n",
      "  warnings.warn('New multiplier is between 1 and 2, this '\n",
      "/home/teobrien/packages/openfermion/src/openfermion/measurements/sparse_qpe.py:145: UserWarning: New multiplier is between 1 and 2, this may be inefficient.\n",
      "  warnings.warn('New multiplier is between 1 and 2, this '\n",
      "/home/teobrien/packages/openfermion/src/openfermion/measurements/sparse_qpe.py:145: UserWarning: New multiplier is between 1 and 2, this may be inefficient.\n",
      "  warnings.warn('New multiplier is between 1 and 2, this '\n",
      "/home/teobrien/packages/openfermion/src/openfermion/measurements/sparse_qpe.py:145: UserWarning: New multiplier is between 1 and 2, this may be inefficient.\n",
      "  warnings.warn('New multiplier is between 1 and 2, this '\n",
      "/home/teobrien/packages/openfermion/src/openfermion/measurements/sparse_qpe.py:145: UserWarning: New multiplier is between 1 and 2, this may be inefficient.\n",
      "  warnings.warn('New multiplier is between 1 and 2, this '\n",
      "/home/teobrien/packages/openfermion/src/openfermion/measurements/sparse_qpe.py:145: UserWarning: New multiplier is between 1 and 2, this may be inefficient.\n",
      "  warnings.warn('New multiplier is between 1 and 2, this '\n"
     ]
    },
    {
     "name": "stdout",
     "output_type": "stream",
     "text": [
      "Executed in: 0:01:24.885553\n",
      "20 Started at: 2020-11-10 08:09:16.521389\n",
      "[1.12079207 2.98135453 2.74093993 4.2043374  4.00180517]\n",
      "Executed in: 0:01:46.179542\n",
      "21 Started at: 2020-11-10 08:11:02.701007\n",
      "[5.86978422 5.38774159 0.94717718 2.0884287  4.43229014]\n"
     ]
    },
    {
     "name": "stderr",
     "output_type": "stream",
     "text": [
      "/home/teobrien/packages/openfermion/src/openfermion/measurements/sparse_qpe.py:145: UserWarning: New multiplier is between 1 and 2, this may be inefficient.\n",
      "  warnings.warn('New multiplier is between 1 and 2, this '\n",
      "/home/teobrien/packages/openfermion/src/openfermion/measurements/sparse_qpe.py:145: UserWarning: New multiplier is between 1 and 2, this may be inefficient.\n",
      "  warnings.warn('New multiplier is between 1 and 2, this '\n",
      "/home/teobrien/packages/openfermion/src/openfermion/measurements/sparse_qpe.py:145: UserWarning: New multiplier is between 1 and 2, this may be inefficient.\n",
      "  warnings.warn('New multiplier is between 1 and 2, this '\n",
      "/home/teobrien/packages/openfermion/src/openfermion/measurements/sparse_qpe.py:145: UserWarning: New multiplier is between 1 and 2, this may be inefficient.\n",
      "  warnings.warn('New multiplier is between 1 and 2, this '\n",
      "/home/teobrien/packages/openfermion/src/openfermion/measurements/sparse_qpe.py:145: UserWarning: New multiplier is between 1 and 2, this may be inefficient.\n",
      "  warnings.warn('New multiplier is between 1 and 2, this '\n",
      "/home/teobrien/packages/openfermion/src/openfermion/measurements/sparse_qpe.py:145: UserWarning: New multiplier is between 1 and 2, this may be inefficient.\n",
      "  warnings.warn('New multiplier is between 1 and 2, this '\n",
      "/home/teobrien/packages/openfermion/src/openfermion/measurements/sparse_qpe.py:145: UserWarning: New multiplier is between 1 and 2, this may be inefficient.\n",
      "  warnings.warn('New multiplier is between 1 and 2, this '\n",
      "/home/teobrien/packages/openfermion/src/openfermion/measurements/sparse_qpe.py:145: UserWarning: New multiplier is between 1 and 2, this may be inefficient.\n",
      "  warnings.warn('New multiplier is between 1 and 2, this '\n",
      "/home/teobrien/packages/openfermion/src/openfermion/measurements/sparse_qpe.py:145: UserWarning: New multiplier is between 1 and 2, this may be inefficient.\n",
      "  warnings.warn('New multiplier is between 1 and 2, this '\n",
      "/home/teobrien/packages/openfermion/src/openfermion/measurements/sparse_qpe.py:145: UserWarning: New multiplier is between 1 and 2, this may be inefficient.\n",
      "  warnings.warn('New multiplier is between 1 and 2, this '\n",
      "/home/teobrien/packages/openfermion/src/openfermion/measurements/sparse_qpe.py:145: UserWarning: New multiplier is between 1 and 2, this may be inefficient.\n",
      "  warnings.warn('New multiplier is between 1 and 2, this '\n",
      "/home/teobrien/packages/openfermion/src/openfermion/measurements/sparse_qpe.py:145: UserWarning: New multiplier is between 1 and 2, this may be inefficient.\n",
      "  warnings.warn('New multiplier is between 1 and 2, this '\n",
      "/home/teobrien/packages/openfermion/src/openfermion/measurements/sparse_qpe.py:145: UserWarning: New multiplier is between 1 and 2, this may be inefficient.\n",
      "  warnings.warn('New multiplier is between 1 and 2, this '\n",
      "/home/teobrien/packages/openfermion/src/openfermion/measurements/sparse_qpe.py:145: UserWarning: New multiplier is between 1 and 2, this may be inefficient.\n",
      "  warnings.warn('New multiplier is between 1 and 2, this '\n",
      "/home/teobrien/packages/openfermion/src/openfermion/measurements/sparse_qpe.py:145: UserWarning: New multiplier is between 1 and 2, this may be inefficient.\n",
      "  warnings.warn('New multiplier is between 1 and 2, this '\n",
      "/home/teobrien/packages/openfermion/src/openfermion/measurements/sparse_qpe.py:145: UserWarning: New multiplier is between 1 and 2, this may be inefficient.\n",
      "  warnings.warn('New multiplier is between 1 and 2, this '\n",
      "/home/teobrien/packages/openfermion/src/openfermion/measurements/sparse_qpe.py:145: UserWarning: New multiplier is between 1 and 2, this may be inefficient.\n",
      "  warnings.warn('New multiplier is between 1 and 2, this '\n",
      "/home/teobrien/packages/openfermion/src/openfermion/measurements/sparse_qpe.py:145: UserWarning: New multiplier is between 1 and 2, this may be inefficient.\n",
      "  warnings.warn('New multiplier is between 1 and 2, this '\n",
      "/home/teobrien/packages/openfermion/src/openfermion/measurements/sparse_qpe.py:145: UserWarning: New multiplier is between 1 and 2, this may be inefficient.\n",
      "  warnings.warn('New multiplier is between 1 and 2, this '\n",
      "/home/teobrien/packages/openfermion/src/openfermion/measurements/sparse_qpe.py:145: UserWarning: New multiplier is between 1 and 2, this may be inefficient.\n",
      "  warnings.warn('New multiplier is between 1 and 2, this '\n",
      "/home/teobrien/packages/openfermion/src/openfermion/measurements/sparse_qpe.py:145: UserWarning: New multiplier is between 1 and 2, this may be inefficient.\n",
      "  warnings.warn('New multiplier is between 1 and 2, this '\n",
      "/home/teobrien/packages/openfermion/src/openfermion/measurements/sparse_qpe.py:145: UserWarning: New multiplier is between 1 and 2, this may be inefficient.\n",
      "  warnings.warn('New multiplier is between 1 and 2, this '\n",
      "/home/teobrien/packages/openfermion/src/openfermion/measurements/sparse_qpe.py:145: UserWarning: New multiplier is between 1 and 2, this may be inefficient.\n",
      "  warnings.warn('New multiplier is between 1 and 2, this '\n",
      "/home/teobrien/packages/openfermion/src/openfermion/measurements/sparse_qpe.py:145: UserWarning: New multiplier is between 1 and 2, this may be inefficient.\n",
      "  warnings.warn('New multiplier is between 1 and 2, this '\n",
      "/home/teobrien/packages/openfermion/src/openfermion/measurements/sparse_qpe.py:145: UserWarning: New multiplier is between 1 and 2, this may be inefficient.\n",
      "  warnings.warn('New multiplier is between 1 and 2, this '\n"
     ]
    },
    {
     "name": "stdout",
     "output_type": "stream",
     "text": [
      "Executed in: 0:01:40.339730\n",
      "22 Started at: 2020-11-10 08:12:43.040817\n",
      "[1.92594665 2.56519192 3.48657927 1.67946806 3.86423449]\n",
      "Executed in: 0:01:31.472071\n",
      "23 Started at: 2020-11-10 08:14:14.512970\n",
      "[6.26172576 1.92991129 1.23209926 0.79571834 5.73951667]\n"
     ]
    },
    {
     "name": "stderr",
     "output_type": "stream",
     "text": [
      "/home/teobrien/packages/openfermion/src/openfermion/measurements/sparse_qpe.py:46: UserWarning: No matched phase found, could be spurious detection at this order.\n",
      "  warnings.warn('No matched phase found, could be spurious'\n",
      "/home/teobrien/packages/openfermion/src/openfermion/measurements/sparse_qpe.py:46: UserWarning: No matched phase found, could be spurious detection at this order.\n",
      "  warnings.warn('No matched phase found, could be spurious'\n",
      "/home/teobrien/packages/openfermion/src/openfermion/measurements/sparse_qpe.py:46: UserWarning: No matched phase found, could be spurious detection at this order.\n",
      "  warnings.warn('No matched phase found, could be spurious'\n"
     ]
    },
    {
     "name": "stdout",
     "output_type": "stream",
     "text": [
      "Executed in: 0:02:57.411035\n",
      "24 Started at: 2020-11-10 08:17:11.924082\n",
      "[1.42766285 2.70381166 2.26177038 3.90462108 5.95111125]\n",
      "Executed in: 0:01:31.136385\n",
      "25 Started at: 2020-11-10 08:18:43.060549\n",
      "[4.53783424 3.09260006 5.57025351 0.38113164 4.13527324]\n"
     ]
    },
    {
     "name": "stderr",
     "output_type": "stream",
     "text": [
      "/home/teobrien/packages/openfermion/src/openfermion/measurements/sparse_qpe.py:145: UserWarning: New multiplier is between 1 and 2, this may be inefficient.\n",
      "  warnings.warn('New multiplier is between 1 and 2, this '\n",
      "/home/teobrien/packages/openfermion/src/openfermion/measurements/sparse_qpe.py:145: UserWarning: New multiplier is between 1 and 2, this may be inefficient.\n",
      "  warnings.warn('New multiplier is between 1 and 2, this '\n"
     ]
    },
    {
     "name": "stdout",
     "output_type": "stream",
     "text": [
      "Executed in: 0:02:00.457215\n",
      "26 Started at: 2020-11-10 08:20:43.517843\n",
      "[2.99532608 6.11045579 0.37826102 4.23313759 2.02650844]\n"
     ]
    },
    {
     "name": "stderr",
     "output_type": "stream",
     "text": [
      "/home/teobrien/packages/openfermion/src/openfermion/measurements/sparse_qpe.py:145: UserWarning: New multiplier is between 1 and 2, this may be inefficient.\n",
      "  warnings.warn('New multiplier is between 1 and 2, this '\n"
     ]
    },
    {
     "name": "stdout",
     "output_type": "stream",
     "text": [
      "Executed in: 0:01:38.622680\n",
      "27 Started at: 2020-11-10 08:22:22.140609\n",
      "[1.35939684 4.88668773 4.59079427 3.21478023 0.3900269 ]\n",
      "Executed in: 0:02:41.218304\n",
      "28 Started at: 2020-11-10 08:25:03.358994\n",
      "[0.6060037  4.62646743 2.93501647 1.48085896 2.11814927]\n",
      "Executed in: 0:01:21.067730\n",
      "29 Started at: 2020-11-10 08:26:24.426804\n",
      "[5.46708372 4.23048093 0.06595871 5.73682889 1.83477751]\n"
     ]
    },
    {
     "name": "stderr",
     "output_type": "stream",
     "text": [
      "/home/teobrien/packages/openfermion/src/openfermion/measurements/sparse_qpe.py:145: UserWarning: New multiplier is between 1 and 2, this may be inefficient.\n",
      "  warnings.warn('New multiplier is between 1 and 2, this '\n",
      "/home/teobrien/packages/openfermion/src/openfermion/measurements/sparse_qpe.py:145: UserWarning: New multiplier is between 1 and 2, this may be inefficient.\n",
      "  warnings.warn('New multiplier is between 1 and 2, this '\n",
      "/home/teobrien/packages/openfermion/src/openfermion/measurements/sparse_qpe.py:145: UserWarning: New multiplier is between 1 and 2, this may be inefficient.\n",
      "  warnings.warn('New multiplier is between 1 and 2, this '\n",
      "/home/teobrien/packages/openfermion/src/openfermion/measurements/sparse_qpe.py:145: UserWarning: New multiplier is between 1 and 2, this may be inefficient.\n",
      "  warnings.warn('New multiplier is between 1 and 2, this '\n",
      "/home/teobrien/packages/openfermion/src/openfermion/measurements/sparse_qpe.py:145: UserWarning: New multiplier is between 1 and 2, this may be inefficient.\n",
      "  warnings.warn('New multiplier is between 1 and 2, this '\n",
      "/home/teobrien/packages/openfermion/src/openfermion/measurements/sparse_qpe.py:145: UserWarning: New multiplier is between 1 and 2, this may be inefficient.\n",
      "  warnings.warn('New multiplier is between 1 and 2, this '\n",
      "/home/teobrien/packages/openfermion/src/openfermion/measurements/sparse_qpe.py:145: UserWarning: New multiplier is between 1 and 2, this may be inefficient.\n",
      "  warnings.warn('New multiplier is between 1 and 2, this '\n",
      "/home/teobrien/packages/openfermion/src/openfermion/measurements/sparse_qpe.py:145: UserWarning: New multiplier is between 1 and 2, this may be inefficient.\n",
      "  warnings.warn('New multiplier is between 1 and 2, this '\n",
      "/home/teobrien/packages/openfermion/src/openfermion/measurements/sparse_qpe.py:145: UserWarning: New multiplier is between 1 and 2, this may be inefficient.\n",
      "  warnings.warn('New multiplier is between 1 and 2, this '\n",
      "/home/teobrien/packages/openfermion/src/openfermion/measurements/sparse_qpe.py:145: UserWarning: New multiplier is between 1 and 2, this may be inefficient.\n",
      "  warnings.warn('New multiplier is between 1 and 2, this '\n",
      "/home/teobrien/packages/openfermion/src/openfermion/measurements/sparse_qpe.py:145: UserWarning: New multiplier is between 1 and 2, this may be inefficient.\n",
      "  warnings.warn('New multiplier is between 1 and 2, this '\n",
      "/home/teobrien/packages/openfermion/src/openfermion/measurements/sparse_qpe.py:145: UserWarning: New multiplier is between 1 and 2, this may be inefficient.\n",
      "  warnings.warn('New multiplier is between 1 and 2, this '\n",
      "/home/teobrien/packages/openfermion/src/openfermion/measurements/sparse_qpe.py:145: UserWarning: New multiplier is between 1 and 2, this may be inefficient.\n",
      "  warnings.warn('New multiplier is between 1 and 2, this '\n",
      "/home/teobrien/packages/openfermion/src/openfermion/measurements/sparse_qpe.py:145: UserWarning: New multiplier is between 1 and 2, this may be inefficient.\n",
      "  warnings.warn('New multiplier is between 1 and 2, this '\n",
      "/home/teobrien/packages/openfermion/src/openfermion/measurements/sparse_qpe.py:145: UserWarning: New multiplier is between 1 and 2, this may be inefficient.\n",
      "  warnings.warn('New multiplier is between 1 and 2, this '\n",
      "/home/teobrien/packages/openfermion/src/openfermion/measurements/sparse_qpe.py:145: UserWarning: New multiplier is between 1 and 2, this may be inefficient.\n",
      "  warnings.warn('New multiplier is between 1 and 2, this '\n",
      "/home/teobrien/packages/openfermion/src/openfermion/measurements/sparse_qpe.py:145: UserWarning: New multiplier is between 1 and 2, this may be inefficient.\n",
      "  warnings.warn('New multiplier is between 1 and 2, this '\n",
      "/home/teobrien/packages/openfermion/src/openfermion/measurements/sparse_qpe.py:145: UserWarning: New multiplier is between 1 and 2, this may be inefficient.\n",
      "  warnings.warn('New multiplier is between 1 and 2, this '\n",
      "/home/teobrien/packages/openfermion/src/openfermion/measurements/sparse_qpe.py:145: UserWarning: New multiplier is between 1 and 2, this may be inefficient.\n",
      "  warnings.warn('New multiplier is between 1 and 2, this '\n",
      "/home/teobrien/packages/openfermion/src/openfermion/measurements/sparse_qpe.py:145: UserWarning: New multiplier is between 1 and 2, this may be inefficient.\n",
      "  warnings.warn('New multiplier is between 1 and 2, this '\n",
      "/home/teobrien/packages/openfermion/src/openfermion/measurements/sparse_qpe.py:145: UserWarning: New multiplier is between 1 and 2, this may be inefficient.\n",
      "  warnings.warn('New multiplier is between 1 and 2, this '\n",
      "/home/teobrien/packages/openfermion/src/openfermion/measurements/sparse_qpe.py:145: UserWarning: New multiplier is between 1 and 2, this may be inefficient.\n",
      "  warnings.warn('New multiplier is between 1 and 2, this '\n",
      "/home/teobrien/packages/openfermion/src/openfermion/measurements/sparse_qpe.py:145: UserWarning: New multiplier is between 1 and 2, this may be inefficient.\n",
      "  warnings.warn('New multiplier is between 1 and 2, this '\n",
      "/home/teobrien/packages/openfermion/src/openfermion/measurements/sparse_qpe.py:145: UserWarning: New multiplier is between 1 and 2, this may be inefficient.\n",
      "  warnings.warn('New multiplier is between 1 and 2, this '\n",
      "/home/teobrien/packages/openfermion/src/openfermion/measurements/sparse_qpe.py:145: UserWarning: New multiplier is between 1 and 2, this may be inefficient.\n",
      "  warnings.warn('New multiplier is between 1 and 2, this '\n"
     ]
    },
    {
     "name": "stdout",
     "output_type": "stream",
     "text": [
      "Executed in: 0:01:21.937385\n",
      "30 Started at: 2020-11-10 08:27:46.364290\n",
      "[1.65272723 2.52593327 2.74230713 1.89531066 1.30779713]\n",
      "Executed in: 0:01:34.437322\n",
      "31 Started at: 2020-11-10 08:29:20.801691\n",
      "[2.71694841 0.34987938 0.53669381 5.32325415 0.53233559]\n",
      "Executed in: 0:04:13.191633\n",
      "32 Started at: 2020-11-10 08:33:33.993402\n",
      "[0.37711338 5.65416611 6.10911477 2.50634824 5.8939297 ]\n",
      "Executed in: 0:02:19.295285\n",
      "33 Started at: 2020-11-10 08:35:53.288774\n",
      "[6.23697891 0.14493834 4.23520751 5.26626776 6.08059448]\n",
      "Executed in: 0:02:13.005352\n",
      "34 Started at: 2020-11-10 08:38:06.294214\n",
      "[0.19850425 2.59974551 3.63517225 1.31729965 5.72958128]\n"
     ]
    },
    {
     "name": "stderr",
     "output_type": "stream",
     "text": [
      "/home/teobrien/packages/openfermion/src/openfermion/measurements/sparse_qpe.py:145: UserWarning: New multiplier is between 1 and 2, this may be inefficient.\n",
      "  warnings.warn('New multiplier is between 1 and 2, this '\n",
      "/home/teobrien/packages/openfermion/src/openfermion/measurements/sparse_qpe.py:145: UserWarning: New multiplier is between 1 and 2, this may be inefficient.\n",
      "  warnings.warn('New multiplier is between 1 and 2, this '\n",
      "/home/teobrien/packages/openfermion/src/openfermion/measurements/sparse_qpe.py:145: UserWarning: New multiplier is between 1 and 2, this may be inefficient.\n",
      "  warnings.warn('New multiplier is between 1 and 2, this '\n",
      "/home/teobrien/packages/openfermion/src/openfermion/measurements/sparse_qpe.py:145: UserWarning: New multiplier is between 1 and 2, this may be inefficient.\n",
      "  warnings.warn('New multiplier is between 1 and 2, this '\n",
      "/home/teobrien/packages/openfermion/src/openfermion/measurements/sparse_qpe.py:145: UserWarning: New multiplier is between 1 and 2, this may be inefficient.\n",
      "  warnings.warn('New multiplier is between 1 and 2, this '\n",
      "/home/teobrien/packages/openfermion/src/openfermion/measurements/sparse_qpe.py:145: UserWarning: New multiplier is between 1 and 2, this may be inefficient.\n",
      "  warnings.warn('New multiplier is between 1 and 2, this '\n",
      "/home/teobrien/packages/openfermion/src/openfermion/measurements/sparse_qpe.py:145: UserWarning: New multiplier is between 1 and 2, this may be inefficient.\n",
      "  warnings.warn('New multiplier is between 1 and 2, this '\n",
      "/home/teobrien/packages/openfermion/src/openfermion/measurements/sparse_qpe.py:145: UserWarning: New multiplier is between 1 and 2, this may be inefficient.\n",
      "  warnings.warn('New multiplier is between 1 and 2, this '\n",
      "/home/teobrien/packages/openfermion/src/openfermion/measurements/sparse_qpe.py:145: UserWarning: New multiplier is between 1 and 2, this may be inefficient.\n",
      "  warnings.warn('New multiplier is between 1 and 2, this '\n",
      "/home/teobrien/packages/openfermion/src/openfermion/measurements/sparse_qpe.py:145: UserWarning: New multiplier is between 1 and 2, this may be inefficient.\n",
      "  warnings.warn('New multiplier is between 1 and 2, this '\n",
      "/home/teobrien/packages/openfermion/src/openfermion/measurements/sparse_qpe.py:145: UserWarning: New multiplier is between 1 and 2, this may be inefficient.\n",
      "  warnings.warn('New multiplier is between 1 and 2, this '\n",
      "/home/teobrien/packages/openfermion/src/openfermion/measurements/sparse_qpe.py:145: UserWarning: New multiplier is between 1 and 2, this may be inefficient.\n",
      "  warnings.warn('New multiplier is between 1 and 2, this '\n",
      "/home/teobrien/packages/openfermion/src/openfermion/measurements/sparse_qpe.py:145: UserWarning: New multiplier is between 1 and 2, this may be inefficient.\n",
      "  warnings.warn('New multiplier is between 1 and 2, this '\n",
      "/home/teobrien/packages/openfermion/src/openfermion/measurements/sparse_qpe.py:145: UserWarning: New multiplier is between 1 and 2, this may be inefficient.\n",
      "  warnings.warn('New multiplier is between 1 and 2, this '\n",
      "/home/teobrien/packages/openfermion/src/openfermion/measurements/sparse_qpe.py:145: UserWarning: New multiplier is between 1 and 2, this may be inefficient.\n",
      "  warnings.warn('New multiplier is between 1 and 2, this '\n",
      "/home/teobrien/packages/openfermion/src/openfermion/measurements/sparse_qpe.py:145: UserWarning: New multiplier is between 1 and 2, this may be inefficient.\n",
      "  warnings.warn('New multiplier is between 1 and 2, this '\n",
      "/home/teobrien/packages/openfermion/src/openfermion/measurements/sparse_qpe.py:145: UserWarning: New multiplier is between 1 and 2, this may be inefficient.\n",
      "  warnings.warn('New multiplier is between 1 and 2, this '\n",
      "/home/teobrien/packages/openfermion/src/openfermion/measurements/sparse_qpe.py:145: UserWarning: New multiplier is between 1 and 2, this may be inefficient.\n",
      "  warnings.warn('New multiplier is between 1 and 2, this '\n",
      "/home/teobrien/packages/openfermion/src/openfermion/measurements/sparse_qpe.py:145: UserWarning: New multiplier is between 1 and 2, this may be inefficient.\n",
      "  warnings.warn('New multiplier is between 1 and 2, this '\n",
      "/home/teobrien/packages/openfermion/src/openfermion/measurements/sparse_qpe.py:145: UserWarning: New multiplier is between 1 and 2, this may be inefficient.\n",
      "  warnings.warn('New multiplier is between 1 and 2, this '\n",
      "/home/teobrien/packages/openfermion/src/openfermion/measurements/sparse_qpe.py:145: UserWarning: New multiplier is between 1 and 2, this may be inefficient.\n",
      "  warnings.warn('New multiplier is between 1 and 2, this '\n",
      "/home/teobrien/packages/openfermion/src/openfermion/measurements/sparse_qpe.py:145: UserWarning: New multiplier is between 1 and 2, this may be inefficient.\n",
      "  warnings.warn('New multiplier is between 1 and 2, this '\n",
      "/home/teobrien/packages/openfermion/src/openfermion/measurements/sparse_qpe.py:145: UserWarning: New multiplier is between 1 and 2, this may be inefficient.\n",
      "  warnings.warn('New multiplier is between 1 and 2, this '\n",
      "/home/teobrien/packages/openfermion/src/openfermion/measurements/sparse_qpe.py:145: UserWarning: New multiplier is between 1 and 2, this may be inefficient.\n",
      "  warnings.warn('New multiplier is between 1 and 2, this '\n",
      "/home/teobrien/packages/openfermion/src/openfermion/measurements/sparse_qpe.py:145: UserWarning: New multiplier is between 1 and 2, this may be inefficient.\n",
      "  warnings.warn('New multiplier is between 1 and 2, this '\n",
      "/home/teobrien/packages/openfermion/src/openfermion/measurements/sparse_qpe.py:145: UserWarning: New multiplier is between 1 and 2, this may be inefficient.\n",
      "  warnings.warn('New multiplier is between 1 and 2, this '\n",
      "/home/teobrien/packages/openfermion/src/openfermion/measurements/sparse_qpe.py:145: UserWarning: New multiplier is between 1 and 2, this may be inefficient.\n",
      "  warnings.warn('New multiplier is between 1 and 2, this '\n",
      "/home/teobrien/packages/openfermion/src/openfermion/measurements/sparse_qpe.py:145: UserWarning: New multiplier is between 1 and 2, this may be inefficient.\n",
      "  warnings.warn('New multiplier is between 1 and 2, this '\n",
      "/home/teobrien/packages/openfermion/src/openfermion/measurements/sparse_qpe.py:145: UserWarning: New multiplier is between 1 and 2, this may be inefficient.\n",
      "  warnings.warn('New multiplier is between 1 and 2, this '\n",
      "/home/teobrien/packages/openfermion/src/openfermion/measurements/sparse_qpe.py:145: UserWarning: New multiplier is between 1 and 2, this may be inefficient.\n",
      "  warnings.warn('New multiplier is between 1 and 2, this '\n",
      "/home/teobrien/packages/openfermion/src/openfermion/measurements/sparse_qpe.py:145: UserWarning: New multiplier is between 1 and 2, this may be inefficient.\n",
      "  warnings.warn('New multiplier is between 1 and 2, this '\n",
      "/home/teobrien/packages/openfermion/src/openfermion/measurements/sparse_qpe.py:145: UserWarning: New multiplier is between 1 and 2, this may be inefficient.\n",
      "  warnings.warn('New multiplier is between 1 and 2, this '\n",
      "/home/teobrien/packages/openfermion/src/openfermion/measurements/sparse_qpe.py:145: UserWarning: New multiplier is between 1 and 2, this may be inefficient.\n",
      "  warnings.warn('New multiplier is between 1 and 2, this '\n",
      "/home/teobrien/packages/openfermion/src/openfermion/measurements/sparse_qpe.py:145: UserWarning: New multiplier is between 1 and 2, this may be inefficient.\n",
      "  warnings.warn('New multiplier is between 1 and 2, this '\n",
      "/home/teobrien/packages/openfermion/src/openfermion/measurements/sparse_qpe.py:145: UserWarning: New multiplier is between 1 and 2, this may be inefficient.\n",
      "  warnings.warn('New multiplier is between 1 and 2, this '\n",
      "/home/teobrien/packages/openfermion/src/openfermion/measurements/sparse_qpe.py:145: UserWarning: New multiplier is between 1 and 2, this may be inefficient.\n",
      "  warnings.warn('New multiplier is between 1 and 2, this '\n",
      "/home/teobrien/packages/openfermion/src/openfermion/measurements/sparse_qpe.py:145: UserWarning: New multiplier is between 1 and 2, this may be inefficient.\n",
      "  warnings.warn('New multiplier is between 1 and 2, this '\n",
      "/home/teobrien/packages/openfermion/src/openfermion/measurements/sparse_qpe.py:145: UserWarning: New multiplier is between 1 and 2, this may be inefficient.\n",
      "  warnings.warn('New multiplier is between 1 and 2, this '\n",
      "/home/teobrien/packages/openfermion/src/openfermion/measurements/sparse_qpe.py:145: UserWarning: New multiplier is between 1 and 2, this may be inefficient.\n",
      "  warnings.warn('New multiplier is between 1 and 2, this '\n",
      "/home/teobrien/packages/openfermion/src/openfermion/measurements/sparse_qpe.py:145: UserWarning: New multiplier is between 1 and 2, this may be inefficient.\n",
      "  warnings.warn('New multiplier is between 1 and 2, this '\n",
      "/home/teobrien/packages/openfermion/src/openfermion/measurements/sparse_qpe.py:145: UserWarning: New multiplier is between 1 and 2, this may be inefficient.\n",
      "  warnings.warn('New multiplier is between 1 and 2, this '\n",
      "/home/teobrien/packages/openfermion/src/openfermion/measurements/sparse_qpe.py:145: UserWarning: New multiplier is between 1 and 2, this may be inefficient.\n",
      "  warnings.warn('New multiplier is between 1 and 2, this '\n",
      "/home/teobrien/packages/openfermion/src/openfermion/measurements/sparse_qpe.py:145: UserWarning: New multiplier is between 1 and 2, this may be inefficient.\n",
      "  warnings.warn('New multiplier is between 1 and 2, this '\n",
      "/home/teobrien/packages/openfermion/src/openfermion/measurements/sparse_qpe.py:145: UserWarning: New multiplier is between 1 and 2, this may be inefficient.\n",
      "  warnings.warn('New multiplier is between 1 and 2, this '\n",
      "/home/teobrien/packages/openfermion/src/openfermion/measurements/sparse_qpe.py:145: UserWarning: New multiplier is between 1 and 2, this may be inefficient.\n",
      "  warnings.warn('New multiplier is between 1 and 2, this '\n",
      "/home/teobrien/packages/openfermion/src/openfermion/measurements/sparse_qpe.py:145: UserWarning: New multiplier is between 1 and 2, this may be inefficient.\n",
      "  warnings.warn('New multiplier is between 1 and 2, this '\n",
      "/home/teobrien/packages/openfermion/src/openfermion/measurements/sparse_qpe.py:145: UserWarning: New multiplier is between 1 and 2, this may be inefficient.\n",
      "  warnings.warn('New multiplier is between 1 and 2, this '\n",
      "/home/teobrien/packages/openfermion/src/openfermion/measurements/sparse_qpe.py:145: UserWarning: New multiplier is between 1 and 2, this may be inefficient.\n",
      "  warnings.warn('New multiplier is between 1 and 2, this '\n",
      "/home/teobrien/packages/openfermion/src/openfermion/measurements/sparse_qpe.py:145: UserWarning: New multiplier is between 1 and 2, this may be inefficient.\n",
      "  warnings.warn('New multiplier is between 1 and 2, this '\n",
      "/home/teobrien/packages/openfermion/src/openfermion/measurements/sparse_qpe.py:145: UserWarning: New multiplier is between 1 and 2, this may be inefficient.\n",
      "  warnings.warn('New multiplier is between 1 and 2, this '\n",
      "/home/teobrien/packages/openfermion/src/openfermion/measurements/sparse_qpe.py:145: UserWarning: New multiplier is between 1 and 2, this may be inefficient.\n",
      "  warnings.warn('New multiplier is between 1 and 2, this '\n",
      "/home/teobrien/packages/openfermion/src/openfermion/measurements/sparse_qpe.py:145: UserWarning: New multiplier is between 1 and 2, this may be inefficient.\n",
      "  warnings.warn('New multiplier is between 1 and 2, this '\n",
      "/home/teobrien/packages/openfermion/src/openfermion/measurements/sparse_qpe.py:145: UserWarning: New multiplier is between 1 and 2, this may be inefficient.\n",
      "  warnings.warn('New multiplier is between 1 and 2, this '\n",
      "/home/teobrien/packages/openfermion/src/openfermion/measurements/sparse_qpe.py:145: UserWarning: New multiplier is between 1 and 2, this may be inefficient.\n",
      "  warnings.warn('New multiplier is between 1 and 2, this '\n",
      "/home/teobrien/packages/openfermion/src/openfermion/measurements/sparse_qpe.py:145: UserWarning: New multiplier is between 1 and 2, this may be inefficient.\n",
      "  warnings.warn('New multiplier is between 1 and 2, this '\n",
      "/home/teobrien/packages/openfermion/src/openfermion/measurements/sparse_qpe.py:145: UserWarning: New multiplier is between 1 and 2, this may be inefficient.\n",
      "  warnings.warn('New multiplier is between 1 and 2, this '\n",
      "/home/teobrien/packages/openfermion/src/openfermion/measurements/sparse_qpe.py:145: UserWarning: New multiplier is between 1 and 2, this may be inefficient.\n",
      "  warnings.warn('New multiplier is between 1 and 2, this '\n",
      "/home/teobrien/packages/openfermion/src/openfermion/measurements/sparse_qpe.py:145: UserWarning: New multiplier is between 1 and 2, this may be inefficient.\n",
      "  warnings.warn('New multiplier is between 1 and 2, this '\n",
      "/home/teobrien/packages/openfermion/src/openfermion/measurements/sparse_qpe.py:145: UserWarning: New multiplier is between 1 and 2, this may be inefficient.\n",
      "  warnings.warn('New multiplier is between 1 and 2, this '\n",
      "/home/teobrien/packages/openfermion/src/openfermion/measurements/sparse_qpe.py:145: UserWarning: New multiplier is between 1 and 2, this may be inefficient.\n",
      "  warnings.warn('New multiplier is between 1 and 2, this '\n",
      "/home/teobrien/packages/openfermion/src/openfermion/measurements/sparse_qpe.py:145: UserWarning: New multiplier is between 1 and 2, this may be inefficient.\n",
      "  warnings.warn('New multiplier is between 1 and 2, this '\n",
      "/home/teobrien/packages/openfermion/src/openfermion/measurements/sparse_qpe.py:145: UserWarning: New multiplier is between 1 and 2, this may be inefficient.\n",
      "  warnings.warn('New multiplier is between 1 and 2, this '\n",
      "/home/teobrien/packages/openfermion/src/openfermion/measurements/sparse_qpe.py:145: UserWarning: New multiplier is between 1 and 2, this may be inefficient.\n",
      "  warnings.warn('New multiplier is between 1 and 2, this '\n",
      "/home/teobrien/packages/openfermion/src/openfermion/measurements/sparse_qpe.py:145: UserWarning: New multiplier is between 1 and 2, this may be inefficient.\n",
      "  warnings.warn('New multiplier is between 1 and 2, this '\n"
     ]
    },
    {
     "name": "stdout",
     "output_type": "stream",
     "text": [
      "Executed in: 0:01:20.295064\n",
      "35 Started at: 2020-11-10 08:39:26.589363\n",
      "[4.33291785 5.95894801 5.58851526 0.64513274 2.12142874]\n",
      "Executed in: 0:01:57.774043\n",
      "36 Started at: 2020-11-10 08:41:24.363486\n",
      "[1.82358454 3.35067    1.80757722 1.65497704 0.65536474]\n",
      "Executed in: 0:01:32.370992\n",
      "37 Started at: 2020-11-10 08:42:56.734559\n",
      "[2.00141354 5.37174812 3.18956298 3.34283591 2.5181336 ]\n"
     ]
    },
    {
     "name": "stderr",
     "output_type": "stream",
     "text": [
      "/home/teobrien/packages/openfermion/src/openfermion/measurements/sparse_qpe.py:145: UserWarning: New multiplier is between 1 and 2, this may be inefficient.\n",
      "  warnings.warn('New multiplier is between 1 and 2, this '\n",
      "/home/teobrien/packages/openfermion/src/openfermion/measurements/sparse_qpe.py:145: UserWarning: New multiplier is between 1 and 2, this may be inefficient.\n",
      "  warnings.warn('New multiplier is between 1 and 2, this '\n",
      "/home/teobrien/packages/openfermion/src/openfermion/measurements/sparse_qpe.py:145: UserWarning: New multiplier is between 1 and 2, this may be inefficient.\n",
      "  warnings.warn('New multiplier is between 1 and 2, this '\n",
      "/home/teobrien/packages/openfermion/src/openfermion/measurements/sparse_qpe.py:145: UserWarning: New multiplier is between 1 and 2, this may be inefficient.\n",
      "  warnings.warn('New multiplier is between 1 and 2, this '\n",
      "/home/teobrien/packages/openfermion/src/openfermion/measurements/sparse_qpe.py:145: UserWarning: New multiplier is between 1 and 2, this may be inefficient.\n",
      "  warnings.warn('New multiplier is between 1 and 2, this '\n",
      "/home/teobrien/packages/openfermion/src/openfermion/measurements/sparse_qpe.py:145: UserWarning: New multiplier is between 1 and 2, this may be inefficient.\n",
      "  warnings.warn('New multiplier is between 1 and 2, this '\n",
      "/home/teobrien/packages/openfermion/src/openfermion/measurements/sparse_qpe.py:145: UserWarning: New multiplier is between 1 and 2, this may be inefficient.\n",
      "  warnings.warn('New multiplier is between 1 and 2, this '\n",
      "/home/teobrien/packages/openfermion/src/openfermion/measurements/sparse_qpe.py:145: UserWarning: New multiplier is between 1 and 2, this may be inefficient.\n",
      "  warnings.warn('New multiplier is between 1 and 2, this '\n",
      "/home/teobrien/packages/openfermion/src/openfermion/measurements/sparse_qpe.py:145: UserWarning: New multiplier is between 1 and 2, this may be inefficient.\n",
      "  warnings.warn('New multiplier is between 1 and 2, this '\n",
      "/home/teobrien/packages/openfermion/src/openfermion/measurements/sparse_qpe.py:145: UserWarning: New multiplier is between 1 and 2, this may be inefficient.\n",
      "  warnings.warn('New multiplier is between 1 and 2, this '\n",
      "/home/teobrien/packages/openfermion/src/openfermion/measurements/sparse_qpe.py:145: UserWarning: New multiplier is between 1 and 2, this may be inefficient.\n",
      "  warnings.warn('New multiplier is between 1 and 2, this '\n",
      "/home/teobrien/packages/openfermion/src/openfermion/measurements/sparse_qpe.py:145: UserWarning: New multiplier is between 1 and 2, this may be inefficient.\n",
      "  warnings.warn('New multiplier is between 1 and 2, this '\n",
      "/home/teobrien/packages/openfermion/src/openfermion/measurements/sparse_qpe.py:145: UserWarning: New multiplier is between 1 and 2, this may be inefficient.\n",
      "  warnings.warn('New multiplier is between 1 and 2, this '\n",
      "/home/teobrien/packages/openfermion/src/openfermion/measurements/sparse_qpe.py:145: UserWarning: New multiplier is between 1 and 2, this may be inefficient.\n",
      "  warnings.warn('New multiplier is between 1 and 2, this '\n",
      "/home/teobrien/packages/openfermion/src/openfermion/measurements/sparse_qpe.py:145: UserWarning: New multiplier is between 1 and 2, this may be inefficient.\n",
      "  warnings.warn('New multiplier is between 1 and 2, this '\n",
      "/home/teobrien/packages/openfermion/src/openfermion/measurements/sparse_qpe.py:145: UserWarning: New multiplier is between 1 and 2, this may be inefficient.\n",
      "  warnings.warn('New multiplier is between 1 and 2, this '\n",
      "/home/teobrien/packages/openfermion/src/openfermion/measurements/sparse_qpe.py:145: UserWarning: New multiplier is between 1 and 2, this may be inefficient.\n",
      "  warnings.warn('New multiplier is between 1 and 2, this '\n",
      "/home/teobrien/packages/openfermion/src/openfermion/measurements/sparse_qpe.py:145: UserWarning: New multiplier is between 1 and 2, this may be inefficient.\n",
      "  warnings.warn('New multiplier is between 1 and 2, this '\n",
      "/home/teobrien/packages/openfermion/src/openfermion/measurements/sparse_qpe.py:145: UserWarning: New multiplier is between 1 and 2, this may be inefficient.\n",
      "  warnings.warn('New multiplier is between 1 and 2, this '\n"
     ]
    },
    {
     "name": "stdout",
     "output_type": "stream",
     "text": [
      "Executed in: 0:01:23.877830\n",
      "38 Started at: 2020-11-10 08:44:20.612474\n",
      "[1.34578837 4.86012134 6.01891236 1.16422885 5.47162387]\n",
      "Executed in: 0:02:32.891181\n",
      "39 Started at: 2020-11-10 08:46:53.503738\n",
      "[0.80769919 1.62665069 0.33986957 2.96904734 4.57425283]\n"
     ]
    },
    {
     "name": "stderr",
     "output_type": "stream",
     "text": [
      "/home/teobrien/packages/openfermion/src/openfermion/measurements/sparse_qpe.py:145: UserWarning: New multiplier is between 1 and 2, this may be inefficient.\n",
      "  warnings.warn('New multiplier is between 1 and 2, this '\n",
      "/home/teobrien/packages/openfermion/src/openfermion/measurements/sparse_qpe.py:145: UserWarning: New multiplier is between 1 and 2, this may be inefficient.\n",
      "  warnings.warn('New multiplier is between 1 and 2, this '\n"
     ]
    },
    {
     "name": "stdout",
     "output_type": "stream",
     "text": [
      "Executed in: 0:01:28.121587\n",
      "40 Started at: 2020-11-10 08:48:21.625407\n",
      "[1.58546879 4.72711075 5.49796181 2.41985588 2.93772994]\n"
     ]
    },
    {
     "name": "stderr",
     "output_type": "stream",
     "text": [
      "/home/teobrien/packages/openfermion/src/openfermion/measurements/sparse_qpe.py:145: UserWarning: New multiplier is between 1 and 2, this may be inefficient.\n",
      "  warnings.warn('New multiplier is between 1 and 2, this '\n",
      "/home/teobrien/packages/openfermion/src/openfermion/measurements/sparse_qpe.py:145: UserWarning: New multiplier is between 1 and 2, this may be inefficient.\n",
      "  warnings.warn('New multiplier is between 1 and 2, this '\n",
      "/home/teobrien/packages/openfermion/src/openfermion/measurements/sparse_qpe.py:145: UserWarning: New multiplier is between 1 and 2, this may be inefficient.\n",
      "  warnings.warn('New multiplier is between 1 and 2, this '\n",
      "/home/teobrien/packages/openfermion/src/openfermion/measurements/sparse_qpe.py:145: UserWarning: New multiplier is between 1 and 2, this may be inefficient.\n",
      "  warnings.warn('New multiplier is between 1 and 2, this '\n",
      "/home/teobrien/packages/openfermion/src/openfermion/measurements/sparse_qpe.py:145: UserWarning: New multiplier is between 1 and 2, this may be inefficient.\n",
      "  warnings.warn('New multiplier is between 1 and 2, this '\n",
      "/home/teobrien/packages/openfermion/src/openfermion/measurements/sparse_qpe.py:145: UserWarning: New multiplier is between 1 and 2, this may be inefficient.\n",
      "  warnings.warn('New multiplier is between 1 and 2, this '\n",
      "/home/teobrien/packages/openfermion/src/openfermion/measurements/sparse_qpe.py:145: UserWarning: New multiplier is between 1 and 2, this may be inefficient.\n",
      "  warnings.warn('New multiplier is between 1 and 2, this '\n",
      "/home/teobrien/packages/openfermion/src/openfermion/measurements/sparse_qpe.py:145: UserWarning: New multiplier is between 1 and 2, this may be inefficient.\n",
      "  warnings.warn('New multiplier is between 1 and 2, this '\n",
      "/home/teobrien/packages/openfermion/src/openfermion/measurements/sparse_qpe.py:145: UserWarning: New multiplier is between 1 and 2, this may be inefficient.\n",
      "  warnings.warn('New multiplier is between 1 and 2, this '\n",
      "/home/teobrien/packages/openfermion/src/openfermion/measurements/sparse_qpe.py:145: UserWarning: New multiplier is between 1 and 2, this may be inefficient.\n",
      "  warnings.warn('New multiplier is between 1 and 2, this '\n",
      "/home/teobrien/packages/openfermion/src/openfermion/measurements/sparse_qpe.py:145: UserWarning: New multiplier is between 1 and 2, this may be inefficient.\n",
      "  warnings.warn('New multiplier is between 1 and 2, this '\n",
      "/home/teobrien/packages/openfermion/src/openfermion/measurements/sparse_qpe.py:145: UserWarning: New multiplier is between 1 and 2, this may be inefficient.\n",
      "  warnings.warn('New multiplier is between 1 and 2, this '\n",
      "/home/teobrien/packages/openfermion/src/openfermion/measurements/sparse_qpe.py:145: UserWarning: New multiplier is between 1 and 2, this may be inefficient.\n",
      "  warnings.warn('New multiplier is between 1 and 2, this '\n",
      "/home/teobrien/packages/openfermion/src/openfermion/measurements/sparse_qpe.py:145: UserWarning: New multiplier is between 1 and 2, this may be inefficient.\n",
      "  warnings.warn('New multiplier is between 1 and 2, this '\n",
      "/home/teobrien/packages/openfermion/src/openfermion/measurements/sparse_qpe.py:145: UserWarning: New multiplier is between 1 and 2, this may be inefficient.\n",
      "  warnings.warn('New multiplier is between 1 and 2, this '\n",
      "/home/teobrien/packages/openfermion/src/openfermion/measurements/sparse_qpe.py:145: UserWarning: New multiplier is between 1 and 2, this may be inefficient.\n",
      "  warnings.warn('New multiplier is between 1 and 2, this '\n",
      "/home/teobrien/packages/openfermion/src/openfermion/measurements/sparse_qpe.py:145: UserWarning: New multiplier is between 1 and 2, this may be inefficient.\n",
      "  warnings.warn('New multiplier is between 1 and 2, this '\n",
      "/home/teobrien/packages/openfermion/src/openfermion/measurements/sparse_qpe.py:145: UserWarning: New multiplier is between 1 and 2, this may be inefficient.\n",
      "  warnings.warn('New multiplier is between 1 and 2, this '\n",
      "/home/teobrien/packages/openfermion/src/openfermion/measurements/sparse_qpe.py:145: UserWarning: New multiplier is between 1 and 2, this may be inefficient.\n",
      "  warnings.warn('New multiplier is between 1 and 2, this '\n",
      "/home/teobrien/packages/openfermion/src/openfermion/measurements/sparse_qpe.py:145: UserWarning: New multiplier is between 1 and 2, this may be inefficient.\n",
      "  warnings.warn('New multiplier is between 1 and 2, this '\n",
      "/home/teobrien/packages/openfermion/src/openfermion/measurements/sparse_qpe.py:145: UserWarning: New multiplier is between 1 and 2, this may be inefficient.\n",
      "  warnings.warn('New multiplier is between 1 and 2, this '\n",
      "/home/teobrien/packages/openfermion/src/openfermion/measurements/sparse_qpe.py:145: UserWarning: New multiplier is between 1 and 2, this may be inefficient.\n",
      "  warnings.warn('New multiplier is between 1 and 2, this '\n",
      "/home/teobrien/packages/openfermion/src/openfermion/measurements/sparse_qpe.py:145: UserWarning: New multiplier is between 1 and 2, this may be inefficient.\n",
      "  warnings.warn('New multiplier is between 1 and 2, this '\n",
      "/home/teobrien/packages/openfermion/src/openfermion/measurements/sparse_qpe.py:145: UserWarning: New multiplier is between 1 and 2, this may be inefficient.\n",
      "  warnings.warn('New multiplier is between 1 and 2, this '\n",
      "/home/teobrien/packages/openfermion/src/openfermion/measurements/sparse_qpe.py:145: UserWarning: New multiplier is between 1 and 2, this may be inefficient.\n",
      "  warnings.warn('New multiplier is between 1 and 2, this '\n",
      "/home/teobrien/packages/openfermion/src/openfermion/measurements/sparse_qpe.py:145: UserWarning: New multiplier is between 1 and 2, this may be inefficient.\n",
      "  warnings.warn('New multiplier is between 1 and 2, this '\n",
      "/home/teobrien/packages/openfermion/src/openfermion/measurements/sparse_qpe.py:145: UserWarning: New multiplier is between 1 and 2, this may be inefficient.\n",
      "  warnings.warn('New multiplier is between 1 and 2, this '\n",
      "/home/teobrien/packages/openfermion/src/openfermion/measurements/sparse_qpe.py:145: UserWarning: New multiplier is between 1 and 2, this may be inefficient.\n",
      "  warnings.warn('New multiplier is between 1 and 2, this '\n",
      "/home/teobrien/packages/openfermion/src/openfermion/measurements/sparse_qpe.py:145: UserWarning: New multiplier is between 1 and 2, this may be inefficient.\n",
      "  warnings.warn('New multiplier is between 1 and 2, this '\n",
      "/home/teobrien/packages/openfermion/src/openfermion/measurements/sparse_qpe.py:145: UserWarning: New multiplier is between 1 and 2, this may be inefficient.\n",
      "  warnings.warn('New multiplier is between 1 and 2, this '\n",
      "/home/teobrien/packages/openfermion/src/openfermion/measurements/sparse_qpe.py:145: UserWarning: New multiplier is between 1 and 2, this may be inefficient.\n",
      "  warnings.warn('New multiplier is between 1 and 2, this '\n",
      "/home/teobrien/packages/openfermion/src/openfermion/measurements/sparse_qpe.py:145: UserWarning: New multiplier is between 1 and 2, this may be inefficient.\n",
      "  warnings.warn('New multiplier is between 1 and 2, this '\n",
      "/home/teobrien/packages/openfermion/src/openfermion/measurements/sparse_qpe.py:145: UserWarning: New multiplier is between 1 and 2, this may be inefficient.\n",
      "  warnings.warn('New multiplier is between 1 and 2, this '\n",
      "/home/teobrien/packages/openfermion/src/openfermion/measurements/sparse_qpe.py:145: UserWarning: New multiplier is between 1 and 2, this may be inefficient.\n",
      "  warnings.warn('New multiplier is between 1 and 2, this '\n",
      "/home/teobrien/packages/openfermion/src/openfermion/measurements/sparse_qpe.py:145: UserWarning: New multiplier is between 1 and 2, this may be inefficient.\n",
      "  warnings.warn('New multiplier is between 1 and 2, this '\n",
      "/home/teobrien/packages/openfermion/src/openfermion/measurements/sparse_qpe.py:145: UserWarning: New multiplier is between 1 and 2, this may be inefficient.\n",
      "  warnings.warn('New multiplier is between 1 and 2, this '\n",
      "/home/teobrien/packages/openfermion/src/openfermion/measurements/sparse_qpe.py:145: UserWarning: New multiplier is between 1 and 2, this may be inefficient.\n",
      "  warnings.warn('New multiplier is between 1 and 2, this '\n",
      "/home/teobrien/packages/openfermion/src/openfermion/measurements/sparse_qpe.py:145: UserWarning: New multiplier is between 1 and 2, this may be inefficient.\n",
      "  warnings.warn('New multiplier is between 1 and 2, this '\n",
      "/home/teobrien/packages/openfermion/src/openfermion/measurements/sparse_qpe.py:145: UserWarning: New multiplier is between 1 and 2, this may be inefficient.\n",
      "  warnings.warn('New multiplier is between 1 and 2, this '\n",
      "/home/teobrien/packages/openfermion/src/openfermion/measurements/sparse_qpe.py:145: UserWarning: New multiplier is between 1 and 2, this may be inefficient.\n",
      "  warnings.warn('New multiplier is between 1 and 2, this '\n",
      "/home/teobrien/packages/openfermion/src/openfermion/measurements/sparse_qpe.py:145: UserWarning: New multiplier is between 1 and 2, this may be inefficient.\n",
      "  warnings.warn('New multiplier is between 1 and 2, this '\n",
      "/home/teobrien/packages/openfermion/src/openfermion/measurements/sparse_qpe.py:145: UserWarning: New multiplier is between 1 and 2, this may be inefficient.\n",
      "  warnings.warn('New multiplier is between 1 and 2, this '\n",
      "/home/teobrien/packages/openfermion/src/openfermion/measurements/sparse_qpe.py:145: UserWarning: New multiplier is between 1 and 2, this may be inefficient.\n",
      "  warnings.warn('New multiplier is between 1 and 2, this '\n",
      "/home/teobrien/packages/openfermion/src/openfermion/measurements/sparse_qpe.py:145: UserWarning: New multiplier is between 1 and 2, this may be inefficient.\n",
      "  warnings.warn('New multiplier is between 1 and 2, this '\n",
      "/home/teobrien/packages/openfermion/src/openfermion/measurements/sparse_qpe.py:145: UserWarning: New multiplier is between 1 and 2, this may be inefficient.\n",
      "  warnings.warn('New multiplier is between 1 and 2, this '\n",
      "/home/teobrien/packages/openfermion/src/openfermion/measurements/sparse_qpe.py:145: UserWarning: New multiplier is between 1 and 2, this may be inefficient.\n",
      "  warnings.warn('New multiplier is between 1 and 2, this '\n",
      "/home/teobrien/packages/openfermion/src/openfermion/measurements/sparse_qpe.py:145: UserWarning: New multiplier is between 1 and 2, this may be inefficient.\n",
      "  warnings.warn('New multiplier is between 1 and 2, this '\n",
      "/home/teobrien/packages/openfermion/src/openfermion/measurements/sparse_qpe.py:145: UserWarning: New multiplier is between 1 and 2, this may be inefficient.\n",
      "  warnings.warn('New multiplier is between 1 and 2, this '\n",
      "/home/teobrien/packages/openfermion/src/openfermion/measurements/sparse_qpe.py:145: UserWarning: New multiplier is between 1 and 2, this may be inefficient.\n",
      "  warnings.warn('New multiplier is between 1 and 2, this '\n",
      "/home/teobrien/packages/openfermion/src/openfermion/measurements/sparse_qpe.py:145: UserWarning: New multiplier is between 1 and 2, this may be inefficient.\n",
      "  warnings.warn('New multiplier is between 1 and 2, this '\n",
      "/home/teobrien/packages/openfermion/src/openfermion/measurements/sparse_qpe.py:145: UserWarning: New multiplier is between 1 and 2, this may be inefficient.\n",
      "  warnings.warn('New multiplier is between 1 and 2, this '\n",
      "/home/teobrien/packages/openfermion/src/openfermion/measurements/sparse_qpe.py:145: UserWarning: New multiplier is between 1 and 2, this may be inefficient.\n",
      "  warnings.warn('New multiplier is between 1 and 2, this '\n",
      "/home/teobrien/packages/openfermion/src/openfermion/measurements/sparse_qpe.py:145: UserWarning: New multiplier is between 1 and 2, this may be inefficient.\n",
      "  warnings.warn('New multiplier is between 1 and 2, this '\n",
      "/home/teobrien/packages/openfermion/src/openfermion/measurements/sparse_qpe.py:145: UserWarning: New multiplier is between 1 and 2, this may be inefficient.\n",
      "  warnings.warn('New multiplier is between 1 and 2, this '\n",
      "/home/teobrien/packages/openfermion/src/openfermion/measurements/sparse_qpe.py:145: UserWarning: New multiplier is between 1 and 2, this may be inefficient.\n",
      "  warnings.warn('New multiplier is between 1 and 2, this '\n",
      "/home/teobrien/packages/openfermion/src/openfermion/measurements/sparse_qpe.py:145: UserWarning: New multiplier is between 1 and 2, this may be inefficient.\n",
      "  warnings.warn('New multiplier is between 1 and 2, this '\n"
     ]
    },
    {
     "name": "stdout",
     "output_type": "stream",
     "text": [
      "Executed in: 0:01:22.704509\n",
      "41 Started at: 2020-11-10 08:49:44.330001\n",
      "[1.11253722 4.03742621 0.12460564 3.57559131 5.23975506]\n"
     ]
    },
    {
     "name": "stderr",
     "output_type": "stream",
     "text": [
      "/home/teobrien/packages/openfermion/src/openfermion/measurements/sparse_qpe.py:145: UserWarning: New multiplier is between 1 and 2, this may be inefficient.\n",
      "  warnings.warn('New multiplier is between 1 and 2, this '\n",
      "/home/teobrien/packages/openfermion/src/openfermion/measurements/sparse_qpe.py:145: UserWarning: New multiplier is between 1 and 2, this may be inefficient.\n",
      "  warnings.warn('New multiplier is between 1 and 2, this '\n",
      "/home/teobrien/packages/openfermion/src/openfermion/measurements/sparse_qpe.py:145: UserWarning: New multiplier is between 1 and 2, this may be inefficient.\n",
      "  warnings.warn('New multiplier is between 1 and 2, this '\n",
      "/home/teobrien/packages/openfermion/src/openfermion/measurements/sparse_qpe.py:145: UserWarning: New multiplier is between 1 and 2, this may be inefficient.\n",
      "  warnings.warn('New multiplier is between 1 and 2, this '\n",
      "/home/teobrien/packages/openfermion/src/openfermion/measurements/sparse_qpe.py:145: UserWarning: New multiplier is between 1 and 2, this may be inefficient.\n",
      "  warnings.warn('New multiplier is between 1 and 2, this '\n",
      "/home/teobrien/packages/openfermion/src/openfermion/measurements/sparse_qpe.py:145: UserWarning: New multiplier is between 1 and 2, this may be inefficient.\n",
      "  warnings.warn('New multiplier is between 1 and 2, this '\n",
      "/home/teobrien/packages/openfermion/src/openfermion/measurements/sparse_qpe.py:145: UserWarning: New multiplier is between 1 and 2, this may be inefficient.\n",
      "  warnings.warn('New multiplier is between 1 and 2, this '\n",
      "/home/teobrien/packages/openfermion/src/openfermion/measurements/sparse_qpe.py:145: UserWarning: New multiplier is between 1 and 2, this may be inefficient.\n",
      "  warnings.warn('New multiplier is between 1 and 2, this '\n",
      "/home/teobrien/packages/openfermion/src/openfermion/measurements/sparse_qpe.py:145: UserWarning: New multiplier is between 1 and 2, this may be inefficient.\n",
      "  warnings.warn('New multiplier is between 1 and 2, this '\n",
      "/home/teobrien/packages/openfermion/src/openfermion/measurements/sparse_qpe.py:145: UserWarning: New multiplier is between 1 and 2, this may be inefficient.\n",
      "  warnings.warn('New multiplier is between 1 and 2, this '\n",
      "/home/teobrien/packages/openfermion/src/openfermion/measurements/sparse_qpe.py:145: UserWarning: New multiplier is between 1 and 2, this may be inefficient.\n",
      "  warnings.warn('New multiplier is between 1 and 2, this '\n",
      "/home/teobrien/packages/openfermion/src/openfermion/measurements/sparse_qpe.py:145: UserWarning: New multiplier is between 1 and 2, this may be inefficient.\n",
      "  warnings.warn('New multiplier is between 1 and 2, this '\n"
     ]
    },
    {
     "name": "stdout",
     "output_type": "stream",
     "text": [
      "Executed in: 0:01:32.462660\n",
      "42 Started at: 2020-11-10 08:51:16.792739\n",
      "[4.93556839 1.09622074 4.15275176 2.64530551 4.57839046]\n"
     ]
    },
    {
     "name": "stderr",
     "output_type": "stream",
     "text": [
      "/home/teobrien/packages/openfermion/src/openfermion/measurements/sparse_qpe.py:145: UserWarning: New multiplier is between 1 and 2, this may be inefficient.\n",
      "  warnings.warn('New multiplier is between 1 and 2, this '\n"
     ]
    },
    {
     "name": "stdout",
     "output_type": "stream",
     "text": [
      "Executed in: 0:01:29.867548\n",
      "43 Started at: 2020-11-10 08:52:46.660367\n",
      "[3.68236398 3.90047118 1.82472086 4.9026456  1.65732255]\n",
      "Executed in: 0:01:36.345434\n",
      "44 Started at: 2020-11-10 08:54:23.005876\n",
      "[2.37138481 2.04805916 5.63421619 4.39665421 1.38089469]\n"
     ]
    },
    {
     "name": "stderr",
     "output_type": "stream",
     "text": [
      "/home/teobrien/packages/openfermion/src/openfermion/measurements/sparse_qpe.py:145: UserWarning: New multiplier is between 1 and 2, this may be inefficient.\n",
      "  warnings.warn('New multiplier is between 1 and 2, this '\n"
     ]
    },
    {
     "name": "stdout",
     "output_type": "stream",
     "text": [
      "Executed in: 0:01:39.360363\n",
      "45 Started at: 2020-11-10 08:56:02.366323\n",
      "[3.6845392  0.7923256  3.02935944 4.28070926 0.17747752]\n",
      "Executed in: 0:02:12.216793\n",
      "46 Started at: 2020-11-10 08:58:14.583200\n",
      "[0.43364246 4.99627651 4.3602671  4.15690412 2.2713913 ]\n",
      "Executed in: 0:01:58.572917\n",
      "47 Started at: 2020-11-10 09:00:13.156198\n",
      "[4.75700969 1.58204911 5.8982644  1.09774136 4.31155415]\n",
      "Executed in: 0:01:52.450967\n",
      "48 Started at: 2020-11-10 09:02:05.607246\n",
      "[2.95840417 3.90588105 1.47260832 0.59021784 4.43247965]\n",
      "Executed in: 0:01:58.867494\n",
      "49 Started at: 2020-11-10 09:04:04.474818\n",
      "[2.05337604 5.28363292 3.51983138 0.45686567 2.78962238]\n"
     ]
    },
    {
     "name": "stderr",
     "output_type": "stream",
     "text": [
      "/home/teobrien/packages/openfermion/src/openfermion/measurements/sparse_qpe.py:145: UserWarning: New multiplier is between 1 and 2, this may be inefficient.\n",
      "  warnings.warn('New multiplier is between 1 and 2, this '\n",
      "/home/teobrien/packages/openfermion/src/openfermion/measurements/sparse_qpe.py:145: UserWarning: New multiplier is between 1 and 2, this may be inefficient.\n",
      "  warnings.warn('New multiplier is between 1 and 2, this '\n",
      "/home/teobrien/packages/openfermion/src/openfermion/measurements/sparse_qpe.py:145: UserWarning: New multiplier is between 1 and 2, this may be inefficient.\n",
      "  warnings.warn('New multiplier is between 1 and 2, this '\n",
      "/home/teobrien/packages/openfermion/src/openfermion/measurements/sparse_qpe.py:145: UserWarning: New multiplier is between 1 and 2, this may be inefficient.\n",
      "  warnings.warn('New multiplier is between 1 and 2, this '\n",
      "/home/teobrien/packages/openfermion/src/openfermion/measurements/sparse_qpe.py:145: UserWarning: New multiplier is between 1 and 2, this may be inefficient.\n",
      "  warnings.warn('New multiplier is between 1 and 2, this '\n",
      "/home/teobrien/packages/openfermion/src/openfermion/measurements/sparse_qpe.py:145: UserWarning: New multiplier is between 1 and 2, this may be inefficient.\n",
      "  warnings.warn('New multiplier is between 1 and 2, this '\n",
      "/home/teobrien/packages/openfermion/src/openfermion/measurements/sparse_qpe.py:145: UserWarning: New multiplier is between 1 and 2, this may be inefficient.\n",
      "  warnings.warn('New multiplier is between 1 and 2, this '\n"
     ]
    },
    {
     "name": "stdout",
     "output_type": "stream",
     "text": [
      "Executed in: 0:01:31.655978\n",
      "50 Started at: 2020-11-10 09:05:36.130877\n",
      "[0.30192957 5.96329519 0.96250893 2.12602431 5.81004118]\n",
      "Executed in: 0:03:51.215331\n",
      "51 Started at: 2020-11-10 09:09:27.346291\n",
      "[0.35579671 1.50088057 5.39657902 4.58851701 3.68334925]\n"
     ]
    },
    {
     "name": "stderr",
     "output_type": "stream",
     "text": [
      "/home/teobrien/packages/openfermion/src/openfermion/measurements/sparse_qpe.py:145: UserWarning: New multiplier is between 1 and 2, this may be inefficient.\n",
      "  warnings.warn('New multiplier is between 1 and 2, this '\n",
      "/home/teobrien/packages/openfermion/src/openfermion/measurements/sparse_qpe.py:145: UserWarning: New multiplier is between 1 and 2, this may be inefficient.\n",
      "  warnings.warn('New multiplier is between 1 and 2, this '\n",
      "/home/teobrien/packages/openfermion/src/openfermion/measurements/sparse_qpe.py:145: UserWarning: New multiplier is between 1 and 2, this may be inefficient.\n",
      "  warnings.warn('New multiplier is between 1 and 2, this '\n",
      "/home/teobrien/packages/openfermion/src/openfermion/measurements/sparse_qpe.py:145: UserWarning: New multiplier is between 1 and 2, this may be inefficient.\n",
      "  warnings.warn('New multiplier is between 1 and 2, this '\n",
      "/home/teobrien/packages/openfermion/src/openfermion/measurements/sparse_qpe.py:145: UserWarning: New multiplier is between 1 and 2, this may be inefficient.\n",
      "  warnings.warn('New multiplier is between 1 and 2, this '\n"
     ]
    },
    {
     "name": "stdout",
     "output_type": "stream",
     "text": [
      "Executed in: 0:01:27.175921\n",
      "52 Started at: 2020-11-10 09:10:54.522291\n",
      "[4.18692989 0.41444439 4.11595802 0.76257972 4.29388068]\n",
      "Executed in: 0:02:41.200886\n",
      "53 Started at: 2020-11-10 09:13:35.723263\n",
      "[2.22672399 0.24550511 2.7847303  2.11464698 4.12313145]\n",
      "Executed in: 0:02:03.896467\n",
      "54 Started at: 2020-11-10 09:15:39.619812\n",
      "[4.20131331 3.88551706 3.85371507 5.57788008 5.95025233]\n",
      "Executed in: 0:01:43.450745\n",
      "55 Started at: 2020-11-10 09:17:23.070661\n",
      "[3.73669549 5.07401981 1.36407669 3.68478309 3.13896813]\n",
      "Executed in: 0:01:35.380420\n",
      "56 Started at: 2020-11-10 09:18:58.451173\n",
      "[2.52244905 5.25338207 1.36270888 3.80925259 4.7357373 ]\n"
     ]
    },
    {
     "name": "stderr",
     "output_type": "stream",
     "text": [
      "/home/teobrien/packages/openfermion/src/openfermion/measurements/sparse_qpe.py:145: UserWarning: New multiplier is between 1 and 2, this may be inefficient.\n",
      "  warnings.warn('New multiplier is between 1 and 2, this '\n",
      "/home/teobrien/packages/openfermion/src/openfermion/measurements/sparse_qpe.py:145: UserWarning: New multiplier is between 1 and 2, this may be inefficient.\n",
      "  warnings.warn('New multiplier is between 1 and 2, this '\n",
      "/home/teobrien/packages/openfermion/src/openfermion/measurements/sparse_qpe.py:145: UserWarning: New multiplier is between 1 and 2, this may be inefficient.\n",
      "  warnings.warn('New multiplier is between 1 and 2, this '\n",
      "/home/teobrien/packages/openfermion/src/openfermion/measurements/sparse_qpe.py:145: UserWarning: New multiplier is between 1 and 2, this may be inefficient.\n",
      "  warnings.warn('New multiplier is between 1 and 2, this '\n",
      "/home/teobrien/packages/openfermion/src/openfermion/measurements/sparse_qpe.py:145: UserWarning: New multiplier is between 1 and 2, this may be inefficient.\n",
      "  warnings.warn('New multiplier is between 1 and 2, this '\n",
      "/home/teobrien/packages/openfermion/src/openfermion/measurements/sparse_qpe.py:145: UserWarning: New multiplier is between 1 and 2, this may be inefficient.\n",
      "  warnings.warn('New multiplier is between 1 and 2, this '\n",
      "/home/teobrien/packages/openfermion/src/openfermion/measurements/sparse_qpe.py:145: UserWarning: New multiplier is between 1 and 2, this may be inefficient.\n",
      "  warnings.warn('New multiplier is between 1 and 2, this '\n",
      "/home/teobrien/packages/openfermion/src/openfermion/measurements/sparse_qpe.py:145: UserWarning: New multiplier is between 1 and 2, this may be inefficient.\n",
      "  warnings.warn('New multiplier is between 1 and 2, this '\n",
      "/home/teobrien/packages/openfermion/src/openfermion/measurements/sparse_qpe.py:145: UserWarning: New multiplier is between 1 and 2, this may be inefficient.\n",
      "  warnings.warn('New multiplier is between 1 and 2, this '\n",
      "/home/teobrien/packages/openfermion/src/openfermion/measurements/sparse_qpe.py:145: UserWarning: New multiplier is between 1 and 2, this may be inefficient.\n",
      "  warnings.warn('New multiplier is between 1 and 2, this '\n",
      "/home/teobrien/packages/openfermion/src/openfermion/measurements/sparse_qpe.py:145: UserWarning: New multiplier is between 1 and 2, this may be inefficient.\n",
      "  warnings.warn('New multiplier is between 1 and 2, this '\n",
      "/home/teobrien/packages/openfermion/src/openfermion/measurements/sparse_qpe.py:145: UserWarning: New multiplier is between 1 and 2, this may be inefficient.\n",
      "  warnings.warn('New multiplier is between 1 and 2, this '\n",
      "/home/teobrien/packages/openfermion/src/openfermion/measurements/sparse_qpe.py:145: UserWarning: New multiplier is between 1 and 2, this may be inefficient.\n",
      "  warnings.warn('New multiplier is between 1 and 2, this '\n",
      "/home/teobrien/packages/openfermion/src/openfermion/measurements/sparse_qpe.py:145: UserWarning: New multiplier is between 1 and 2, this may be inefficient.\n",
      "  warnings.warn('New multiplier is between 1 and 2, this '\n",
      "/home/teobrien/packages/openfermion/src/openfermion/measurements/sparse_qpe.py:145: UserWarning: New multiplier is between 1 and 2, this may be inefficient.\n",
      "  warnings.warn('New multiplier is between 1 and 2, this '\n",
      "/home/teobrien/packages/openfermion/src/openfermion/measurements/sparse_qpe.py:145: UserWarning: New multiplier is between 1 and 2, this may be inefficient.\n",
      "  warnings.warn('New multiplier is between 1 and 2, this '\n",
      "/home/teobrien/packages/openfermion/src/openfermion/measurements/sparse_qpe.py:145: UserWarning: New multiplier is between 1 and 2, this may be inefficient.\n",
      "  warnings.warn('New multiplier is between 1 and 2, this '\n",
      "/home/teobrien/packages/openfermion/src/openfermion/measurements/sparse_qpe.py:145: UserWarning: New multiplier is between 1 and 2, this may be inefficient.\n",
      "  warnings.warn('New multiplier is between 1 and 2, this '\n",
      "/home/teobrien/packages/openfermion/src/openfermion/measurements/sparse_qpe.py:145: UserWarning: New multiplier is between 1 and 2, this may be inefficient.\n",
      "  warnings.warn('New multiplier is between 1 and 2, this '\n",
      "/home/teobrien/packages/openfermion/src/openfermion/measurements/sparse_qpe.py:145: UserWarning: New multiplier is between 1 and 2, this may be inefficient.\n",
      "  warnings.warn('New multiplier is between 1 and 2, this '\n",
      "/home/teobrien/packages/openfermion/src/openfermion/measurements/sparse_qpe.py:145: UserWarning: New multiplier is between 1 and 2, this may be inefficient.\n",
      "  warnings.warn('New multiplier is between 1 and 2, this '\n",
      "/home/teobrien/packages/openfermion/src/openfermion/measurements/sparse_qpe.py:145: UserWarning: New multiplier is between 1 and 2, this may be inefficient.\n",
      "  warnings.warn('New multiplier is between 1 and 2, this '\n",
      "/home/teobrien/packages/openfermion/src/openfermion/measurements/sparse_qpe.py:145: UserWarning: New multiplier is between 1 and 2, this may be inefficient.\n",
      "  warnings.warn('New multiplier is between 1 and 2, this '\n",
      "/home/teobrien/packages/openfermion/src/openfermion/measurements/sparse_qpe.py:145: UserWarning: New multiplier is between 1 and 2, this may be inefficient.\n",
      "  warnings.warn('New multiplier is between 1 and 2, this '\n",
      "/home/teobrien/packages/openfermion/src/openfermion/measurements/sparse_qpe.py:145: UserWarning: New multiplier is between 1 and 2, this may be inefficient.\n",
      "  warnings.warn('New multiplier is between 1 and 2, this '\n",
      "/home/teobrien/packages/openfermion/src/openfermion/measurements/sparse_qpe.py:145: UserWarning: New multiplier is between 1 and 2, this may be inefficient.\n",
      "  warnings.warn('New multiplier is between 1 and 2, this '\n",
      "/home/teobrien/packages/openfermion/src/openfermion/measurements/sparse_qpe.py:145: UserWarning: New multiplier is between 1 and 2, this may be inefficient.\n",
      "  warnings.warn('New multiplier is between 1 and 2, this '\n",
      "/home/teobrien/packages/openfermion/src/openfermion/measurements/sparse_qpe.py:145: UserWarning: New multiplier is between 1 and 2, this may be inefficient.\n",
      "  warnings.warn('New multiplier is between 1 and 2, this '\n",
      "/home/teobrien/packages/openfermion/src/openfermion/measurements/sparse_qpe.py:145: UserWarning: New multiplier is between 1 and 2, this may be inefficient.\n",
      "  warnings.warn('New multiplier is between 1 and 2, this '\n",
      "/home/teobrien/packages/openfermion/src/openfermion/measurements/sparse_qpe.py:145: UserWarning: New multiplier is between 1 and 2, this may be inefficient.\n",
      "  warnings.warn('New multiplier is between 1 and 2, this '\n",
      "/home/teobrien/packages/openfermion/src/openfermion/measurements/sparse_qpe.py:145: UserWarning: New multiplier is between 1 and 2, this may be inefficient.\n",
      "  warnings.warn('New multiplier is between 1 and 2, this '\n",
      "/home/teobrien/packages/openfermion/src/openfermion/measurements/sparse_qpe.py:145: UserWarning: New multiplier is between 1 and 2, this may be inefficient.\n",
      "  warnings.warn('New multiplier is between 1 and 2, this '\n",
      "/home/teobrien/packages/openfermion/src/openfermion/measurements/sparse_qpe.py:145: UserWarning: New multiplier is between 1 and 2, this may be inefficient.\n",
      "  warnings.warn('New multiplier is between 1 and 2, this '\n",
      "/home/teobrien/packages/openfermion/src/openfermion/measurements/sparse_qpe.py:145: UserWarning: New multiplier is between 1 and 2, this may be inefficient.\n",
      "  warnings.warn('New multiplier is between 1 and 2, this '\n",
      "/home/teobrien/packages/openfermion/src/openfermion/measurements/sparse_qpe.py:145: UserWarning: New multiplier is between 1 and 2, this may be inefficient.\n",
      "  warnings.warn('New multiplier is between 1 and 2, this '\n",
      "/home/teobrien/packages/openfermion/src/openfermion/measurements/sparse_qpe.py:145: UserWarning: New multiplier is between 1 and 2, this may be inefficient.\n",
      "  warnings.warn('New multiplier is between 1 and 2, this '\n",
      "/home/teobrien/packages/openfermion/src/openfermion/measurements/sparse_qpe.py:145: UserWarning: New multiplier is between 1 and 2, this may be inefficient.\n",
      "  warnings.warn('New multiplier is between 1 and 2, this '\n",
      "/home/teobrien/packages/openfermion/src/openfermion/measurements/sparse_qpe.py:145: UserWarning: New multiplier is between 1 and 2, this may be inefficient.\n",
      "  warnings.warn('New multiplier is between 1 and 2, this '\n",
      "/home/teobrien/packages/openfermion/src/openfermion/measurements/sparse_qpe.py:145: UserWarning: New multiplier is between 1 and 2, this may be inefficient.\n",
      "  warnings.warn('New multiplier is between 1 and 2, this '\n",
      "/home/teobrien/packages/openfermion/src/openfermion/measurements/sparse_qpe.py:145: UserWarning: New multiplier is between 1 and 2, this may be inefficient.\n",
      "  warnings.warn('New multiplier is between 1 and 2, this '\n",
      "/home/teobrien/packages/openfermion/src/openfermion/measurements/sparse_qpe.py:145: UserWarning: New multiplier is between 1 and 2, this may be inefficient.\n",
      "  warnings.warn('New multiplier is between 1 and 2, this '\n",
      "/home/teobrien/packages/openfermion/src/openfermion/measurements/sparse_qpe.py:145: UserWarning: New multiplier is between 1 and 2, this may be inefficient.\n",
      "  warnings.warn('New multiplier is between 1 and 2, this '\n",
      "/home/teobrien/packages/openfermion/src/openfermion/measurements/sparse_qpe.py:145: UserWarning: New multiplier is between 1 and 2, this may be inefficient.\n",
      "  warnings.warn('New multiplier is between 1 and 2, this '\n",
      "/home/teobrien/packages/openfermion/src/openfermion/measurements/sparse_qpe.py:145: UserWarning: New multiplier is between 1 and 2, this may be inefficient.\n",
      "  warnings.warn('New multiplier is between 1 and 2, this '\n",
      "/home/teobrien/packages/openfermion/src/openfermion/measurements/sparse_qpe.py:145: UserWarning: New multiplier is between 1 and 2, this may be inefficient.\n",
      "  warnings.warn('New multiplier is between 1 and 2, this '\n",
      "/home/teobrien/packages/openfermion/src/openfermion/measurements/sparse_qpe.py:145: UserWarning: New multiplier is between 1 and 2, this may be inefficient.\n",
      "  warnings.warn('New multiplier is between 1 and 2, this '\n",
      "/home/teobrien/packages/openfermion/src/openfermion/measurements/sparse_qpe.py:145: UserWarning: New multiplier is between 1 and 2, this may be inefficient.\n",
      "  warnings.warn('New multiplier is between 1 and 2, this '\n",
      "/home/teobrien/packages/openfermion/src/openfermion/measurements/sparse_qpe.py:145: UserWarning: New multiplier is between 1 and 2, this may be inefficient.\n",
      "  warnings.warn('New multiplier is between 1 and 2, this '\n",
      "/home/teobrien/packages/openfermion/src/openfermion/measurements/sparse_qpe.py:145: UserWarning: New multiplier is between 1 and 2, this may be inefficient.\n",
      "  warnings.warn('New multiplier is between 1 and 2, this '\n"
     ]
    },
    {
     "name": "stdout",
     "output_type": "stream",
     "text": [
      "Executed in: 0:01:18.015422\n",
      "57 Started at: 2020-11-10 09:20:16.466671\n",
      "[5.2992278  6.18285255 2.02176381 3.8998478  5.26368418]\n",
      "Executed in: 0:01:30.612796\n",
      "58 Started at: 2020-11-10 09:21:47.079545\n",
      "[3.50401045 3.55502044 5.87451297 5.28651669 0.6129663 ]\n"
     ]
    },
    {
     "name": "stderr",
     "output_type": "stream",
     "text": [
      "/home/teobrien/packages/openfermion/src/openfermion/measurements/sparse_qpe.py:145: UserWarning: New multiplier is between 1 and 2, this may be inefficient.\n",
      "  warnings.warn('New multiplier is between 1 and 2, this '\n",
      "/home/teobrien/packages/openfermion/src/openfermion/measurements/sparse_qpe.py:145: UserWarning: New multiplier is between 1 and 2, this may be inefficient.\n",
      "  warnings.warn('New multiplier is between 1 and 2, this '\n"
     ]
    },
    {
     "name": "stdout",
     "output_type": "stream",
     "text": [
      "Executed in: 0:01:33.780621\n",
      "59 Started at: 2020-11-10 09:23:20.860239\n",
      "[3.35755732 0.02952547 5.48486078 5.30163924 2.61680896]\n"
     ]
    },
    {
     "name": "stderr",
     "output_type": "stream",
     "text": [
      "/home/teobrien/packages/openfermion/src/openfermion/measurements/sparse_qpe.py:145: UserWarning: New multiplier is between 1 and 2, this may be inefficient.\n",
      "  warnings.warn('New multiplier is between 1 and 2, this '\n",
      "/home/teobrien/packages/openfermion/src/openfermion/measurements/sparse_qpe.py:145: UserWarning: New multiplier is between 1 and 2, this may be inefficient.\n",
      "  warnings.warn('New multiplier is between 1 and 2, this '\n",
      "/home/teobrien/packages/openfermion/src/openfermion/measurements/sparse_qpe.py:145: UserWarning: New multiplier is between 1 and 2, this may be inefficient.\n",
      "  warnings.warn('New multiplier is between 1 and 2, this '\n"
     ]
    },
    {
     "name": "stdout",
     "output_type": "stream",
     "text": [
      "Executed in: 0:01:48.014066\n",
      "60 Started at: 2020-11-10 09:25:08.874383\n",
      "[5.03171144 2.64316134 1.09921213 3.84455796 3.54536298]\n",
      "Executed in: 0:01:35.502103\n",
      "61 Started at: 2020-11-10 09:26:44.376568\n",
      "[1.86613396 0.45203557 3.25948174 5.35562699 6.16737477]\n"
     ]
    },
    {
     "name": "stderr",
     "output_type": "stream",
     "text": [
      "/home/teobrien/packages/openfermion/src/openfermion/measurements/sparse_qpe.py:145: UserWarning: New multiplier is between 1 and 2, this may be inefficient.\n",
      "  warnings.warn('New multiplier is between 1 and 2, this '\n",
      "/home/teobrien/packages/openfermion/src/openfermion/measurements/sparse_qpe.py:145: UserWarning: New multiplier is between 1 and 2, this may be inefficient.\n",
      "  warnings.warn('New multiplier is between 1 and 2, this '\n",
      "/home/teobrien/packages/openfermion/src/openfermion/measurements/sparse_qpe.py:145: UserWarning: New multiplier is between 1 and 2, this may be inefficient.\n",
      "  warnings.warn('New multiplier is between 1 and 2, this '\n",
      "/home/teobrien/packages/openfermion/src/openfermion/measurements/sparse_qpe.py:145: UserWarning: New multiplier is between 1 and 2, this may be inefficient.\n",
      "  warnings.warn('New multiplier is between 1 and 2, this '\n"
     ]
    },
    {
     "name": "stdout",
     "output_type": "stream",
     "text": [
      "Executed in: 0:01:42.689154\n",
      "62 Started at: 2020-11-10 09:28:27.065800\n",
      "[0.97161742 5.89985423 2.3782385  6.04309567 0.36078903]\n",
      "Executed in: 0:03:07.838636\n",
      "63 Started at: 2020-11-10 09:31:34.904512\n",
      "[5.442784   2.48166449 0.67447819 2.56617092 5.3169273 ]\n",
      "Executed in: 0:04:17.675969\n",
      "64 Started at: 2020-11-10 09:35:52.580563\n",
      "[2.94253697 1.66655784 5.9247661  2.92454408 2.24093692]\n",
      "Executed in: 0:03:01.762393\n",
      "65 Started at: 2020-11-10 09:38:54.343062\n",
      "[3.5740858  0.10274662 4.13033702 1.35267153 5.92646688]\n"
     ]
    },
    {
     "name": "stderr",
     "output_type": "stream",
     "text": [
      "/home/teobrien/packages/openfermion/src/openfermion/measurements/sparse_qpe.py:145: UserWarning: New multiplier is between 1 and 2, this may be inefficient.\n",
      "  warnings.warn('New multiplier is between 1 and 2, this '\n",
      "/home/teobrien/packages/openfermion/src/openfermion/measurements/sparse_qpe.py:145: UserWarning: New multiplier is between 1 and 2, this may be inefficient.\n",
      "  warnings.warn('New multiplier is between 1 and 2, this '\n",
      "/home/teobrien/packages/openfermion/src/openfermion/measurements/sparse_qpe.py:145: UserWarning: New multiplier is between 1 and 2, this may be inefficient.\n",
      "  warnings.warn('New multiplier is between 1 and 2, this '\n",
      "/home/teobrien/packages/openfermion/src/openfermion/measurements/sparse_qpe.py:145: UserWarning: New multiplier is between 1 and 2, this may be inefficient.\n",
      "  warnings.warn('New multiplier is between 1 and 2, this '\n",
      "/home/teobrien/packages/openfermion/src/openfermion/measurements/sparse_qpe.py:145: UserWarning: New multiplier is between 1 and 2, this may be inefficient.\n",
      "  warnings.warn('New multiplier is between 1 and 2, this '\n",
      "/home/teobrien/packages/openfermion/src/openfermion/measurements/sparse_qpe.py:145: UserWarning: New multiplier is between 1 and 2, this may be inefficient.\n",
      "  warnings.warn('New multiplier is between 1 and 2, this '\n",
      "/home/teobrien/packages/openfermion/src/openfermion/measurements/sparse_qpe.py:145: UserWarning: New multiplier is between 1 and 2, this may be inefficient.\n",
      "  warnings.warn('New multiplier is between 1 and 2, this '\n",
      "/home/teobrien/packages/openfermion/src/openfermion/measurements/sparse_qpe.py:145: UserWarning: New multiplier is between 1 and 2, this may be inefficient.\n",
      "  warnings.warn('New multiplier is between 1 and 2, this '\n",
      "/home/teobrien/packages/openfermion/src/openfermion/measurements/sparse_qpe.py:145: UserWarning: New multiplier is between 1 and 2, this may be inefficient.\n",
      "  warnings.warn('New multiplier is between 1 and 2, this '\n",
      "/home/teobrien/packages/openfermion/src/openfermion/measurements/sparse_qpe.py:145: UserWarning: New multiplier is between 1 and 2, this may be inefficient.\n",
      "  warnings.warn('New multiplier is between 1 and 2, this '\n",
      "/home/teobrien/packages/openfermion/src/openfermion/measurements/sparse_qpe.py:145: UserWarning: New multiplier is between 1 and 2, this may be inefficient.\n",
      "  warnings.warn('New multiplier is between 1 and 2, this '\n",
      "/home/teobrien/packages/openfermion/src/openfermion/measurements/sparse_qpe.py:145: UserWarning: New multiplier is between 1 and 2, this may be inefficient.\n",
      "  warnings.warn('New multiplier is between 1 and 2, this '\n",
      "/home/teobrien/packages/openfermion/src/openfermion/measurements/sparse_qpe.py:145: UserWarning: New multiplier is between 1 and 2, this may be inefficient.\n",
      "  warnings.warn('New multiplier is between 1 and 2, this '\n",
      "/home/teobrien/packages/openfermion/src/openfermion/measurements/sparse_qpe.py:145: UserWarning: New multiplier is between 1 and 2, this may be inefficient.\n",
      "  warnings.warn('New multiplier is between 1 and 2, this '\n",
      "/home/teobrien/packages/openfermion/src/openfermion/measurements/sparse_qpe.py:145: UserWarning: New multiplier is between 1 and 2, this may be inefficient.\n",
      "  warnings.warn('New multiplier is between 1 and 2, this '\n",
      "/home/teobrien/packages/openfermion/src/openfermion/measurements/sparse_qpe.py:145: UserWarning: New multiplier is between 1 and 2, this may be inefficient.\n",
      "  warnings.warn('New multiplier is between 1 and 2, this '\n",
      "/home/teobrien/packages/openfermion/src/openfermion/measurements/sparse_qpe.py:145: UserWarning: New multiplier is between 1 and 2, this may be inefficient.\n",
      "  warnings.warn('New multiplier is between 1 and 2, this '\n",
      "/home/teobrien/packages/openfermion/src/openfermion/measurements/sparse_qpe.py:145: UserWarning: New multiplier is between 1 and 2, this may be inefficient.\n",
      "  warnings.warn('New multiplier is between 1 and 2, this '\n",
      "/home/teobrien/packages/openfermion/src/openfermion/measurements/sparse_qpe.py:145: UserWarning: New multiplier is between 1 and 2, this may be inefficient.\n",
      "  warnings.warn('New multiplier is between 1 and 2, this '\n",
      "/home/teobrien/packages/openfermion/src/openfermion/measurements/sparse_qpe.py:145: UserWarning: New multiplier is between 1 and 2, this may be inefficient.\n",
      "  warnings.warn('New multiplier is between 1 and 2, this '\n",
      "/home/teobrien/packages/openfermion/src/openfermion/measurements/sparse_qpe.py:145: UserWarning: New multiplier is between 1 and 2, this may be inefficient.\n",
      "  warnings.warn('New multiplier is between 1 and 2, this '\n",
      "/home/teobrien/packages/openfermion/src/openfermion/measurements/sparse_qpe.py:145: UserWarning: New multiplier is between 1 and 2, this may be inefficient.\n",
      "  warnings.warn('New multiplier is between 1 and 2, this '\n",
      "/home/teobrien/packages/openfermion/src/openfermion/measurements/sparse_qpe.py:145: UserWarning: New multiplier is between 1 and 2, this may be inefficient.\n",
      "  warnings.warn('New multiplier is between 1 and 2, this '\n",
      "/home/teobrien/packages/openfermion/src/openfermion/measurements/sparse_qpe.py:145: UserWarning: New multiplier is between 1 and 2, this may be inefficient.\n",
      "  warnings.warn('New multiplier is between 1 and 2, this '\n",
      "/home/teobrien/packages/openfermion/src/openfermion/measurements/sparse_qpe.py:145: UserWarning: New multiplier is between 1 and 2, this may be inefficient.\n",
      "  warnings.warn('New multiplier is between 1 and 2, this '\n",
      "/home/teobrien/packages/openfermion/src/openfermion/measurements/sparse_qpe.py:145: UserWarning: New multiplier is between 1 and 2, this may be inefficient.\n",
      "  warnings.warn('New multiplier is between 1 and 2, this '\n",
      "/home/teobrien/packages/openfermion/src/openfermion/measurements/sparse_qpe.py:145: UserWarning: New multiplier is between 1 and 2, this may be inefficient.\n",
      "  warnings.warn('New multiplier is between 1 and 2, this '\n",
      "/home/teobrien/packages/openfermion/src/openfermion/measurements/sparse_qpe.py:145: UserWarning: New multiplier is between 1 and 2, this may be inefficient.\n",
      "  warnings.warn('New multiplier is between 1 and 2, this '\n",
      "/home/teobrien/packages/openfermion/src/openfermion/measurements/sparse_qpe.py:145: UserWarning: New multiplier is between 1 and 2, this may be inefficient.\n",
      "  warnings.warn('New multiplier is between 1 and 2, this '\n",
      "/home/teobrien/packages/openfermion/src/openfermion/measurements/sparse_qpe.py:145: UserWarning: New multiplier is between 1 and 2, this may be inefficient.\n",
      "  warnings.warn('New multiplier is between 1 and 2, this '\n",
      "/home/teobrien/packages/openfermion/src/openfermion/measurements/sparse_qpe.py:145: UserWarning: New multiplier is between 1 and 2, this may be inefficient.\n",
      "  warnings.warn('New multiplier is between 1 and 2, this '\n",
      "/home/teobrien/packages/openfermion/src/openfermion/measurements/sparse_qpe.py:145: UserWarning: New multiplier is between 1 and 2, this may be inefficient.\n",
      "  warnings.warn('New multiplier is between 1 and 2, this '\n",
      "/home/teobrien/packages/openfermion/src/openfermion/measurements/sparse_qpe.py:145: UserWarning: New multiplier is between 1 and 2, this may be inefficient.\n",
      "  warnings.warn('New multiplier is between 1 and 2, this '\n",
      "/home/teobrien/packages/openfermion/src/openfermion/measurements/sparse_qpe.py:145: UserWarning: New multiplier is between 1 and 2, this may be inefficient.\n",
      "  warnings.warn('New multiplier is between 1 and 2, this '\n",
      "/home/teobrien/packages/openfermion/src/openfermion/measurements/sparse_qpe.py:145: UserWarning: New multiplier is between 1 and 2, this may be inefficient.\n",
      "  warnings.warn('New multiplier is between 1 and 2, this '\n",
      "/home/teobrien/packages/openfermion/src/openfermion/measurements/sparse_qpe.py:145: UserWarning: New multiplier is between 1 and 2, this may be inefficient.\n",
      "  warnings.warn('New multiplier is between 1 and 2, this '\n",
      "/home/teobrien/packages/openfermion/src/openfermion/measurements/sparse_qpe.py:145: UserWarning: New multiplier is between 1 and 2, this may be inefficient.\n",
      "  warnings.warn('New multiplier is between 1 and 2, this '\n",
      "/home/teobrien/packages/openfermion/src/openfermion/measurements/sparse_qpe.py:145: UserWarning: New multiplier is between 1 and 2, this may be inefficient.\n",
      "  warnings.warn('New multiplier is between 1 and 2, this '\n",
      "/home/teobrien/packages/openfermion/src/openfermion/measurements/sparse_qpe.py:145: UserWarning: New multiplier is between 1 and 2, this may be inefficient.\n",
      "  warnings.warn('New multiplier is between 1 and 2, this '\n",
      "/home/teobrien/packages/openfermion/src/openfermion/measurements/sparse_qpe.py:145: UserWarning: New multiplier is between 1 and 2, this may be inefficient.\n",
      "  warnings.warn('New multiplier is between 1 and 2, this '\n",
      "/home/teobrien/packages/openfermion/src/openfermion/measurements/sparse_qpe.py:145: UserWarning: New multiplier is between 1 and 2, this may be inefficient.\n",
      "  warnings.warn('New multiplier is between 1 and 2, this '\n",
      "/home/teobrien/packages/openfermion/src/openfermion/measurements/sparse_qpe.py:145: UserWarning: New multiplier is between 1 and 2, this may be inefficient.\n",
      "  warnings.warn('New multiplier is between 1 and 2, this '\n",
      "/home/teobrien/packages/openfermion/src/openfermion/measurements/sparse_qpe.py:145: UserWarning: New multiplier is between 1 and 2, this may be inefficient.\n",
      "  warnings.warn('New multiplier is between 1 and 2, this '\n",
      "/home/teobrien/packages/openfermion/src/openfermion/measurements/sparse_qpe.py:145: UserWarning: New multiplier is between 1 and 2, this may be inefficient.\n",
      "  warnings.warn('New multiplier is between 1 and 2, this '\n",
      "/home/teobrien/packages/openfermion/src/openfermion/measurements/sparse_qpe.py:145: UserWarning: New multiplier is between 1 and 2, this may be inefficient.\n",
      "  warnings.warn('New multiplier is between 1 and 2, this '\n"
     ]
    },
    {
     "name": "stdout",
     "output_type": "stream",
     "text": [
      "Executed in: 0:01:22.790951\n",
      "66 Started at: 2020-11-10 09:40:17.134264\n",
      "[5.50618794 5.26152353 1.12061372 2.92929574 4.41205911]\n"
     ]
    },
    {
     "name": "stderr",
     "output_type": "stream",
     "text": [
      "/home/teobrien/packages/openfermion/src/openfermion/measurements/sparse_qpe.py:145: UserWarning: New multiplier is between 1 and 2, this may be inefficient.\n",
      "  warnings.warn('New multiplier is between 1 and 2, this '\n",
      "/home/teobrien/packages/openfermion/src/openfermion/measurements/sparse_qpe.py:145: UserWarning: New multiplier is between 1 and 2, this may be inefficient.\n",
      "  warnings.warn('New multiplier is between 1 and 2, this '\n",
      "/home/teobrien/packages/openfermion/src/openfermion/measurements/sparse_qpe.py:145: UserWarning: New multiplier is between 1 and 2, this may be inefficient.\n",
      "  warnings.warn('New multiplier is between 1 and 2, this '\n",
      "/home/teobrien/packages/openfermion/src/openfermion/measurements/sparse_qpe.py:145: UserWarning: New multiplier is between 1 and 2, this may be inefficient.\n",
      "  warnings.warn('New multiplier is between 1 and 2, this '\n",
      "/home/teobrien/packages/openfermion/src/openfermion/measurements/sparse_qpe.py:145: UserWarning: New multiplier is between 1 and 2, this may be inefficient.\n",
      "  warnings.warn('New multiplier is between 1 and 2, this '\n",
      "/home/teobrien/packages/openfermion/src/openfermion/measurements/sparse_qpe.py:145: UserWarning: New multiplier is between 1 and 2, this may be inefficient.\n",
      "  warnings.warn('New multiplier is between 1 and 2, this '\n",
      "/home/teobrien/packages/openfermion/src/openfermion/measurements/sparse_qpe.py:145: UserWarning: New multiplier is between 1 and 2, this may be inefficient.\n",
      "  warnings.warn('New multiplier is between 1 and 2, this '\n",
      "/home/teobrien/packages/openfermion/src/openfermion/measurements/sparse_qpe.py:145: UserWarning: New multiplier is between 1 and 2, this may be inefficient.\n",
      "  warnings.warn('New multiplier is between 1 and 2, this '\n",
      "/home/teobrien/packages/openfermion/src/openfermion/measurements/sparse_qpe.py:145: UserWarning: New multiplier is between 1 and 2, this may be inefficient.\n",
      "  warnings.warn('New multiplier is between 1 and 2, this '\n"
     ]
    },
    {
     "name": "stdout",
     "output_type": "stream",
     "text": [
      "Executed in: 0:01:32.863014\n",
      "67 Started at: 2020-11-10 09:41:49.997371\n",
      "[4.27738796 0.59988571 1.04921049 5.5779551  0.81475386]\n",
      "Executed in: 0:03:04.279369\n",
      "68 Started at: 2020-11-10 09:44:54.276820\n",
      "[1.98914307 3.01396843 1.78746921 4.13816854 0.35840738]\n"
     ]
    },
    {
     "name": "stderr",
     "output_type": "stream",
     "text": [
      "/home/teobrien/packages/openfermion/src/openfermion/measurements/sparse_qpe.py:145: UserWarning: New multiplier is between 1 and 2, this may be inefficient.\n",
      "  warnings.warn('New multiplier is between 1 and 2, this '\n",
      "/home/teobrien/packages/openfermion/src/openfermion/measurements/sparse_qpe.py:145: UserWarning: New multiplier is between 1 and 2, this may be inefficient.\n",
      "  warnings.warn('New multiplier is between 1 and 2, this '\n",
      "/home/teobrien/packages/openfermion/src/openfermion/measurements/sparse_qpe.py:145: UserWarning: New multiplier is between 1 and 2, this may be inefficient.\n",
      "  warnings.warn('New multiplier is between 1 and 2, this '\n",
      "/home/teobrien/packages/openfermion/src/openfermion/measurements/sparse_qpe.py:145: UserWarning: New multiplier is between 1 and 2, this may be inefficient.\n",
      "  warnings.warn('New multiplier is between 1 and 2, this '\n",
      "/home/teobrien/packages/openfermion/src/openfermion/measurements/sparse_qpe.py:145: UserWarning: New multiplier is between 1 and 2, this may be inefficient.\n",
      "  warnings.warn('New multiplier is between 1 and 2, this '\n",
      "/home/teobrien/packages/openfermion/src/openfermion/measurements/sparse_qpe.py:145: UserWarning: New multiplier is between 1 and 2, this may be inefficient.\n",
      "  warnings.warn('New multiplier is between 1 and 2, this '\n",
      "/home/teobrien/packages/openfermion/src/openfermion/measurements/sparse_qpe.py:145: UserWarning: New multiplier is between 1 and 2, this may be inefficient.\n",
      "  warnings.warn('New multiplier is between 1 and 2, this '\n",
      "/home/teobrien/packages/openfermion/src/openfermion/measurements/sparse_qpe.py:145: UserWarning: New multiplier is between 1 and 2, this may be inefficient.\n",
      "  warnings.warn('New multiplier is between 1 and 2, this '\n",
      "/home/teobrien/packages/openfermion/src/openfermion/measurements/sparse_qpe.py:145: UserWarning: New multiplier is between 1 and 2, this may be inefficient.\n",
      "  warnings.warn('New multiplier is between 1 and 2, this '\n",
      "/home/teobrien/packages/openfermion/src/openfermion/measurements/sparse_qpe.py:145: UserWarning: New multiplier is between 1 and 2, this may be inefficient.\n",
      "  warnings.warn('New multiplier is between 1 and 2, this '\n",
      "/home/teobrien/packages/openfermion/src/openfermion/measurements/sparse_qpe.py:145: UserWarning: New multiplier is between 1 and 2, this may be inefficient.\n",
      "  warnings.warn('New multiplier is between 1 and 2, this '\n",
      "/home/teobrien/packages/openfermion/src/openfermion/measurements/sparse_qpe.py:145: UserWarning: New multiplier is between 1 and 2, this may be inefficient.\n",
      "  warnings.warn('New multiplier is between 1 and 2, this '\n",
      "/home/teobrien/packages/openfermion/src/openfermion/measurements/sparse_qpe.py:145: UserWarning: New multiplier is between 1 and 2, this may be inefficient.\n",
      "  warnings.warn('New multiplier is between 1 and 2, this '\n",
      "/home/teobrien/packages/openfermion/src/openfermion/measurements/sparse_qpe.py:145: UserWarning: New multiplier is between 1 and 2, this may be inefficient.\n",
      "  warnings.warn('New multiplier is between 1 and 2, this '\n",
      "/home/teobrien/packages/openfermion/src/openfermion/measurements/sparse_qpe.py:145: UserWarning: New multiplier is between 1 and 2, this may be inefficient.\n",
      "  warnings.warn('New multiplier is between 1 and 2, this '\n",
      "/home/teobrien/packages/openfermion/src/openfermion/measurements/sparse_qpe.py:145: UserWarning: New multiplier is between 1 and 2, this may be inefficient.\n",
      "  warnings.warn('New multiplier is between 1 and 2, this '\n",
      "/home/teobrien/packages/openfermion/src/openfermion/measurements/sparse_qpe.py:145: UserWarning: New multiplier is between 1 and 2, this may be inefficient.\n",
      "  warnings.warn('New multiplier is between 1 and 2, this '\n",
      "/home/teobrien/packages/openfermion/src/openfermion/measurements/sparse_qpe.py:145: UserWarning: New multiplier is between 1 and 2, this may be inefficient.\n",
      "  warnings.warn('New multiplier is between 1 and 2, this '\n",
      "/home/teobrien/packages/openfermion/src/openfermion/measurements/sparse_qpe.py:145: UserWarning: New multiplier is between 1 and 2, this may be inefficient.\n",
      "  warnings.warn('New multiplier is between 1 and 2, this '\n",
      "/home/teobrien/packages/openfermion/src/openfermion/measurements/sparse_qpe.py:145: UserWarning: New multiplier is between 1 and 2, this may be inefficient.\n",
      "  warnings.warn('New multiplier is between 1 and 2, this '\n",
      "/home/teobrien/packages/openfermion/src/openfermion/measurements/sparse_qpe.py:145: UserWarning: New multiplier is between 1 and 2, this may be inefficient.\n",
      "  warnings.warn('New multiplier is between 1 and 2, this '\n",
      "/home/teobrien/packages/openfermion/src/openfermion/measurements/sparse_qpe.py:145: UserWarning: New multiplier is between 1 and 2, this may be inefficient.\n",
      "  warnings.warn('New multiplier is between 1 and 2, this '\n",
      "/home/teobrien/packages/openfermion/src/openfermion/measurements/sparse_qpe.py:145: UserWarning: New multiplier is between 1 and 2, this may be inefficient.\n",
      "  warnings.warn('New multiplier is between 1 and 2, this '\n",
      "/home/teobrien/packages/openfermion/src/openfermion/measurements/sparse_qpe.py:145: UserWarning: New multiplier is between 1 and 2, this may be inefficient.\n",
      "  warnings.warn('New multiplier is between 1 and 2, this '\n",
      "/home/teobrien/packages/openfermion/src/openfermion/measurements/sparse_qpe.py:145: UserWarning: New multiplier is between 1 and 2, this may be inefficient.\n",
      "  warnings.warn('New multiplier is between 1 and 2, this '\n",
      "/home/teobrien/packages/openfermion/src/openfermion/measurements/sparse_qpe.py:145: UserWarning: New multiplier is between 1 and 2, this may be inefficient.\n",
      "  warnings.warn('New multiplier is between 1 and 2, this '\n",
      "/home/teobrien/packages/openfermion/src/openfermion/measurements/sparse_qpe.py:145: UserWarning: New multiplier is between 1 and 2, this may be inefficient.\n",
      "  warnings.warn('New multiplier is between 1 and 2, this '\n",
      "/home/teobrien/packages/openfermion/src/openfermion/measurements/sparse_qpe.py:145: UserWarning: New multiplier is between 1 and 2, this may be inefficient.\n",
      "  warnings.warn('New multiplier is between 1 and 2, this '\n",
      "/home/teobrien/packages/openfermion/src/openfermion/measurements/sparse_qpe.py:145: UserWarning: New multiplier is between 1 and 2, this may be inefficient.\n",
      "  warnings.warn('New multiplier is between 1 and 2, this '\n",
      "/home/teobrien/packages/openfermion/src/openfermion/measurements/sparse_qpe.py:145: UserWarning: New multiplier is between 1 and 2, this may be inefficient.\n",
      "  warnings.warn('New multiplier is between 1 and 2, this '\n",
      "/home/teobrien/packages/openfermion/src/openfermion/measurements/sparse_qpe.py:145: UserWarning: New multiplier is between 1 and 2, this may be inefficient.\n",
      "  warnings.warn('New multiplier is between 1 and 2, this '\n",
      "/home/teobrien/packages/openfermion/src/openfermion/measurements/sparse_qpe.py:145: UserWarning: New multiplier is between 1 and 2, this may be inefficient.\n",
      "  warnings.warn('New multiplier is between 1 and 2, this '\n",
      "/home/teobrien/packages/openfermion/src/openfermion/measurements/sparse_qpe.py:145: UserWarning: New multiplier is between 1 and 2, this may be inefficient.\n",
      "  warnings.warn('New multiplier is between 1 and 2, this '\n",
      "/home/teobrien/packages/openfermion/src/openfermion/measurements/sparse_qpe.py:145: UserWarning: New multiplier is between 1 and 2, this may be inefficient.\n",
      "  warnings.warn('New multiplier is between 1 and 2, this '\n",
      "/home/teobrien/packages/openfermion/src/openfermion/measurements/sparse_qpe.py:145: UserWarning: New multiplier is between 1 and 2, this may be inefficient.\n",
      "  warnings.warn('New multiplier is between 1 and 2, this '\n",
      "/home/teobrien/packages/openfermion/src/openfermion/measurements/sparse_qpe.py:145: UserWarning: New multiplier is between 1 and 2, this may be inefficient.\n",
      "  warnings.warn('New multiplier is between 1 and 2, this '\n",
      "/home/teobrien/packages/openfermion/src/openfermion/measurements/sparse_qpe.py:145: UserWarning: New multiplier is between 1 and 2, this may be inefficient.\n",
      "  warnings.warn('New multiplier is between 1 and 2, this '\n",
      "/home/teobrien/packages/openfermion/src/openfermion/measurements/sparse_qpe.py:145: UserWarning: New multiplier is between 1 and 2, this may be inefficient.\n",
      "  warnings.warn('New multiplier is between 1 and 2, this '\n",
      "/home/teobrien/packages/openfermion/src/openfermion/measurements/sparse_qpe.py:145: UserWarning: New multiplier is between 1 and 2, this may be inefficient.\n",
      "  warnings.warn('New multiplier is between 1 and 2, this '\n",
      "/home/teobrien/packages/openfermion/src/openfermion/measurements/sparse_qpe.py:145: UserWarning: New multiplier is between 1 and 2, this may be inefficient.\n",
      "  warnings.warn('New multiplier is between 1 and 2, this '\n",
      "/home/teobrien/packages/openfermion/src/openfermion/measurements/sparse_qpe.py:145: UserWarning: New multiplier is between 1 and 2, this may be inefficient.\n",
      "  warnings.warn('New multiplier is between 1 and 2, this '\n",
      "/home/teobrien/packages/openfermion/src/openfermion/measurements/sparse_qpe.py:145: UserWarning: New multiplier is between 1 and 2, this may be inefficient.\n",
      "  warnings.warn('New multiplier is between 1 and 2, this '\n",
      "/home/teobrien/packages/openfermion/src/openfermion/measurements/sparse_qpe.py:145: UserWarning: New multiplier is between 1 and 2, this may be inefficient.\n",
      "  warnings.warn('New multiplier is between 1 and 2, this '\n",
      "/home/teobrien/packages/openfermion/src/openfermion/measurements/sparse_qpe.py:145: UserWarning: New multiplier is between 1 and 2, this may be inefficient.\n",
      "  warnings.warn('New multiplier is between 1 and 2, this '\n",
      "/home/teobrien/packages/openfermion/src/openfermion/measurements/sparse_qpe.py:145: UserWarning: New multiplier is between 1 and 2, this may be inefficient.\n",
      "  warnings.warn('New multiplier is between 1 and 2, this '\n"
     ]
    },
    {
     "name": "stderr",
     "output_type": "stream",
     "text": [
      "/home/teobrien/packages/openfermion/src/openfermion/measurements/sparse_qpe.py:145: UserWarning: New multiplier is between 1 and 2, this may be inefficient.\n",
      "  warnings.warn('New multiplier is between 1 and 2, this '\n",
      "/home/teobrien/packages/openfermion/src/openfermion/measurements/sparse_qpe.py:145: UserWarning: New multiplier is between 1 and 2, this may be inefficient.\n",
      "  warnings.warn('New multiplier is between 1 and 2, this '\n",
      "/home/teobrien/packages/openfermion/src/openfermion/measurements/sparse_qpe.py:145: UserWarning: New multiplier is between 1 and 2, this may be inefficient.\n",
      "  warnings.warn('New multiplier is between 1 and 2, this '\n",
      "/home/teobrien/packages/openfermion/src/openfermion/measurements/sparse_qpe.py:145: UserWarning: New multiplier is between 1 and 2, this may be inefficient.\n",
      "  warnings.warn('New multiplier is between 1 and 2, this '\n",
      "/home/teobrien/packages/openfermion/src/openfermion/measurements/sparse_qpe.py:145: UserWarning: New multiplier is between 1 and 2, this may be inefficient.\n",
      "  warnings.warn('New multiplier is between 1 and 2, this '\n",
      "/home/teobrien/packages/openfermion/src/openfermion/measurements/sparse_qpe.py:145: UserWarning: New multiplier is between 1 and 2, this may be inefficient.\n",
      "  warnings.warn('New multiplier is between 1 and 2, this '\n",
      "/home/teobrien/packages/openfermion/src/openfermion/measurements/sparse_qpe.py:145: UserWarning: New multiplier is between 1 and 2, this may be inefficient.\n",
      "  warnings.warn('New multiplier is between 1 and 2, this '\n",
      "/home/teobrien/packages/openfermion/src/openfermion/measurements/sparse_qpe.py:145: UserWarning: New multiplier is between 1 and 2, this may be inefficient.\n",
      "  warnings.warn('New multiplier is between 1 and 2, this '\n",
      "/home/teobrien/packages/openfermion/src/openfermion/measurements/sparse_qpe.py:145: UserWarning: New multiplier is between 1 and 2, this may be inefficient.\n",
      "  warnings.warn('New multiplier is between 1 and 2, this '\n",
      "/home/teobrien/packages/openfermion/src/openfermion/measurements/sparse_qpe.py:145: UserWarning: New multiplier is between 1 and 2, this may be inefficient.\n",
      "  warnings.warn('New multiplier is between 1 and 2, this '\n",
      "/home/teobrien/packages/openfermion/src/openfermion/measurements/sparse_qpe.py:145: UserWarning: New multiplier is between 1 and 2, this may be inefficient.\n",
      "  warnings.warn('New multiplier is between 1 and 2, this '\n",
      "/home/teobrien/packages/openfermion/src/openfermion/measurements/sparse_qpe.py:145: UserWarning: New multiplier is between 1 and 2, this may be inefficient.\n",
      "  warnings.warn('New multiplier is between 1 and 2, this '\n",
      "/home/teobrien/packages/openfermion/src/openfermion/measurements/sparse_qpe.py:145: UserWarning: New multiplier is between 1 and 2, this may be inefficient.\n",
      "  warnings.warn('New multiplier is between 1 and 2, this '\n",
      "/home/teobrien/packages/openfermion/src/openfermion/measurements/sparse_qpe.py:145: UserWarning: New multiplier is between 1 and 2, this may be inefficient.\n",
      "  warnings.warn('New multiplier is between 1 and 2, this '\n",
      "/home/teobrien/packages/openfermion/src/openfermion/measurements/sparse_qpe.py:145: UserWarning: New multiplier is between 1 and 2, this may be inefficient.\n",
      "  warnings.warn('New multiplier is between 1 and 2, this '\n",
      "/home/teobrien/packages/openfermion/src/openfermion/measurements/sparse_qpe.py:145: UserWarning: New multiplier is between 1 and 2, this may be inefficient.\n",
      "  warnings.warn('New multiplier is between 1 and 2, this '\n",
      "/home/teobrien/packages/openfermion/src/openfermion/measurements/sparse_qpe.py:145: UserWarning: New multiplier is between 1 and 2, this may be inefficient.\n",
      "  warnings.warn('New multiplier is between 1 and 2, this '\n",
      "/home/teobrien/packages/openfermion/src/openfermion/measurements/sparse_qpe.py:145: UserWarning: New multiplier is between 1 and 2, this may be inefficient.\n",
      "  warnings.warn('New multiplier is between 1 and 2, this '\n",
      "/home/teobrien/packages/openfermion/src/openfermion/measurements/sparse_qpe.py:145: UserWarning: New multiplier is between 1 and 2, this may be inefficient.\n",
      "  warnings.warn('New multiplier is between 1 and 2, this '\n",
      "/home/teobrien/packages/openfermion/src/openfermion/measurements/sparse_qpe.py:145: UserWarning: New multiplier is between 1 and 2, this may be inefficient.\n",
      "  warnings.warn('New multiplier is between 1 and 2, this '\n",
      "/home/teobrien/packages/openfermion/src/openfermion/measurements/sparse_qpe.py:145: UserWarning: New multiplier is between 1 and 2, this may be inefficient.\n",
      "  warnings.warn('New multiplier is between 1 and 2, this '\n",
      "/home/teobrien/packages/openfermion/src/openfermion/measurements/sparse_qpe.py:145: UserWarning: New multiplier is between 1 and 2, this may be inefficient.\n",
      "  warnings.warn('New multiplier is between 1 and 2, this '\n",
      "/home/teobrien/packages/openfermion/src/openfermion/measurements/sparse_qpe.py:145: UserWarning: New multiplier is between 1 and 2, this may be inefficient.\n",
      "  warnings.warn('New multiplier is between 1 and 2, this '\n",
      "/home/teobrien/packages/openfermion/src/openfermion/measurements/sparse_qpe.py:145: UserWarning: New multiplier is between 1 and 2, this may be inefficient.\n",
      "  warnings.warn('New multiplier is between 1 and 2, this '\n",
      "/home/teobrien/packages/openfermion/src/openfermion/measurements/sparse_qpe.py:145: UserWarning: New multiplier is between 1 and 2, this may be inefficient.\n",
      "  warnings.warn('New multiplier is between 1 and 2, this '\n",
      "/home/teobrien/packages/openfermion/src/openfermion/measurements/sparse_qpe.py:145: UserWarning: New multiplier is between 1 and 2, this may be inefficient.\n",
      "  warnings.warn('New multiplier is between 1 and 2, this '\n",
      "/home/teobrien/packages/openfermion/src/openfermion/measurements/sparse_qpe.py:145: UserWarning: New multiplier is between 1 and 2, this may be inefficient.\n",
      "  warnings.warn('New multiplier is between 1 and 2, this '\n",
      "/home/teobrien/packages/openfermion/src/openfermion/measurements/sparse_qpe.py:145: UserWarning: New multiplier is between 1 and 2, this may be inefficient.\n",
      "  warnings.warn('New multiplier is between 1 and 2, this '\n",
      "/home/teobrien/packages/openfermion/src/openfermion/measurements/sparse_qpe.py:145: UserWarning: New multiplier is between 1 and 2, this may be inefficient.\n",
      "  warnings.warn('New multiplier is between 1 and 2, this '\n",
      "/home/teobrien/packages/openfermion/src/openfermion/measurements/sparse_qpe.py:145: UserWarning: New multiplier is between 1 and 2, this may be inefficient.\n",
      "  warnings.warn('New multiplier is between 1 and 2, this '\n",
      "/home/teobrien/packages/openfermion/src/openfermion/measurements/sparse_qpe.py:145: UserWarning: New multiplier is between 1 and 2, this may be inefficient.\n",
      "  warnings.warn('New multiplier is between 1 and 2, this '\n",
      "/home/teobrien/packages/openfermion/src/openfermion/measurements/sparse_qpe.py:145: UserWarning: New multiplier is between 1 and 2, this may be inefficient.\n",
      "  warnings.warn('New multiplier is between 1 and 2, this '\n",
      "/home/teobrien/packages/openfermion/src/openfermion/measurements/sparse_qpe.py:145: UserWarning: New multiplier is between 1 and 2, this may be inefficient.\n",
      "  warnings.warn('New multiplier is between 1 and 2, this '\n",
      "/home/teobrien/packages/openfermion/src/openfermion/measurements/sparse_qpe.py:145: UserWarning: New multiplier is between 1 and 2, this may be inefficient.\n",
      "  warnings.warn('New multiplier is between 1 and 2, this '\n",
      "/home/teobrien/packages/openfermion/src/openfermion/measurements/sparse_qpe.py:145: UserWarning: New multiplier is between 1 and 2, this may be inefficient.\n",
      "  warnings.warn('New multiplier is between 1 and 2, this '\n",
      "/home/teobrien/packages/openfermion/src/openfermion/measurements/sparse_qpe.py:145: UserWarning: New multiplier is between 1 and 2, this may be inefficient.\n",
      "  warnings.warn('New multiplier is between 1 and 2, this '\n",
      "/home/teobrien/packages/openfermion/src/openfermion/measurements/sparse_qpe.py:145: UserWarning: New multiplier is between 1 and 2, this may be inefficient.\n",
      "  warnings.warn('New multiplier is between 1 and 2, this '\n",
      "/home/teobrien/packages/openfermion/src/openfermion/measurements/sparse_qpe.py:145: UserWarning: New multiplier is between 1 and 2, this may be inefficient.\n",
      "  warnings.warn('New multiplier is between 1 and 2, this '\n",
      "/home/teobrien/packages/openfermion/src/openfermion/measurements/sparse_qpe.py:145: UserWarning: New multiplier is between 1 and 2, this may be inefficient.\n",
      "  warnings.warn('New multiplier is between 1 and 2, this '\n",
      "/home/teobrien/packages/openfermion/src/openfermion/measurements/sparse_qpe.py:145: UserWarning: New multiplier is between 1 and 2, this may be inefficient.\n",
      "  warnings.warn('New multiplier is between 1 and 2, this '\n",
      "/home/teobrien/packages/openfermion/src/openfermion/measurements/sparse_qpe.py:145: UserWarning: New multiplier is between 1 and 2, this may be inefficient.\n",
      "  warnings.warn('New multiplier is between 1 and 2, this '\n",
      "/home/teobrien/packages/openfermion/src/openfermion/measurements/sparse_qpe.py:145: UserWarning: New multiplier is between 1 and 2, this may be inefficient.\n",
      "  warnings.warn('New multiplier is between 1 and 2, this '\n",
      "/home/teobrien/packages/openfermion/src/openfermion/measurements/sparse_qpe.py:145: UserWarning: New multiplier is between 1 and 2, this may be inefficient.\n",
      "  warnings.warn('New multiplier is between 1 and 2, this '\n",
      "/home/teobrien/packages/openfermion/src/openfermion/measurements/sparse_qpe.py:145: UserWarning: New multiplier is between 1 and 2, this may be inefficient.\n",
      "  warnings.warn('New multiplier is between 1 and 2, this '\n",
      "/home/teobrien/packages/openfermion/src/openfermion/measurements/sparse_qpe.py:145: UserWarning: New multiplier is between 1 and 2, this may be inefficient.\n",
      "  warnings.warn('New multiplier is between 1 and 2, this '\n"
     ]
    },
    {
     "name": "stderr",
     "output_type": "stream",
     "text": [
      "/home/teobrien/packages/openfermion/src/openfermion/measurements/sparse_qpe.py:145: UserWarning: New multiplier is between 1 and 2, this may be inefficient.\n",
      "  warnings.warn('New multiplier is between 1 and 2, this '\n",
      "/home/teobrien/packages/openfermion/src/openfermion/measurements/sparse_qpe.py:145: UserWarning: New multiplier is between 1 and 2, this may be inefficient.\n",
      "  warnings.warn('New multiplier is between 1 and 2, this '\n",
      "/home/teobrien/packages/openfermion/src/openfermion/measurements/sparse_qpe.py:145: UserWarning: New multiplier is between 1 and 2, this may be inefficient.\n",
      "  warnings.warn('New multiplier is between 1 and 2, this '\n",
      "/home/teobrien/packages/openfermion/src/openfermion/measurements/sparse_qpe.py:145: UserWarning: New multiplier is between 1 and 2, this may be inefficient.\n",
      "  warnings.warn('New multiplier is between 1 and 2, this '\n",
      "/home/teobrien/packages/openfermion/src/openfermion/measurements/sparse_qpe.py:145: UserWarning: New multiplier is between 1 and 2, this may be inefficient.\n",
      "  warnings.warn('New multiplier is between 1 and 2, this '\n",
      "/home/teobrien/packages/openfermion/src/openfermion/measurements/sparse_qpe.py:145: UserWarning: New multiplier is between 1 and 2, this may be inefficient.\n",
      "  warnings.warn('New multiplier is between 1 and 2, this '\n",
      "/home/teobrien/packages/openfermion/src/openfermion/measurements/sparse_qpe.py:145: UserWarning: New multiplier is between 1 and 2, this may be inefficient.\n",
      "  warnings.warn('New multiplier is between 1 and 2, this '\n",
      "/home/teobrien/packages/openfermion/src/openfermion/measurements/sparse_qpe.py:145: UserWarning: New multiplier is between 1 and 2, this may be inefficient.\n",
      "  warnings.warn('New multiplier is between 1 and 2, this '\n",
      "/home/teobrien/packages/openfermion/src/openfermion/measurements/sparse_qpe.py:145: UserWarning: New multiplier is between 1 and 2, this may be inefficient.\n",
      "  warnings.warn('New multiplier is between 1 and 2, this '\n",
      "/home/teobrien/packages/openfermion/src/openfermion/measurements/sparse_qpe.py:145: UserWarning: New multiplier is between 1 and 2, this may be inefficient.\n",
      "  warnings.warn('New multiplier is between 1 and 2, this '\n",
      "/home/teobrien/packages/openfermion/src/openfermion/measurements/sparse_qpe.py:145: UserWarning: New multiplier is between 1 and 2, this may be inefficient.\n",
      "  warnings.warn('New multiplier is between 1 and 2, this '\n",
      "/home/teobrien/packages/openfermion/src/openfermion/measurements/sparse_qpe.py:145: UserWarning: New multiplier is between 1 and 2, this may be inefficient.\n",
      "  warnings.warn('New multiplier is between 1 and 2, this '\n",
      "/home/teobrien/packages/openfermion/src/openfermion/measurements/sparse_qpe.py:145: UserWarning: New multiplier is between 1 and 2, this may be inefficient.\n",
      "  warnings.warn('New multiplier is between 1 and 2, this '\n",
      "/home/teobrien/packages/openfermion/src/openfermion/measurements/sparse_qpe.py:145: UserWarning: New multiplier is between 1 and 2, this may be inefficient.\n",
      "  warnings.warn('New multiplier is between 1 and 2, this '\n",
      "/home/teobrien/packages/openfermion/src/openfermion/measurements/sparse_qpe.py:145: UserWarning: New multiplier is between 1 and 2, this may be inefficient.\n",
      "  warnings.warn('New multiplier is between 1 and 2, this '\n",
      "/home/teobrien/packages/openfermion/src/openfermion/measurements/sparse_qpe.py:145: UserWarning: New multiplier is between 1 and 2, this may be inefficient.\n",
      "  warnings.warn('New multiplier is between 1 and 2, this '\n",
      "/home/teobrien/packages/openfermion/src/openfermion/measurements/sparse_qpe.py:145: UserWarning: New multiplier is between 1 and 2, this may be inefficient.\n",
      "  warnings.warn('New multiplier is between 1 and 2, this '\n",
      "/home/teobrien/packages/openfermion/src/openfermion/measurements/sparse_qpe.py:145: UserWarning: New multiplier is between 1 and 2, this may be inefficient.\n",
      "  warnings.warn('New multiplier is between 1 and 2, this '\n",
      "/home/teobrien/packages/openfermion/src/openfermion/measurements/sparse_qpe.py:145: UserWarning: New multiplier is between 1 and 2, this may be inefficient.\n",
      "  warnings.warn('New multiplier is between 1 and 2, this '\n",
      "/home/teobrien/packages/openfermion/src/openfermion/measurements/sparse_qpe.py:145: UserWarning: New multiplier is between 1 and 2, this may be inefficient.\n",
      "  warnings.warn('New multiplier is between 1 and 2, this '\n",
      "/home/teobrien/packages/openfermion/src/openfermion/measurements/sparse_qpe.py:145: UserWarning: New multiplier is between 1 and 2, this may be inefficient.\n",
      "  warnings.warn('New multiplier is between 1 and 2, this '\n",
      "/home/teobrien/packages/openfermion/src/openfermion/measurements/sparse_qpe.py:145: UserWarning: New multiplier is between 1 and 2, this may be inefficient.\n",
      "  warnings.warn('New multiplier is between 1 and 2, this '\n",
      "/home/teobrien/packages/openfermion/src/openfermion/measurements/sparse_qpe.py:145: UserWarning: New multiplier is between 1 and 2, this may be inefficient.\n",
      "  warnings.warn('New multiplier is between 1 and 2, this '\n",
      "/home/teobrien/packages/openfermion/src/openfermion/measurements/sparse_qpe.py:145: UserWarning: New multiplier is between 1 and 2, this may be inefficient.\n",
      "  warnings.warn('New multiplier is between 1 and 2, this '\n",
      "/home/teobrien/packages/openfermion/src/openfermion/measurements/sparse_qpe.py:145: UserWarning: New multiplier is between 1 and 2, this may be inefficient.\n",
      "  warnings.warn('New multiplier is between 1 and 2, this '\n",
      "/home/teobrien/packages/openfermion/src/openfermion/measurements/sparse_qpe.py:145: UserWarning: New multiplier is between 1 and 2, this may be inefficient.\n",
      "  warnings.warn('New multiplier is between 1 and 2, this '\n",
      "/home/teobrien/packages/openfermion/src/openfermion/measurements/sparse_qpe.py:145: UserWarning: New multiplier is between 1 and 2, this may be inefficient.\n",
      "  warnings.warn('New multiplier is between 1 and 2, this '\n",
      "/home/teobrien/packages/openfermion/src/openfermion/measurements/sparse_qpe.py:145: UserWarning: New multiplier is between 1 and 2, this may be inefficient.\n",
      "  warnings.warn('New multiplier is between 1 and 2, this '\n",
      "/home/teobrien/packages/openfermion/src/openfermion/measurements/sparse_qpe.py:145: UserWarning: New multiplier is between 1 and 2, this may be inefficient.\n",
      "  warnings.warn('New multiplier is between 1 and 2, this '\n",
      "/home/teobrien/packages/openfermion/src/openfermion/measurements/sparse_qpe.py:145: UserWarning: New multiplier is between 1 and 2, this may be inefficient.\n",
      "  warnings.warn('New multiplier is between 1 and 2, this '\n",
      "/home/teobrien/packages/openfermion/src/openfermion/measurements/sparse_qpe.py:145: UserWarning: New multiplier is between 1 and 2, this may be inefficient.\n",
      "  warnings.warn('New multiplier is between 1 and 2, this '\n",
      "/home/teobrien/packages/openfermion/src/openfermion/measurements/sparse_qpe.py:145: UserWarning: New multiplier is between 1 and 2, this may be inefficient.\n",
      "  warnings.warn('New multiplier is between 1 and 2, this '\n",
      "/home/teobrien/packages/openfermion/src/openfermion/measurements/sparse_qpe.py:145: UserWarning: New multiplier is between 1 and 2, this may be inefficient.\n",
      "  warnings.warn('New multiplier is between 1 and 2, this '\n",
      "/home/teobrien/packages/openfermion/src/openfermion/measurements/sparse_qpe.py:145: UserWarning: New multiplier is between 1 and 2, this may be inefficient.\n",
      "  warnings.warn('New multiplier is between 1 and 2, this '\n",
      "/home/teobrien/packages/openfermion/src/openfermion/measurements/sparse_qpe.py:145: UserWarning: New multiplier is between 1 and 2, this may be inefficient.\n",
      "  warnings.warn('New multiplier is between 1 and 2, this '\n",
      "/home/teobrien/packages/openfermion/src/openfermion/measurements/sparse_qpe.py:145: UserWarning: New multiplier is between 1 and 2, this may be inefficient.\n",
      "  warnings.warn('New multiplier is between 1 and 2, this '\n",
      "/home/teobrien/packages/openfermion/src/openfermion/measurements/sparse_qpe.py:145: UserWarning: New multiplier is between 1 and 2, this may be inefficient.\n",
      "  warnings.warn('New multiplier is between 1 and 2, this '\n",
      "/home/teobrien/packages/openfermion/src/openfermion/measurements/sparse_qpe.py:145: UserWarning: New multiplier is between 1 and 2, this may be inefficient.\n",
      "  warnings.warn('New multiplier is between 1 and 2, this '\n",
      "/home/teobrien/packages/openfermion/src/openfermion/measurements/sparse_qpe.py:145: UserWarning: New multiplier is between 1 and 2, this may be inefficient.\n",
      "  warnings.warn('New multiplier is between 1 and 2, this '\n",
      "/home/teobrien/packages/openfermion/src/openfermion/measurements/sparse_qpe.py:145: UserWarning: New multiplier is between 1 and 2, this may be inefficient.\n",
      "  warnings.warn('New multiplier is between 1 and 2, this '\n",
      "/home/teobrien/packages/openfermion/src/openfermion/measurements/sparse_qpe.py:145: UserWarning: New multiplier is between 1 and 2, this may be inefficient.\n",
      "  warnings.warn('New multiplier is between 1 and 2, this '\n",
      "/home/teobrien/packages/openfermion/src/openfermion/measurements/sparse_qpe.py:145: UserWarning: New multiplier is between 1 and 2, this may be inefficient.\n",
      "  warnings.warn('New multiplier is between 1 and 2, this '\n",
      "/home/teobrien/packages/openfermion/src/openfermion/measurements/sparse_qpe.py:145: UserWarning: New multiplier is between 1 and 2, this may be inefficient.\n",
      "  warnings.warn('New multiplier is between 1 and 2, this '\n",
      "/home/teobrien/packages/openfermion/src/openfermion/measurements/sparse_qpe.py:145: UserWarning: New multiplier is between 1 and 2, this may be inefficient.\n",
      "  warnings.warn('New multiplier is between 1 and 2, this '\n",
      "/home/teobrien/packages/openfermion/src/openfermion/measurements/sparse_qpe.py:145: UserWarning: New multiplier is between 1 and 2, this may be inefficient.\n",
      "  warnings.warn('New multiplier is between 1 and 2, this '\n"
     ]
    },
    {
     "name": "stdout",
     "output_type": "stream",
     "text": [
      "Executed in: 0:01:23.356916\n",
      "69 Started at: 2020-11-10 09:46:17.633817\n",
      "[2.33081068 4.5646325  6.24929148 3.24297857 3.39528448]\n"
     ]
    },
    {
     "name": "stderr",
     "output_type": "stream",
     "text": [
      "/home/teobrien/packages/openfermion/src/openfermion/measurements/sparse_qpe.py:46: UserWarning: No matched phase found, could be spurious detection at this order.\n",
      "  warnings.warn('No matched phase found, could be spurious'\n",
      "/home/teobrien/packages/openfermion/src/openfermion/measurements/sparse_qpe.py:46: UserWarning: No matched phase found, could be spurious detection at this order.\n",
      "  warnings.warn('No matched phase found, could be spurious'\n",
      "/home/teobrien/packages/openfermion/src/openfermion/measurements/sparse_qpe.py:46: UserWarning: No matched phase found, could be spurious detection at this order.\n",
      "  warnings.warn('No matched phase found, could be spurious'\n",
      "/home/teobrien/packages/openfermion/src/openfermion/measurements/sparse_qpe.py:46: UserWarning: No matched phase found, could be spurious detection at this order.\n",
      "  warnings.warn('No matched phase found, could be spurious'\n",
      "/home/teobrien/packages/openfermion/src/openfermion/measurements/sparse_qpe.py:46: UserWarning: No matched phase found, could be spurious detection at this order.\n",
      "  warnings.warn('No matched phase found, could be spurious'\n",
      "/home/teobrien/packages/openfermion/src/openfermion/measurements/sparse_qpe.py:46: UserWarning: No matched phase found, could be spurious detection at this order.\n",
      "  warnings.warn('No matched phase found, could be spurious'\n",
      "/home/teobrien/packages/openfermion/src/openfermion/measurements/sparse_qpe.py:46: UserWarning: No matched phase found, could be spurious detection at this order.\n",
      "  warnings.warn('No matched phase found, could be spurious'\n",
      "/home/teobrien/packages/openfermion/src/openfermion/measurements/sparse_qpe.py:46: UserWarning: No matched phase found, could be spurious detection at this order.\n",
      "  warnings.warn('No matched phase found, could be spurious'\n"
     ]
    },
    {
     "name": "stdout",
     "output_type": "stream",
     "text": [
      "Executed in: 0:02:13.865364\n",
      "70 Started at: 2020-11-10 09:48:31.499221\n",
      "[3.78027817 3.55955594 4.98380904 4.83102136 3.35345084]\n",
      "Executed in: 0:01:38.704093\n",
      "71 Started at: 2020-11-10 09:50:10.203396\n",
      "[0.98488601 3.12355739 5.14339059 3.34218401 4.94452424]\n",
      "Executed in: 0:01:44.947036\n",
      "72 Started at: 2020-11-10 09:51:55.150510\n",
      "[1.20128585 5.1138595  2.1617585  3.08575635 4.04669107]\n",
      "Executed in: 0:01:45.777674\n",
      "73 Started at: 2020-11-10 09:53:40.928283\n",
      "[2.6910128  1.01307253 5.6524438  1.09052406 3.10978126]\n"
     ]
    },
    {
     "name": "stderr",
     "output_type": "stream",
     "text": [
      "/home/teobrien/packages/openfermion/src/openfermion/measurements/sparse_qpe.py:145: UserWarning: New multiplier is between 1 and 2, this may be inefficient.\n",
      "  warnings.warn('New multiplier is between 1 and 2, this '\n"
     ]
    },
    {
     "name": "stdout",
     "output_type": "stream",
     "text": [
      "Executed in: 0:01:51.199298\n",
      "74 Started at: 2020-11-10 09:55:32.127662\n",
      "[0.87906399 5.1738157  4.67067753 1.57925386 3.47029526]\n"
     ]
    },
    {
     "name": "stderr",
     "output_type": "stream",
     "text": [
      "/home/teobrien/packages/openfermion/src/openfermion/measurements/sparse_qpe.py:145: UserWarning: New multiplier is between 1 and 2, this may be inefficient.\n",
      "  warnings.warn('New multiplier is between 1 and 2, this '\n",
      "/home/teobrien/packages/openfermion/src/openfermion/measurements/sparse_qpe.py:145: UserWarning: New multiplier is between 1 and 2, this may be inefficient.\n",
      "  warnings.warn('New multiplier is between 1 and 2, this '\n",
      "/home/teobrien/packages/openfermion/src/openfermion/measurements/sparse_qpe.py:145: UserWarning: New multiplier is between 1 and 2, this may be inefficient.\n",
      "  warnings.warn('New multiplier is between 1 and 2, this '\n"
     ]
    },
    {
     "name": "stdout",
     "output_type": "stream",
     "text": [
      "Executed in: 0:01:39.279290\n",
      "75 Started at: 2020-11-10 09:57:11.407035\n",
      "[2.35647719 2.91801494 2.7752133  4.7749222  0.125811  ]\n",
      "Executed in: 0:01:54.969900\n",
      "76 Started at: 2020-11-10 09:59:06.377024\n",
      "[5.72489013 4.39242053 4.99467518 2.14659144 4.74881998]\n"
     ]
    },
    {
     "name": "stderr",
     "output_type": "stream",
     "text": [
      "/home/teobrien/packages/openfermion/src/openfermion/measurements/sparse_qpe.py:145: UserWarning: New multiplier is between 1 and 2, this may be inefficient.\n",
      "  warnings.warn('New multiplier is between 1 and 2, this '\n",
      "/home/teobrien/packages/openfermion/src/openfermion/measurements/sparse_qpe.py:145: UserWarning: New multiplier is between 1 and 2, this may be inefficient.\n",
      "  warnings.warn('New multiplier is between 1 and 2, this '\n",
      "/home/teobrien/packages/openfermion/src/openfermion/measurements/sparse_qpe.py:145: UserWarning: New multiplier is between 1 and 2, this may be inefficient.\n",
      "  warnings.warn('New multiplier is between 1 and 2, this '\n",
      "/home/teobrien/packages/openfermion/src/openfermion/measurements/sparse_qpe.py:145: UserWarning: New multiplier is between 1 and 2, this may be inefficient.\n",
      "  warnings.warn('New multiplier is between 1 and 2, this '\n",
      "/home/teobrien/packages/openfermion/src/openfermion/measurements/sparse_qpe.py:145: UserWarning: New multiplier is between 1 and 2, this may be inefficient.\n",
      "  warnings.warn('New multiplier is between 1 and 2, this '\n",
      "/home/teobrien/packages/openfermion/src/openfermion/measurements/sparse_qpe.py:145: UserWarning: New multiplier is between 1 and 2, this may be inefficient.\n",
      "  warnings.warn('New multiplier is between 1 and 2, this '\n",
      "/home/teobrien/packages/openfermion/src/openfermion/measurements/sparse_qpe.py:145: UserWarning: New multiplier is between 1 and 2, this may be inefficient.\n",
      "  warnings.warn('New multiplier is between 1 and 2, this '\n",
      "/home/teobrien/packages/openfermion/src/openfermion/measurements/sparse_qpe.py:145: UserWarning: New multiplier is between 1 and 2, this may be inefficient.\n",
      "  warnings.warn('New multiplier is between 1 and 2, this '\n",
      "/home/teobrien/packages/openfermion/src/openfermion/measurements/sparse_qpe.py:145: UserWarning: New multiplier is between 1 and 2, this may be inefficient.\n",
      "  warnings.warn('New multiplier is between 1 and 2, this '\n"
     ]
    }
   ],
   "source": [
    "method = 'qeep-sparse'\n",
    "\n",
    "costs, est_errors, failure_booleans = run_estimation_errors(\n",
    "    method, num_phases, max_order, delta, confidence_alpha, confidence_beta, cutoff, num_repetitions)\n",
    "\n",
    "print('Proportion of simulations finished before the last order:',\n",
    "      np.sum([len(f)<max_order+1 for f in failure_booleans])/num_repetitions)\n",
    "\n",
    "plt.figure(figsize = (10, 10))\n",
    "plot_estimation_errors(costs, est_errors)\n",
    "plt.plot(np.linspace(1e5, 1e10), 5000/np.linspace(1e5, 1e10), 'b--', label = r'$y \\sim x^{-1}$')\n",
    "plt.legend()\n",
    "plt.show()\n",
    "\n",
    "np.save(f'costs_{method}_multi_order_newest.npy', costs)\n",
    "np.save(f'errors_{method}_multi_order_newest.npy', est_errors)\n",
    "np.save(f'failures_{method}_multi_order_newest.npy', failure_booleans)"
   ]
  },
  {
   "cell_type": "markdown",
   "metadata": {},
   "source": [
    "# Plotting"
   ]
  },
  {
   "cell_type": "code",
   "execution_count": 8,
   "metadata": {
    "ExecuteTime": {
     "end_time": "2020-11-09T20:22:13.212877Z",
     "start_time": "2020-11-09T20:22:13.189906Z"
    }
   },
   "outputs": [
    {
     "name": "stderr",
     "output_type": "stream",
     "text": [
      "/home/teobrien/python_envs/standard_env_301020/lib/python3.8/site-packages/ipykernel/ipkernel.py:287: DeprecationWarning: `should_run_async` will not call `transform_cell` automatically in the future. Please pass the result to `transformed_cell` argument and any exception that happen during thetransform in `preprocessing_exc_tuple` in IPython 7.17 and above.\n",
      "  and should_run_async(code)\n"
     ]
    }
   ],
   "source": [
    "import numpy as np\n",
    "import matplotlib.pyplot as plt\n",
    "from matplotlib import rcParams\n",
    "\n",
    "rcParams['mathtext.fontset'] = 'custom'\n",
    "rcParams['mathtext.rm'] = 'Bitstream Vera Sans'\n",
    "rcParams['mathtext.it'] = 'Bitstream Vera Sans:italic'\n",
    "rcParams['mathtext.bf'] = 'Bitstream Vera Sans:bold'\n",
    "\n",
    "\n",
    "rcParams['mathtext.fontset'] = 'stix'\n",
    "rcParams['font.family'] = 'STIXGeneral'\n",
    "\n",
    "rcParams['font.sans-serif'] = 'Modern Roman'\n",
    "rcParams['font.family'] = \"serif\"\n",
    "\n",
    "rcParams['font.size'] = 16\n",
    "\n",
    "def plot_estimation_errors(costs_big, est_errors_big, color, conf, rejection_multiplier=20):\n",
    "    midpoints = np.sort(np.kron(10**np.arange(\n",
    "        start = np.floor(np.log10(np.min([np.min(c) for c in costs_big]))),\n",
    "        stop = 1+np.ceil(np.log10(np.max([np.max(c) for c in costs_big])))\n",
    "    ), [1, 3]))\n",
    "    log_midpoints = np.log(midpoints)\n",
    "    log_edges = 0.5 * (log_midpoints[:-1] + log_midpoints[1:])\n",
    "    edges = np.exp(log_edges)\n",
    "    print(midpoints)\n",
    "    print(edges)\n",
    "    right_edge = max(edges)\n",
    "    num_edges = len(edges)\n",
    "    bin_xvals = [[] for x in midpoints]\n",
    "    bin_yvals = [[] for x in midpoints]\n",
    "    num_rejections = 0\n",
    "    for costs, est_errors in zip(costs_big, est_errors_big):\n",
    "        for cvec, errorvec in zip(costs, est_errors):\n",
    "            for c, error in zip(cvec, errorvec):\n",
    "#                 if error > 0.5:\n",
    "#                     num_rejections += 1\n",
    "#                     continue\n",
    "                if c > right_edge:\n",
    "                    bin_xvals[-1].append(c)\n",
    "                    bin_yvals[-1].append(error)\n",
    "                else:\n",
    "                    index = min([j for j in range(num_edges) if edges[j] > c])\n",
    "                    bin_xvals[index].append(c)\n",
    "                    bin_yvals[index].append(error)\n",
    "#     for bx, by in zip(bin_xvals, bin_yvals):\n",
    "#         mean_by = np.mean(by)\n",
    "#         std_error_by = np.std(by) / np.sqrt(len(by))\n",
    "#         for j in range(len(bx)-1, -1, -1):\n",
    "#             if abs(by[j]-mean_by) > rejection_multiplier * std_error_by or by[j] > 0.5:\n",
    "#                 del by[j]\n",
    "#                 del bx[j]\n",
    "#                 num_rejections += 1\n",
    "    print('Proportion of rejected samples: {}'.format(num_rejections / sum([len(b) for b in bin_xvals])))\n",
    "    for n in range(num_edges, -1, -1):\n",
    "        if len(bin_xvals[n]) == 0:\n",
    "            del bin_xvals[n]\n",
    "            del bin_yvals[n]\n",
    "            \n",
    "    binx_means = [np.mean(b) for b in bin_xvals]\n",
    "    binx_err = [np.std(b) / np.sqrt(len(b)) * 2 for b in bin_xvals]\n",
    "    biny_means = [np.mean(b) for b in bin_yvals]\n",
    "    biny_max = [np.percentile(b, conf) for b in bin_yvals]\n",
    "    biny_up = [bmax-bmean for bmax,bmean in zip(biny_max, biny_means)]\n",
    "    biny_min  = [np.percentile(b, 100-conf) for b in bin_yvals]\n",
    "    biny_down = [bmean-bmin for bmin,bmean in zip(biny_min, biny_means)]\n",
    "    \n",
    "    factor = np.exp(np.polyfit(np.zeros(len(binx_means)), np.log(binx_means)+np.log(biny_means), 0))\n",
    "    print('Factor:',factor)\n",
    "    \n",
    "#     prev_ylims = plt.gca().get_ylim()\n",
    "#     prev_xlims = plt.gca().get_xlim()\n",
    "#     ymin = min(biny_min)\n",
    "#     ymax = max(biny_max)\n",
    "#     xmin = binx_means[0]-binx_err[0]\n",
    "#     xmax = binx_means[-1]+binx_err[-1]\n",
    "    \n",
    "#     plt.hlines([ymin, ymax], xmin, xmax, color = color)\n",
    "#     plt.vlines([xmin, xmax], ymin, ymax, color = color)\n",
    "    \n",
    "#     print(prev_ylims, ymin, ymax)\n",
    "#     if(prev_ylims == (0,1)):\n",
    "#         plt.ylim(ymin, ymax)\n",
    "#     else:\n",
    "#         plt.ylim(min(ymin, prev_ylims[0]), max(ymax, prev_ylims[1]))\n",
    "#     print(prev_xlims, xmin, xmax)\n",
    "#     if(prev_xlims == (0,1)):\n",
    "#         plt.xlim(xmin, xmax)\n",
    "#     else:\n",
    "#         plt.xlim(min(xmin, prev_xlims[0]), max(xmax, prev_xlims[1]))\n",
    "    \n",
    "    \n",
    "    plt.plot([x for b in bin_xvals for x in b], [y for b in bin_yvals for y in b],\n",
    "             '.', markersize=1, color = color, alpha = 0.5)\n",
    "\n",
    "    #plt.plot(binx_means, biny_means, 'r+', markersize=20, markeredgewidth=3)\n",
    "    plt.plot(binx_means, biny_means, 'o', markersize=5, color = color)\n",
    "    plt.errorbar(binx_means, biny_means, yerr=(biny_down, biny_up), xerr=binx_err, fmt='.',\n",
    "                 color=color, capsize=8, capthick=2, linewidth=2)\n",
    "    plt.xscale('log')\n",
    "    plt.yscale('log')\n",
    "    xvec_temp = np.linspace(min(binx_means)/1e1, max(binx_means)*1e1)\n",
    "    plt.plot(xvec_temp, factor/xvec_temp, '--', color = 'k')\n",
    "    #plt.plot(midpoints, 5000/midpoints, 'b--', label=r'$y\\sim 1/x$')\n",
    "    #plt.legend()#fontsize=22)\n",
    "    plt.xlabel(r'Total quantum cost $T$')\n",
    "    plt.ylabel(r'Estimator error $\\delta$')\n",
    "#plot_estimation_errors(costs_somma, errors_somma, color_somma, 80)"
   ]
  },
  {
   "cell_type": "code",
   "execution_count": 9,
   "metadata": {
    "ExecuteTime": {
     "end_time": "2020-11-09T20:22:14.893572Z",
     "start_time": "2020-11-09T20:22:14.245691Z"
    },
    "scrolled": false
   },
   "outputs": [
    {
     "name": "stderr",
     "output_type": "stream",
     "text": [
      "/home/teobrien/python_envs/standard_env_301020/lib/python3.8/site-packages/ipykernel/ipkernel.py:287: DeprecationWarning: `should_run_async` will not call `transform_cell` automatically in the future. Please pass the result to `transformed_cell` argument and any exception that happen during thetransform in `preprocessing_exc_tuple` in IPython 7.17 and above.\n",
      "  and should_run_async(code)\n"
     ]
    },
    {
     "name": "stdout",
     "output_type": "stream",
     "text": [
      "[1.e+09 3.e+09 1.e+10 3.e+10 1.e+11 3.e+11 1.e+12 3.e+12 1.e+13 3.e+13\n",
      " 1.e+14 3.e+14 1.e+15 3.e+15 1.e+16 3.e+16 1.e+17 3.e+17 1.e+18 3.e+18]\n",
      "[1.73205081e+09 5.47722558e+09 1.73205081e+10 5.47722558e+10\n",
      " 1.73205081e+11 5.47722558e+11 1.73205081e+12 5.47722558e+12\n",
      " 1.73205081e+13 5.47722558e+13 1.73205081e+14 5.47722558e+14\n",
      " 1.73205081e+15 5.47722558e+15 1.73205081e+16 5.47722558e+16\n",
      " 1.73205081e+17 5.47722558e+17 1.73205081e+18]\n",
      "Proportion of rejected samples: 0.0\n",
      "Factor: [2.18699135e+10]\n",
      "[1.e+04 3.e+04 1.e+05 3.e+05 1.e+06 3.e+06 1.e+07 3.e+07 1.e+08 3.e+08\n",
      " 1.e+09 3.e+09 1.e+10 3.e+10 1.e+11 3.e+11 1.e+12 3.e+12 1.e+13 3.e+13\n",
      " 1.e+14 3.e+14]\n",
      "[1.73205081e+04 5.47722558e+04 1.73205081e+05 5.47722558e+05\n",
      " 1.73205081e+06 5.47722558e+06 1.73205081e+07 5.47722558e+07\n",
      " 1.73205081e+08 5.47722558e+08 1.73205081e+09 5.47722558e+09\n",
      " 1.73205081e+10 5.47722558e+10 1.73205081e+11 5.47722558e+11\n",
      " 1.73205081e+12 5.47722558e+12 1.73205081e+13 5.47722558e+13\n",
      " 1.73205081e+14]\n",
      "Proportion of rejected samples: 0.0\n",
      "Factor: [282.16355877]\n",
      "(1.1887217738182018e-14, 621.0351058210381)\n"
     ]
    },
    {
     "data": {
      "image/png": "[encoded data removed]",
      "text/plain": [
       "<Figure size 432x432 with 1 Axes>"
      ]
     },
     "metadata": {
      "needs_background": "light"
     },
     "output_type": "display_data"
    }
   ],
   "source": [
    "costs_somma = np.load('costs_qeep_multi_order_newest.npy', allow_pickle = True)\n",
    "errors_somma = np.load('errors_qeep_multi_order_newest.npy', allow_pickle = True)\n",
    "color_somma = 'darkblue'\n",
    "\n",
    "# costs_somma_lc = np.load('costs_qeep_lowconfidence_multi_order_newest.npy', allow_pickle = True)\n",
    "# errors_somma_lc = np.load('errors_qeep_lowconfidence_multi_order_newest.npy', allow_pickle = True)\n",
    "# color_somma_lc = 'darkred'\n",
    "\n",
    "costs_prony = np.load('costs_pencil_multi_order_newest.npy', allow_pickle = True)\n",
    "errors_prony = np.load('errors_pencil_multi_order_newest.npy', allow_pickle = True)\n",
    "color_prony = 'darkgreen'\n",
    "\n",
    "\n",
    "plt.figure(figsize = (6, 6))\n",
    "plot_estimation_errors(costs_somma, errors_somma, color_somma, 80)\n",
    "#plot_estimation_errors(costs_somma_lc, errors_somma_lc, color_somma_lc, 80)\n",
    "plot_estimation_errors(costs_prony, errors_prony, color_prony, 80)\n",
    "\n",
    "plt.errorbar([],[],[], [], '.', color='black', capsize=3, capthick=3, linewidth = 3, label = 'Binned means')\n",
    "plt.plot([],[], '.', color = color_somma, markersize = 10, label = r'QEEP')\n",
    "# plt.plot([],[], '.', color = color_somma_lc, markersize = 10, label = r'QEEP low conf. ($34\\%$ failed)')\n",
    "plt.plot([],[], '.', color = color_prony, markersize = 10, label = r'Matrix pencil')\n",
    "plt.plot([],[], '--', color = 'black', label = r'$\\delta \\sim T^{-1}$')\n",
    "plt.plot([],[], '.', color = 'black', markersize = 1, label = r'Data points')\n",
    "\n",
    "plt.legend(bbox_to_anchor=(1.05, 1), loc='upper left', fontsize=14)\n",
    "\n",
    "print(plt.gca().get_ylim())\n",
    "#plt.xlim(1.5e5, 7e9)\n",
    "#plt.ylim(1e-8, 0.8)\n",
    "plt.savefig('error_vs_cost_plot_new.pdf',bbox_inches='tight')\n",
    "plt.show()"
   ]
  },
  {
   "cell_type": "code",
   "execution_count": null,
   "metadata": {},
   "outputs": [],
   "source": []
  }
 ],
 "metadata": {
  "kernelspec": {
   "display_name": "Python 3",
   "language": "python",
   "name": "python3"
  },
  "language_info": {
   "codemirror_mode": {
    "name": "ipython",
    "version": 3
   },
   "file_extension": ".py",
   "mimetype": "text/x-python",
   "name": "python",
   "nbconvert_exporter": "python",
   "pygments_lexer": "ipython3",
   "version": "3.8.7"
  },
  "toc": {
   "base_numbering": 1,
   "nav_menu": {},
   "number_sections": true,
   "sideBar": true,
   "skip_h1_title": false,
   "title_cell": "Table of Contents",
   "title_sidebar": "Contents",
   "toc_cell": false,
   "toc_position": {},
   "toc_section_display": true,
   "toc_window_display": false
  },
  "varInspector": {
   "cols": {
    "lenName": 16,
    "lenType": 16,
    "lenVar": 40
   },
   "kernels_config": {
    "python": {
     "delete_cmd_postfix": "",
     "delete_cmd_prefix": "del ",
     "library": "var_list.py",
     "varRefreshCmd": "print(var_dic_list())"
    },
    "r": {
     "delete_cmd_postfix": ") ",
     "delete_cmd_prefix": "rm(",
     "library": "var_list.r",
     "varRefreshCmd": "cat(var_dic_list()) "
    }
   },
   "types_to_exclude": [
    "module",
    "function",
    "builtin_function_or_method",
    "instance",
    "_Feature"
   ],
   "window_display": false
  }
 },
 "nbformat": 4,
 "nbformat_minor": 4
}
