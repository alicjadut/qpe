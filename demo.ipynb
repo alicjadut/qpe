{
 "cells": [
  {
   "cell_type": "markdown",
   "metadata": {
    "toc": true
   },
   "source": [
    "<h1>Table of Contents<span class=\"tocSkip\"></span></h1>\n",
    "<div class=\"toc\"><ul class=\"toc-item\"></ul></div>"
   ]
  },
  {
   "cell_type": "code",
   "execution_count": null,
   "metadata": {
    "ExecuteTime": {
     "end_time": "2021-04-14T11:13:07.101825Z",
     "start_time": "2021-04-14T11:12:56.513820Z"
    },
    "scrolled": false
   },
   "outputs": [
    {
     "name": "stdout",
     "output_type": "stream",
     "text": [
      "pencil 0.02\n"
     ]
    },
    {
     "name": "stderr",
     "output_type": "stream",
     "text": [
      "/home/teobrien/work/projects/heisenberg_limited_multiphase/Alicja_github/qpe/qeep_estimators.py:54: RuntimeWarning: divide by zero encountered in log\n",
      "  numpy.log(1 - confidence**(1 / num_points_sampled)) / error**4)))\n"
     ]
    },
    {
     "name": "stdout",
     "output_type": "stream",
     "text": [
      "phase estimates, order 0\n",
      "[3.78069145 4.34930837 0.91312364 4.903011  ]\n",
      "expected error: 0.02\n",
      "entering kappa finder\n",
      "[3, 21, 7, 17, 3, 14]\n",
      "trying at order d:  1\n",
      "aliased phase estimates at order 1\n",
      "[1.9031609  0.02289157 3.56931047 5.07754223]\n",
      "expected phase estimates at this order\n",
      "[4.90301101 0.91312365 3.78069144 4.34930837]\n",
      "[3.5693105  5.07754222 0.02289159 1.90316093]\n",
      "expected phase estimates at this order from prev order\n",
      "[3.78069145 4.34930837 0.91312364 4.903011  ]\n",
      "[0.02289168 1.90316095 5.07754211 3.56931037]\n",
      "phase estimates at order 1\n",
      "[4.34930837 3.78069144 4.90301101 0.91312365]\n",
      "expected error: 0.001393079166501494\n",
      "trying at order d:  2\n",
      "entering kappa finder\n",
      "input data:\n",
      "[1.445508872853995, 0.8768919437641626, 1.9992115125871042, 4.292509462613532] 0.02 14.356685880406173\n",
      "[50, 48, 249, 98, 299, 201]\n",
      "aliased phase estimates at order 2\n",
      "[0.95983827 6.19187613 2.74303996 5.21604487]\n",
      "expected phase estimates at this order\n",
      "[4.90301101 0.91312365 3.78069144 4.34930837]\n",
      "[0.95983826 5.21604487 2.74303995 6.19187613]\n",
      "expected phase estimates at this order from prev order\n",
      "[4.34930837 3.78069144 4.90301101 0.91312365]\n",
      "[6.19187581 2.74303978 0.95983789 5.21604497]\n",
      "phase estimates at order 2\n",
      "[4.90301101 4.34930837 3.78069144 0.91312365]\n",
      "expected error: 0.0001244055555134444\n",
      "trying at order d:  3\n",
      "entering kappa finder\n",
      "input data:\n",
      "[1.9992115149149075, 1.4455088748166243, 0.8768919449162471, 4.292509462016271] 0.02 160.7645246826507\n",
      "[542, 1099, 2246, 557, 2788, 3345]\n",
      "aliased phase estimates at order 3\n",
      "[0.63080504 2.15298079 3.76044701 5.41808636]\n",
      "expected phase estimates at this order\n",
      "[4.90301101 0.91312365 3.78069144 4.34930837]\n",
      "[2.15298083 5.41808638 0.63080505 3.76044696]\n",
      "expected phase estimates at this order from prev order\n",
      "[4.90301101 4.34930837 3.78069144 0.91312365]\n",
      "[2.15298105 3.7604469  0.63080528 5.41808638]\n",
      "phase estimates at order 3\n",
      "[3.78069144 4.90301101 4.34930837 0.91312365]\n",
      "expected error: 7.0290379498216815e-06\n",
      "trying at order d:  4\n",
      "entering kappa finder\n",
      "input data:\n",
      "[0.8768919448320251, 1.9992115148236849, 1.4455088748525975, 4.292509462010433] 0.02 2845.33959594106\n",
      "[19450, 9854, 59194, 9596, 39744, 49340]\n",
      "aliased phase estimates at order 4\n",
      "[0.014429   1.56063209 3.09397245 4.62166608]\n",
      "expected phase estimates at this order\n",
      "[4.90301101 0.91312365 3.78069144 4.34930837]\n",
      "[1.56063209 3.09397244 0.01442901 4.62166613]\n",
      "expected phase estimates at this order from prev order\n",
      "[3.78069144 4.90301101 4.34930837 0.91312365]\n",
      "[0.0144288  1.56063145 4.62166698 3.09397216]\n",
      "phase estimates at order 4\n",
      "[3.78069144 4.90301101 0.91312365 4.34930837]\n",
      "expected error: 3.8842650425290833e-07\n",
      "('success', 5)\n",
      "qeep-cons 0.02\n"
     ]
    },
    {
     "name": "stderr",
     "output_type": "stream",
     "text": [
      "/home/teobrien/work/projects/heisenberg_limited_multiphase/Alicja_github/qpe/qeep_estimators.py:54: RuntimeWarning: divide by zero encountered in log\n",
      "  numpy.log(1 - confidence**(1 / num_points_sampled)) / error**4)))\n"
     ]
    },
    {
     "name": "stdout",
     "output_type": "stream",
     "text": [
      "phase estimates, order 0\n",
      "[0.91754452 3.76991118 4.34836316 4.90686853]\n",
      "expected error: 0.02\n",
      "entering kappa finder\n",
      "[21, 17, 14, 4, 7, 3]\n",
      "trying at order d:  1\n",
      "aliased phase estimates at order 1\n",
      "[0.05983986 1.91487552 3.53055174 4.90686853]\n",
      "expected phase estimates at this order\n",
      "[4.90301101 0.91312365 3.78069144 4.34930837]\n",
      "[3.54481182 4.91048854 0.06815806 1.91308128]\n",
      "expected phase estimates at this order from prev order\n",
      "[0.91754452 3.76991118 4.34836316 4.90686853]\n",
      "[4.97368279 6.19724474 1.89957002 3.59995317]\n",
      "phase estimates at order 1\n",
      "[3.78010953 4.34943389 4.90201342 0.91287041]\n",
      "expected error: 0.001399137149632019\n",
      "trying at order d:  2\n",
      "entering kappa finder\n",
      "input data:\n",
      "[0.8832900066922251, 1.4526143711952708, 2.0051939014482265, 4.299236193710499] 0.02 14.294524311115687\n",
      "[50, 98, 297, 48, 248, 200]\n",
      "aliased phase estimates at order 2\n",
      "[0.41887902 3.05183286 3.90953752 5.14622797]\n",
      "expected phase estimates at this order\n",
      "[4.90301101 0.91312365 3.78069144 4.34930837]\n",
      "[5.15748857 3.049414   0.43056144 3.91088123]\n",
      "expected phase estimates at this order from prev order\n",
      "[3.78010953 4.34943389 4.90201342 0.91287041]\n",
      "[0.34340809 3.92968031 5.00807956 3.01148551]\n",
      "phase estimates at order 2\n",
      "[3.78061344 0.9131398  4.3492994  4.90293582]\n",
      "expected error: 0.00013353813692900068\n",
      "trying at order d:  3\n",
      "entering kappa finder\n",
      "input data:\n",
      "[0.8837939190951226, 4.299505589232646, 1.452479879694305, 2.006116305504797] 0.02 149.76994931892426\n",
      "[3116, 519, 1024, 2597, 2092, 505]\n",
      "aliased phase estimates at order 3\n",
      "[0.31914592 1.57578298 3.41087202 4.96670839]\n",
      "expected phase estimates at this order\n",
      "[4.90301101 0.91312365 3.78069144 4.34930837]\n",
      "[3.40687676 4.97335997 0.33366546 1.57725733]\n",
      "expected phase estimates at this order from prev order\n",
      "[3.78061344 0.9131398  4.3492994  4.90293582]\n",
      "[0.13956235 5.01354938 1.55493165 3.21978207]\n",
      "phase estimates at order 3\n",
      "[3.78068561 4.34930778 4.90301262 0.91312098]\n",
      "expected error: 8.037213985908836e-06\n",
      "trying at order d:  4\n",
      "entering kappa finder\n",
      "input data:\n",
      "[0.8838660866738466, 1.4524882590249735, 2.006193097045481, 4.299486765676013] 0.02 2488.4244758276686\n",
      "[8618, 17011, 51769, 8392, 43151, 34759]\n"
     ]
    }
   ],
   "source": [
    "from error_analysis_funs import *\n",
    "\n",
    "methods = ['pencil', 'qeep-cons']\n",
    "\n",
    "#phases = np.sort([4.92450833, 1.79547251])\n",
    "rng = np.random.RandomState(43)\n",
    "#phases = rng.uniform(0, 2*np.pi, 4) #[3, 4.1]\n",
    "#[4.77144,    2.82579877, 4.88021636, 0.41070768, 3.06350016]\n",
    "phases = [5.24546792, 0.65845334, 4.67871413, 2.26509356]\n",
    "phases = [4.8222519,  2.94910126, 4.55763116, 1.29759215]\n",
    "phases = [6.01796812, 1.42388327, 3.04547254, 3.09110619]\n",
    "phases = [2.97370168, 1.67763323, 4.82127149, 1.2842484 ]\n",
    "phases = [4.90301101, 0.91312365, 3.78069144, 4.34930837]\n",
    "phases = [2.16439288, 5.13072126, 0.01004995, 1.45654705]\n",
    "phases = [3.39579597, 2.19846845, 1.34311512, 4.99612169]\n",
    "num_phases = len(phases)\n",
    "\n",
    "final_error = 1e-5\n",
    "alpha = 2\n",
    "gamma = 2.4\n",
    "epsilons = [0.02]\n",
    "\n",
    "cutoff = 1/ num_phases / 3\n",
    "\n",
    "amplitudes = np.ones(num_phases)/num_phases\n",
    "\n",
    "estimates = {}\n",
    "costs = {}\n",
    "for method in methods:\n",
    "    estimates[method] = {}\n",
    "    costs[method] = {}\n",
    "\n",
    "for method in methods:\n",
    "    for eps in epsilons:\n",
    "        \n",
    "        print(method, eps)\n",
    "        e,c, error_flag  = multiorder_estimation(method,\n",
    "                             phases, amplitudes,\n",
    "                             eps, alpha, gamma,\n",
    "                             final_error, cutoff)\n",
    "        print(error_flag)\n",
    "        estimates[method][eps] = e\n",
    "        costs[method][eps] = c"
   ]
  },
  {
   "cell_type": "code",
   "execution_count": 1,
   "metadata": {},
   "outputs": [
    {
     "name": "stdout",
     "output_type": "stream",
     "text": [
      "[64, 321, 62, 385, 126, 258]\n",
      "15.670642629671883\n",
      "[6.03754227 4.67262168 1.85865641 3.33897027]\n",
      "1.3336514103737505\n",
      "1.333651410373676\n",
      "1.3649205961188642\n"
     ]
    }
   ],
   "source": [
    "from sparse_qpe import kappa_finder, check_kappa_works, abs_phase_difference\n",
    "import numpy as np\n",
    "\n",
    "phases = np.array([1.4517186975677034, 0.8833266072124437, 4.299071863673749, 2.006089730665623])\n",
    "prev_multiplier = 18.494044745487873\n",
    "new_kappa = 404.7180712989534 / prev_multiplier\n",
    "# for phij in phases:\n",
    "#     for phil in phases:\n",
    "#         phasediff = abs_phase_difference(phij, phil)\n",
    "#         thetadiff = abs_phase_difference(phij * new_kappa * prev_multiplier - phil * new_kappa * prev_multiplier, 0)\n",
    "#         print (phij, phil, phasediff, thetadiff, abs_phase_difference(prev_multiplier * new_kappa * abs(phij - phil), 0),\n",
    "#                abs_phase_difference(prev_multiplier * new_kappa * phasediff, 0))\n",
    "\n",
    "phases = np.array([1.4517186975677034, 0.8833266072124437, 4.299071863673749, 2.006089730665623])\n",
    "prev_multiplier = 18.494044745487873\n",
    "new_kappa =  kappa_finder(phases, 0.02, prev_multiplier)\n",
    "print(new_kappa)\n",
    "print((phases * prev_multiplier * new_kappa) % (2 * np.pi))\n",
    "print(4 * 0.02 * (1 + new_kappa))\n",
    "print(min([abs(phij - phil) for phij in (phases * prev_multiplier * new_kappa) % (2 * np.pi)\n",
    "           for phil in (phases * prev_multiplier * new_kappa) % (2 * np.pi)\n",
    "           if phij != phil]))\n",
    "print(min([(abs(phij - phil) * prev_multiplier * new_kappa) % (2 * np.pi) for phij in phases for phil in phases if phij != phil]))\n",
    "check_kappa_works(phases, new_kappa, 0.02, prev_multiplier)\n",
    "cutoff = (np.pi - 2 * 0.02 * (1 + new_kappa)) / (prev_multiplier * new_kappa)"
   ]
  },
  {
   "cell_type": "code",
   "execution_count": null,
   "metadata": {
    "ExecuteTime": {
     "end_time": "2021-04-14T11:13:07.802952Z",
     "start_time": "2021-04-14T11:13:07.104818Z"
    },
    "scrolled": false
   },
   "outputs": [],
   "source": [
    "plt.figure(figsize = (10, 6))\n",
    "for i,eps in enumerate(epsilons):\n",
    "    plt.subplot(1,len(epsilons),i+1)\n",
    "    for method in methods:\n",
    "        estimation_errors = [get_estimation_errors(estimates[method][eps][:(d+1)], phases)\n",
    "                             for d in range(len(estimates[method][eps]))]\n",
    "        plt.scatter([c for c_vec in costs[method][eps] for c in c_vec],\n",
    "                    [e for e_vec in estimation_errors for e in e_vec ], label = method)\n",
    "    plt.yscale('log')\n",
    "    plt.xscale('log')\n",
    "    plt.title(f'$\\epsilon = {eps}$')\n",
    "    plt.legend()\n",
    "plt.show()"
   ]
  },
  {
   "cell_type": "code",
   "execution_count": null,
   "metadata": {
    "ExecuteTime": {
     "end_time": "2021-04-14T11:13:08.232837Z",
     "start_time": "2021-04-14T11:13:07.804960Z"
    }
   },
   "outputs": [],
   "source": [
    "plt.figure(figsize = (16, 12))\n",
    "i = 0\n",
    "for eps in epsilons:\n",
    "    for method in methods:\n",
    "        i+=1\n",
    "        plt.subplot(len(epsilons), len(methods), i, projection='polar')\n",
    "        plot_phase_estimates(phases, estimates[method][eps], np.ceil(np.log2(2*eps/final_error)).astype('int'))\n",
    "        plt.title(method+f', $\\epsilon$ = {eps}')\n",
    "plt.show()"
   ]
  }
 ],
 "metadata": {
  "hide_input": false,
  "kernelspec": {
   "display_name": "Python 3",
   "language": "python",
   "name": "python3"
  },
  "language_info": {
   "codemirror_mode": {
    "name": "ipython",
    "version": 3
   },
   "file_extension": ".py",
   "mimetype": "text/x-python",
   "name": "python",
   "nbconvert_exporter": "python",
   "pygments_lexer": "ipython3",
   "version": "3.9.2"
  },
  "latex_envs": {
   "LaTeX_envs_menu_present": true,
   "autoclose": true,
   "autocomplete": false,
   "bibliofile": "biblio.bib",
   "cite_by": "apalike",
   "current_citInitial": 1,
   "eqLabelWithNumbers": true,
   "eqNumInitial": 1,
   "hotkeys": {
    "equation": "Ctrl-E",
    "itemize": "Ctrl-I"
   },
   "labels_anchors": false,
   "latex_user_defs": false,
   "report_style_numbering": false,
   "user_envs_cfg": false
  },
  "toc": {
   "base_numbering": 1,
   "nav_menu": {},
   "number_sections": true,
   "sideBar": true,
   "skip_h1_title": true,
   "title_cell": "Table of Contents",
   "title_sidebar": "Contents",
   "toc_cell": true,
   "toc_position": {},
   "toc_section_display": true,
   "toc_window_display": false
  }
 },
 "nbformat": 4,
 "nbformat_minor": 4
}
