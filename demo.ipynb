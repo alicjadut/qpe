{
 "cells": [
  {
   "cell_type": "markdown",
   "metadata": {
    "toc": true
   },
   "source": [
    "<h1>Table of Contents<span class=\"tocSkip\"></span></h1>\n",
    "<div class=\"toc\"><ul class=\"toc-item\"></ul></div>"
   ]
  },
  {
   "cell_type": "code",
   "execution_count": null,
   "metadata": {
    "ExecuteTime": {
     "end_time": "2021-04-14T11:13:07.101825Z",
     "start_time": "2021-04-14T11:12:56.513820Z"
    }
   },
   "outputs": [
    {
     "name": "stderr",
     "output_type": "stream",
     "text": [
      "/home/teobrien/python_envs/standard_env_210406/lib/python3.9/site-packages/ipykernel/ipkernel.py:283: DeprecationWarning: `should_run_async` will not call `transform_cell` automatically in the future. Please pass the result to `transformed_cell` argument and any exception that happen during thetransform in `preprocessing_exc_tuple` in IPython 7.17 and above.\n",
      "  and should_run_async(code)\n",
      "/home/teobrien/work/projects/heisenberg_limited_multiphase/Alicja_github/qpe/qeep_estimators.py:53: RuntimeWarning: divide by zero encountered in log\n",
      "  print(numpy.log(1 - confidence**(1 / num_points_sampled)))\n",
      "/home/teobrien/work/projects/heisenberg_limited_multiphase/Alicja_github/qpe/qeep_estimators.py:59: RuntimeWarning: divide by zero encountered in log\n",
      "  numpy.log(1 - confidence**(1 / num_points_sampled)) / error**4)))\n"
     ]
    },
    {
     "name": "stdout",
     "output_type": "stream",
     "text": [
      "qeep-cons 0.05\n",
      "0.9999999999999913 0.05\n",
      "295\n",
      "1.0\n",
      "-inf\n",
      "num samples: 6090731\n",
      "7\n",
      "[(-13.102224504600471, 3.141592653589793, 7)]\n",
      "0.9999999999958324 0.05\n",
      "295\n",
      "0.9999999999999859\n",
      "-31.89261348321851\n",
      "num samples: 5102819\n",
      "96\n",
      "[(-14.639022507327736, 3.128499601914597, 96)]\n",
      "0.9999999973871865 0.05\n",
      "295\n",
      "0.999999999991143\n",
      "-25.449810048334104\n",
      "num samples: 4071970\n",
      "1405\n",
      "[(-14.704363476335738, 3.1289476898365978, 1405)]\n",
      "0.9999983443086913 0.05\n",
      "295\n",
      "0.9999999943874824\n",
      "-18.998266454829054\n",
      "num samples: 3039723\n",
      "20658\n",
      "[(-14.707665626165454, 3.1290358393919755, 20658)]\n",
      "0.9989502536731323 0.05\n",
      "295\n",
      "0.9999964396751636\n",
      "-12.545658771085046\n",
      "num samples: 2007306\n"
     ]
    }
   ],
   "source": [
    "from error_analysis_funs import *\n",
    "\n",
    "methods = ['qeep-cons', 'pencil']\n",
    "\n",
    "phases = np.sort([4.92450833, 1.79547251])#np.random.uniform(0, 2*np.pi, 3) #[3, 4.1]\n",
    "#[4.77144,    2.82579877, 4.88021636, 0.41070768, 3.06350016]\n",
    "num_phases = len(phases)\n",
    "\n",
    "final_error = 1e-5\n",
    "alpha = 2\n",
    "gamma = 2.4\n",
    "epsilons = [0.05]\n",
    "\n",
    "cutoff = 1/ num_phases / 3\n",
    "\n",
    "amplitudes = np.ones(num_phases)/num_phases\n",
    "\n",
    "estimates = {}\n",
    "costs = {}\n",
    "for method in methods:\n",
    "    estimates[method] = {}\n",
    "    costs[method] = {}\n",
    "\n",
    "for method in methods:\n",
    "    for eps in epsilons:\n",
    "        \n",
    "        print(method, eps)\n",
    "        e,c, error_flag  = multiorder_estimation(method,\n",
    "                             phases, amplitudes,\n",
    "                             eps, alpha, gamma,\n",
    "                             final_error, cutoff)\n",
    "        print(error_flag)\n",
    "        estimates[method][eps] = e\n",
    "        costs[method][eps] = c"
   ]
  },
  {
   "cell_type": "code",
   "execution_count": null,
   "metadata": {
    "ExecuteTime": {
     "end_time": "2021-04-14T11:13:07.802952Z",
     "start_time": "2021-04-14T11:13:07.104818Z"
    },
    "scrolled": false
   },
   "outputs": [],
   "source": [
    "plt.figure(figsize = (10, 6))\n",
    "for i,eps in enumerate(epsilons):\n",
    "    plt.subplot(1,len(epsilons),i+1)\n",
    "    for method in methods:\n",
    "        estimation_errors = [get_estimation_errors(estimates[method][eps][:(d+1)], phases)\n",
    "                             for d in range(len(estimates[method][eps]))]\n",
    "        plt.scatter([c for c_vec in costs[method][eps] for c in c_vec],\n",
    "                    [e for e_vec in estimation_errors for e in e_vec ], label = method)\n",
    "    plt.yscale('log')\n",
    "    plt.xscale('log')\n",
    "    plt.title(f'$\\epsilon = {eps}$')\n",
    "    plt.legend()\n",
    "plt.show()"
   ]
  },
  {
   "cell_type": "code",
   "execution_count": null,
   "metadata": {
    "ExecuteTime": {
     "end_time": "2021-04-14T11:13:08.232837Z",
     "start_time": "2021-04-14T11:13:07.804960Z"
    }
   },
   "outputs": [],
   "source": [
    "plt.figure(figsize = (16, 12))\n",
    "i = 0\n",
    "for eps in epsilons:\n",
    "    for method in methods:\n",
    "        i+=1\n",
    "        plt.subplot(len(epsilons), len(methods), i, projection='polar')\n",
    "        plot_phase_estimates(phases, estimates[method][eps], np.ceil(np.log2(2*eps/final_error)).astype('int'))\n",
    "        plt.title(method+f', $\\epsilon$ = {eps}')\n",
    "plt.show()"
   ]
  }
 ],
 "metadata": {
  "hide_input": false,
  "kernelspec": {
   "display_name": "Python 3",
   "language": "python",
   "name": "python3"
  },
  "language_info": {
   "codemirror_mode": {
    "name": "ipython",
    "version": 3
   },
   "file_extension": ".py",
   "mimetype": "text/x-python",
   "name": "python",
   "nbconvert_exporter": "python",
   "pygments_lexer": "ipython3",
   "version": "3.9.2"
  },
  "latex_envs": {
   "LaTeX_envs_menu_present": true,
   "autoclose": true,
   "autocomplete": false,
   "bibliofile": "biblio.bib",
   "cite_by": "apalike",
   "current_citInitial": 1,
   "eqLabelWithNumbers": true,
   "eqNumInitial": 1,
   "hotkeys": {
    "equation": "Ctrl-E",
    "itemize": "Ctrl-I"
   },
   "labels_anchors": false,
   "latex_user_defs": false,
   "report_style_numbering": false,
   "user_envs_cfg": false
  },
  "toc": {
   "base_numbering": 1,
   "nav_menu": {},
   "number_sections": true,
   "sideBar": true,
   "skip_h1_title": true,
   "title_cell": "Table of Contents",
   "title_sidebar": "Contents",
   "toc_cell": true,
   "toc_position": {},
   "toc_section_display": true,
   "toc_window_display": false
  }
 },
 "nbformat": 4,
 "nbformat_minor": 4
}
